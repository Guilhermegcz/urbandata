{
 "cells": [
  {
   "cell_type": "code",
   "execution_count": 1,
   "metadata": {},
   "outputs": [],
   "source": [
    "#this notebook is use to clean the collected data"
   ]
  },
  {
   "cell_type": "code",
   "execution_count": 2,
   "metadata": {},
   "outputs": [],
   "source": [
    "import pandas as pd\n",
    "import re"
   ]
  },
  {
   "cell_type": "markdown",
   "metadata": {},
   "source": [
    "# Quinto Andar - clean rent apartament raw-data"
   ]
  },
  {
   "cell_type": "markdown",
   "metadata": {},
   "source": [
    "## load"
   ]
  },
  {
   "cell_type": "code",
   "execution_count": 3,
   "metadata": {},
   "outputs": [],
   "source": [
    "df_qa_apartment_raw = pd.read_csv('../data/raw-data/df_qa_apartment_raw.csv')"
   ]
  },
  {
   "cell_type": "code",
   "execution_count": 4,
   "metadata": {
    "scrolled": true
   },
   "outputs": [
    {
     "data": {
      "text/html": [
       "<div>\n",
       "<style scoped>\n",
       "    .dataframe tbody tr th:only-of-type {\n",
       "        vertical-align: middle;\n",
       "    }\n",
       "\n",
       "    .dataframe tbody tr th {\n",
       "        vertical-align: top;\n",
       "    }\n",
       "\n",
       "    .dataframe thead th {\n",
       "        text-align: right;\n",
       "    }\n",
       "</style>\n",
       "<table border=\"1\" class=\"dataframe\">\n",
       "  <thead>\n",
       "    <tr style=\"text-align: right;\">\n",
       "      <th></th>\n",
       "      <th>codigo</th>\n",
       "      <th>endereco</th>\n",
       "      <th>tipo_imovel</th>\n",
       "      <th>logradouro</th>\n",
       "      <th>bairro</th>\n",
       "      <th>cidade</th>\n",
       "      <th>metragem</th>\n",
       "      <th>quartos</th>\n",
       "      <th>banheiros</th>\n",
       "      <th>vaga</th>\n",
       "      <th>andar</th>\n",
       "      <th>mobilia</th>\n",
       "      <th>aluguel</th>\n",
       "      <th>condominio</th>\n",
       "      <th>iptu</th>\n",
       "      <th>preco_total</th>\n",
       "    </tr>\n",
       "  </thead>\n",
       "  <tbody>\n",
       "    <tr>\n",
       "      <th>0</th>\n",
       "      <td>893085878</td>\n",
       "      <td>['street:\"Rua Jaguarete\"', 'lng:-46.6565652', ...</td>\n",
       "      <td>Apartamento para alugar com 2 quartos, 56m²</td>\n",
       "      <td>Rua Jaguarete</td>\n",
       "      <td>Casa Verde</td>\n",
       "      <td>São Paulo</td>\n",
       "      <td>56 m²</td>\n",
       "      <td>2 quartos</td>\n",
       "      <td>2 banheiros</td>\n",
       "      <td>1 vaga</td>\n",
       "      <td>9º andar</td>\n",
       "      <td>Sem mobília</td>\n",
       "      <td>R$ 2.080</td>\n",
       "      <td>R$ 579</td>\n",
       "      <td>R$ 125</td>\n",
       "      <td>R$ 2.811</td>\n",
       "    </tr>\n",
       "    <tr>\n",
       "      <th>1</th>\n",
       "      <td>893085840</td>\n",
       "      <td>['street:\"Rua Jaguarete\"', 'lng:-46.6565652', ...</td>\n",
       "      <td>Apartamento para alugar com 2 quartos, 54m²</td>\n",
       "      <td>Rua Jaguarete</td>\n",
       "      <td>Casa Verde</td>\n",
       "      <td>São Paulo</td>\n",
       "      <td>54 m²</td>\n",
       "      <td>2 quartos</td>\n",
       "      <td>2 banheiros</td>\n",
       "      <td>1 vaga</td>\n",
       "      <td>11º andar</td>\n",
       "      <td>Sem mobília</td>\n",
       "      <td>R$ 2.170</td>\n",
       "      <td>R$ 578</td>\n",
       "      <td>R$ 1.250</td>\n",
       "      <td>R$ 4.026</td>\n",
       "    </tr>\n",
       "  </tbody>\n",
       "</table>\n",
       "</div>"
      ],
      "text/plain": [
       "      codigo                                           endereco  \\\n",
       "0  893085878  ['street:\"Rua Jaguarete\"', 'lng:-46.6565652', ...   \n",
       "1  893085840  ['street:\"Rua Jaguarete\"', 'lng:-46.6565652', ...   \n",
       "\n",
       "                                   tipo_imovel     logradouro       bairro  \\\n",
       "0  Apartamento para alugar com 2 quartos, 56m²  Rua Jaguarete   Casa Verde   \n",
       "1  Apartamento para alugar com 2 quartos, 54m²  Rua Jaguarete   Casa Verde   \n",
       "\n",
       "       cidade metragem    quartos    banheiros    vaga      andar  \\\n",
       "0   São Paulo    56 m²  2 quartos  2 banheiros  1 vaga   9º andar   \n",
       "1   São Paulo    54 m²  2 quartos  2 banheiros  1 vaga  11º andar   \n",
       "\n",
       "       mobilia   aluguel condominio      iptu preco_total  \n",
       "0  Sem mobília  R$ 2.080     R$ 579    R$ 125    R$ 2.811  \n",
       "1  Sem mobília  R$ 2.170     R$ 578  R$ 1.250    R$ 4.026  "
      ]
     },
     "execution_count": 4,
     "metadata": {},
     "output_type": "execute_result"
    }
   ],
   "source": [
    "df_qa_apartment_raw.head(2)"
   ]
  },
  {
   "cell_type": "code",
   "execution_count": 5,
   "metadata": {},
   "outputs": [],
   "source": [
    "def split_elements(row):\n",
    "    row = re.sub('\\'|\\[|\\]|\"','',row).split(',')\n",
    "    return row"
   ]
  },
  {
   "cell_type": "code",
   "execution_count": 6,
   "metadata": {},
   "outputs": [],
   "source": [
    "df_qa_apartment_raw['endereco'] = df_qa_apartment_raw['endereco'].apply(split_elements)"
   ]
  },
  {
   "cell_type": "code",
   "execution_count": 7,
   "metadata": {},
   "outputs": [],
   "source": [
    "addresses = df_qa_apartment_raw.endereco.apply(lambda x : pd.Series(x))"
   ]
  },
  {
   "cell_type": "code",
   "execution_count": 8,
   "metadata": {},
   "outputs": [
    {
     "data": {
      "text/html": [
       "<div>\n",
       "<style scoped>\n",
       "    .dataframe tbody tr th:only-of-type {\n",
       "        vertical-align: middle;\n",
       "    }\n",
       "\n",
       "    .dataframe tbody tr th {\n",
       "        vertical-align: top;\n",
       "    }\n",
       "\n",
       "    .dataframe thead th {\n",
       "        text-align: right;\n",
       "    }\n",
       "</style>\n",
       "<table border=\"1\" class=\"dataframe\">\n",
       "  <thead>\n",
       "    <tr style=\"text-align: right;\">\n",
       "      <th></th>\n",
       "      <th>0</th>\n",
       "      <th>1</th>\n",
       "      <th>2</th>\n",
       "      <th>3</th>\n",
       "      <th>4</th>\n",
       "      <th>5</th>\n",
       "      <th>6</th>\n",
       "      <th>7</th>\n",
       "      <th>8</th>\n",
       "      <th>9</th>\n",
       "      <th>10</th>\n",
       "      <th>11</th>\n",
       "      <th>12</th>\n",
       "      <th>13</th>\n",
       "    </tr>\n",
       "  </thead>\n",
       "  <tbody>\n",
       "    <tr>\n",
       "      <th>0</th>\n",
       "      <td>street:Rua Jaguarete</td>\n",
       "      <td>lng:-46.6565652</td>\n",
       "      <td>number:202</td>\n",
       "      <td>city:São Paulo</td>\n",
       "      <td>zipCode:02515-010</td>\n",
       "      <td>neighborhood:Casa Verde</td>\n",
       "      <td>stateAcronym:SP</td>\n",
       "      <td>country:Brazil</td>\n",
       "      <td>stateName:São Paulo</td>\n",
       "      <td>lat:-23.510311</td>\n",
       "      <td>NaN</td>\n",
       "      <td>NaN</td>\n",
       "      <td>NaN</td>\n",
       "      <td>NaN</td>\n",
       "    </tr>\n",
       "    <tr>\n",
       "      <th>1</th>\n",
       "      <td>street:Rua Jaguarete</td>\n",
       "      <td>lng:-46.6565652</td>\n",
       "      <td>number:202</td>\n",
       "      <td>city:São Paulo</td>\n",
       "      <td>zipCode:02515-010</td>\n",
       "      <td>neighborhood:Casa Verde</td>\n",
       "      <td>stateAcronym:SP</td>\n",
       "      <td>country:Brazil</td>\n",
       "      <td>stateName:São Paulo</td>\n",
       "      <td>lat:-23.510311</td>\n",
       "      <td>NaN</td>\n",
       "      <td>NaN</td>\n",
       "      <td>NaN</td>\n",
       "      <td>NaN</td>\n",
       "    </tr>\n",
       "    <tr>\n",
       "      <th>2</th>\n",
       "      <td>street:Rua Jaguarete</td>\n",
       "      <td>lng:-46.6565652</td>\n",
       "      <td>number:202</td>\n",
       "      <td>city:São Paulo</td>\n",
       "      <td>zipCode:02515-010</td>\n",
       "      <td>neighborhood:Casa Verde</td>\n",
       "      <td>stateAcronym:SP</td>\n",
       "      <td>country:Brazil</td>\n",
       "      <td>stateName:São Paulo</td>\n",
       "      <td>lat:-23.510311</td>\n",
       "      <td>NaN</td>\n",
       "      <td>NaN</td>\n",
       "      <td>NaN</td>\n",
       "      <td>NaN</td>\n",
       "    </tr>\n",
       "    <tr>\n",
       "      <th>3</th>\n",
       "      <td>street:Rua Jaguarete</td>\n",
       "      <td>lng:-46.6565652</td>\n",
       "      <td>number:202</td>\n",
       "      <td>city:São Paulo</td>\n",
       "      <td>zipCode:02515-010</td>\n",
       "      <td>neighborhood:Casa Verde</td>\n",
       "      <td>stateAcronym:SP</td>\n",
       "      <td>country:Brazil</td>\n",
       "      <td>stateName:São Paulo</td>\n",
       "      <td>lat:-23.510311</td>\n",
       "      <td>NaN</td>\n",
       "      <td>NaN</td>\n",
       "      <td>NaN</td>\n",
       "      <td>NaN</td>\n",
       "    </tr>\n",
       "    <tr>\n",
       "      <th>4</th>\n",
       "      <td>street:Rua Jaguarete</td>\n",
       "      <td>lng:-46.6565652</td>\n",
       "      <td>number:202</td>\n",
       "      <td>city:São Paulo</td>\n",
       "      <td>zipCode:02515-010</td>\n",
       "      <td>neighborhood:Casa Verde</td>\n",
       "      <td>stateAcronym:SP</td>\n",
       "      <td>country:Brazil</td>\n",
       "      <td>stateName:São Paulo</td>\n",
       "      <td>lat:-23.510311</td>\n",
       "      <td>NaN</td>\n",
       "      <td>NaN</td>\n",
       "      <td>NaN</td>\n",
       "      <td>NaN</td>\n",
       "    </tr>\n",
       "    <tr>\n",
       "      <th>...</th>\n",
       "      <td>...</td>\n",
       "      <td>...</td>\n",
       "      <td>...</td>\n",
       "      <td>...</td>\n",
       "      <td>...</td>\n",
       "      <td>...</td>\n",
       "      <td>...</td>\n",
       "      <td>...</td>\n",
       "      <td>...</td>\n",
       "      <td>...</td>\n",
       "      <td>...</td>\n",
       "      <td>...</td>\n",
       "      <td>...</td>\n",
       "      <td>...</td>\n",
       "    </tr>\n",
       "    <tr>\n",
       "      <th>665</th>\n",
       "      <td>street:Rua Augusto de Macedo Costa</td>\n",
       "      <td>lng:-46.696173</td>\n",
       "      <td>number:25</td>\n",
       "      <td>city:São Paulo</td>\n",
       "      <td>zipCode:02802-060</td>\n",
       "      <td>neighborhood:Vila Primavera</td>\n",
       "      <td>stateAcronym:SP</td>\n",
       "      <td>country:Brazil</td>\n",
       "      <td>stateName:São Paulo</td>\n",
       "      <td>lat:-23.4882471</td>\n",
       "      <td>NaN</td>\n",
       "      <td>NaN</td>\n",
       "      <td>NaN</td>\n",
       "      <td>NaN</td>\n",
       "    </tr>\n",
       "    <tr>\n",
       "      <th>666</th>\n",
       "      <td>street:Rua Augusto de Macedo Costa</td>\n",
       "      <td>lng:-46.6961397</td>\n",
       "      <td>number:29</td>\n",
       "      <td>city:São Paulo</td>\n",
       "      <td>zipCode:02802-060</td>\n",
       "      <td>neighborhood:Vila Primavera</td>\n",
       "      <td>stateAcronym:SP</td>\n",
       "      <td>country:Brazil</td>\n",
       "      <td>stateName:São Paulo</td>\n",
       "      <td>lat:-23.4882193</td>\n",
       "      <td>NaN</td>\n",
       "      <td>NaN</td>\n",
       "      <td>NaN</td>\n",
       "      <td>NaN</td>\n",
       "    </tr>\n",
       "    <tr>\n",
       "      <th>667</th>\n",
       "      <td>street:Rua Tabatinguera</td>\n",
       "      <td>lng:-46.629622</td>\n",
       "      <td>number:340</td>\n",
       "      <td>city:São Paulo</td>\n",
       "      <td>zipCode:03216-050</td>\n",
       "      <td>neighborhood:Liberdade</td>\n",
       "      <td>stateAcronym:SP</td>\n",
       "      <td>country:Brazil</td>\n",
       "      <td>stateName:São Paulo</td>\n",
       "      <td>lat:-23.5526566</td>\n",
       "      <td>NaN</td>\n",
       "      <td>NaN</td>\n",
       "      <td>NaN</td>\n",
       "      <td>NaN</td>\n",
       "    </tr>\n",
       "    <tr>\n",
       "      <th>668</th>\n",
       "      <td>street:Viaduto Dona Paulina</td>\n",
       "      <td>lng:-46.6357049</td>\n",
       "      <td>number:34</td>\n",
       "      <td>city:São Paulo</td>\n",
       "      <td>zipCode:01501-020</td>\n",
       "      <td>neighborhood:Centro</td>\n",
       "      <td>stateAcronym:SP</td>\n",
       "      <td>country:Brazil</td>\n",
       "      <td>stateName:São Paulo</td>\n",
       "      <td>lat:-23.5518313</td>\n",
       "      <td>NaN</td>\n",
       "      <td>NaN</td>\n",
       "      <td>NaN</td>\n",
       "      <td>NaN</td>\n",
       "    </tr>\n",
       "    <tr>\n",
       "      <th>669</th>\n",
       "      <td>street:Avenida Silvio Siumbata</td>\n",
       "      <td>lng:-46.705714</td>\n",
       "      <td>number:565</td>\n",
       "      <td>city:São Paulo</td>\n",
       "      <td>zipCode:04789-010</td>\n",
       "      <td>neighborhood:Interlagos</td>\n",
       "      <td>stateAcronym:SP</td>\n",
       "      <td>country:Brazil</td>\n",
       "      <td>stateName:São Paulo</td>\n",
       "      <td>lat:-23.7068827</td>\n",
       "      <td>NaN</td>\n",
       "      <td>NaN</td>\n",
       "      <td>NaN</td>\n",
       "      <td>NaN</td>\n",
       "    </tr>\n",
       "  </tbody>\n",
       "</table>\n",
       "<p>670 rows × 14 columns</p>\n",
       "</div>"
      ],
      "text/plain": [
       "                                      0                 1             2  \\\n",
       "0                  street:Rua Jaguarete   lng:-46.6565652    number:202   \n",
       "1                  street:Rua Jaguarete   lng:-46.6565652    number:202   \n",
       "2                  street:Rua Jaguarete   lng:-46.6565652    number:202   \n",
       "3                  street:Rua Jaguarete   lng:-46.6565652    number:202   \n",
       "4                  street:Rua Jaguarete   lng:-46.6565652    number:202   \n",
       "..                                  ...               ...           ...   \n",
       "665  street:Rua Augusto de Macedo Costa    lng:-46.696173     number:25   \n",
       "666  street:Rua Augusto de Macedo Costa   lng:-46.6961397     number:29   \n",
       "667             street:Rua Tabatinguera    lng:-46.629622   number:340    \n",
       "668         street:Viaduto Dona Paulina   lng:-46.6357049     number:34   \n",
       "669      street:Avenida Silvio Siumbata    lng:-46.705714   number:565    \n",
       "\n",
       "                   3                   4                             5  \\\n",
       "0     city:São Paulo   zipCode:02515-010       neighborhood:Casa Verde   \n",
       "1     city:São Paulo   zipCode:02515-010       neighborhood:Casa Verde   \n",
       "2     city:São Paulo   zipCode:02515-010       neighborhood:Casa Verde   \n",
       "3     city:São Paulo   zipCode:02515-010       neighborhood:Casa Verde   \n",
       "4     city:São Paulo   zipCode:02515-010       neighborhood:Casa Verde   \n",
       "..               ...                 ...                           ...   \n",
       "665   city:São Paulo   zipCode:02802-060   neighborhood:Vila Primavera   \n",
       "666   city:São Paulo   zipCode:02802-060   neighborhood:Vila Primavera   \n",
       "667   city:São Paulo   zipCode:03216-050        neighborhood:Liberdade   \n",
       "668   city:São Paulo   zipCode:01501-020           neighborhood:Centro   \n",
       "669   city:São Paulo   zipCode:04789-010       neighborhood:Interlagos   \n",
       "\n",
       "                    6                7                     8  \\\n",
       "0     stateAcronym:SP   country:Brazil   stateName:São Paulo   \n",
       "1     stateAcronym:SP   country:Brazil   stateName:São Paulo   \n",
       "2     stateAcronym:SP   country:Brazil   stateName:São Paulo   \n",
       "3     stateAcronym:SP   country:Brazil   stateName:São Paulo   \n",
       "4     stateAcronym:SP   country:Brazil   stateName:São Paulo   \n",
       "..                ...              ...                   ...   \n",
       "665   stateAcronym:SP   country:Brazil   stateName:São Paulo   \n",
       "666   stateAcronym:SP   country:Brazil   stateName:São Paulo   \n",
       "667   stateAcronym:SP   country:Brazil   stateName:São Paulo   \n",
       "668   stateAcronym:SP   country:Brazil   stateName:São Paulo   \n",
       "669   stateAcronym:SP   country:Brazil   stateName:São Paulo   \n",
       "\n",
       "                    9   10   11   12   13  \n",
       "0      lat:-23.510311  NaN  NaN  NaN  NaN  \n",
       "1      lat:-23.510311  NaN  NaN  NaN  NaN  \n",
       "2      lat:-23.510311  NaN  NaN  NaN  NaN  \n",
       "3      lat:-23.510311  NaN  NaN  NaN  NaN  \n",
       "4      lat:-23.510311  NaN  NaN  NaN  NaN  \n",
       "..                ...  ...  ...  ...  ...  \n",
       "665   lat:-23.4882471  NaN  NaN  NaN  NaN  \n",
       "666   lat:-23.4882193  NaN  NaN  NaN  NaN  \n",
       "667   lat:-23.5526566  NaN  NaN  NaN  NaN  \n",
       "668   lat:-23.5518313  NaN  NaN  NaN  NaN  \n",
       "669   lat:-23.7068827  NaN  NaN  NaN  NaN  \n",
       "\n",
       "[670 rows x 14 columns]"
      ]
     },
     "execution_count": 8,
     "metadata": {},
     "output_type": "execute_result"
    }
   ],
   "source": [
    "addresses"
   ]
  },
  {
   "cell_type": "markdown",
   "metadata": {},
   "source": [
    "## functions"
   ]
  },
  {
   "cell_type": "code",
   "execution_count": 9,
   "metadata": {},
   "outputs": [],
   "source": [
    "def find_numero(row):\n",
    "    numero = re.findall('\\d+',row)\n",
    "    return numero"
   ]
  },
  {
   "cell_type": "code",
   "execution_count": 10,
   "metadata": {},
   "outputs": [],
   "source": [
    "def find_cep(row):\n",
    "    return re.findall('\\d+-\\d+', row)"
   ]
  },
  {
   "cell_type": "code",
   "execution_count": 11,
   "metadata": {},
   "outputs": [],
   "source": [
    "def find_lat_long(row):\n",
    "    if type(row) == str:\n",
    "        return re.findall('\\d+.\\d+',row)\n",
    "    else:\n",
    "        pass"
   ]
  },
  {
   "cell_type": "code",
   "execution_count": 12,
   "metadata": {},
   "outputs": [],
   "source": [
    "def acessa_lista(row):\n",
    "    if type(row) == list:\n",
    "        for x in row:\n",
    "            return x\n",
    "    else:\n",
    "        return row  "
   ]
  },
  {
   "cell_type": "code",
   "execution_count": 13,
   "metadata": {},
   "outputs": [],
   "source": [
    "def clean_metragem_quartos(row):\n",
    "    numero = re.findall('\\d+', row)\n",
    "    return numero"
   ]
  },
  {
   "cell_type": "code",
   "execution_count": 14,
   "metadata": {},
   "outputs": [],
   "source": [
    "def clean_precos(row):\n",
    "    if type(row) == str:\n",
    "        row = row.replace('.','')\n",
    "        row = row.replace(',','')\n",
    "        valor = re.findall('\\d+', row)\n",
    "        return valor\n",
    "    else:\n",
    "        return row"
   ]
  },
  {
   "cell_type": "code",
   "execution_count": 15,
   "metadata": {},
   "outputs": [],
   "source": [
    "def acessa_lista_int(row):\n",
    "    if type(row) == list:\n",
    "        for x in row:\n",
    "            return int(x)\n",
    "    else:\n",
    "        return row  "
   ]
  },
  {
   "cell_type": "code",
   "execution_count": 16,
   "metadata": {},
   "outputs": [],
   "source": [
    "def negative_numbers(row):\n",
    "    if type(row) == str:\n",
    "        row = float(row)*-1\n",
    "        return row\n",
    "    else:\n",
    "        return row"
   ]
  },
  {
   "cell_type": "code",
   "execution_count": 17,
   "metadata": {},
   "outputs": [],
   "source": [
    "lista_tipologias = ['apartamento', 'studio e kitnet','casa']\n",
    "\n",
    "def tipologia(row, lista_tipologias=lista_tipologias):\n",
    "    for tipo in lista_tipologias:\n",
    "        if re.findall(tipo, row, flags=re.IGNORECASE):\n",
    "            return tipo\n",
    "        \n",
    "    return 'outro'"
   ]
  },
  {
   "cell_type": "markdown",
   "metadata": {},
   "source": [
    "## cleaning data"
   ]
  },
  {
   "cell_type": "code",
   "execution_count": 18,
   "metadata": {},
   "outputs": [],
   "source": [
    "addresses['longitude'] = addresses.iloc[:,[1]]\n",
    "addresses['latitude'] = addresses.iloc[:,[9]]"
   ]
  },
  {
   "cell_type": "code",
   "execution_count": 19,
   "metadata": {},
   "outputs": [],
   "source": [
    "addresses['numero'] = addresses.iloc[:,[2]]\n",
    "addresses['cep'] = addresses.iloc[:,[4]]\n",
    "addresses = addresses[['numero','cep','longitude','latitude']]"
   ]
  },
  {
   "cell_type": "code",
   "execution_count": 20,
   "metadata": {
    "collapsed": true
   },
   "outputs": [
    {
     "name": "stderr",
     "output_type": "stream",
     "text": [
      "<ipython-input-20-3ff2aa035701>:1: SettingWithCopyWarning: \n",
      "A value is trying to be set on a copy of a slice from a DataFrame.\n",
      "Try using .loc[row_indexer,col_indexer] = value instead\n",
      "\n",
      "See the caveats in the documentation: https://pandas.pydata.org/pandas-docs/stable/user_guide/indexing.html#returning-a-view-versus-a-copy\n",
      "  addresses['numero'] = addresses['numero'].apply(find_numero)\n",
      "<ipython-input-20-3ff2aa035701>:2: SettingWithCopyWarning: \n",
      "A value is trying to be set on a copy of a slice from a DataFrame.\n",
      "Try using .loc[row_indexer,col_indexer] = value instead\n",
      "\n",
      "See the caveats in the documentation: https://pandas.pydata.org/pandas-docs/stable/user_guide/indexing.html#returning-a-view-versus-a-copy\n",
      "  addresses['cep'] = addresses['cep'].apply(find_cep)\n",
      "<ipython-input-20-3ff2aa035701>:3: SettingWithCopyWarning: \n",
      "A value is trying to be set on a copy of a slice from a DataFrame.\n",
      "Try using .loc[row_indexer,col_indexer] = value instead\n",
      "\n",
      "See the caveats in the documentation: https://pandas.pydata.org/pandas-docs/stable/user_guide/indexing.html#returning-a-view-versus-a-copy\n",
      "  addresses['longitude'] = addresses['longitude'].apply(find_lat_long)\n",
      "<ipython-input-20-3ff2aa035701>:4: SettingWithCopyWarning: \n",
      "A value is trying to be set on a copy of a slice from a DataFrame.\n",
      "Try using .loc[row_indexer,col_indexer] = value instead\n",
      "\n",
      "See the caveats in the documentation: https://pandas.pydata.org/pandas-docs/stable/user_guide/indexing.html#returning-a-view-versus-a-copy\n",
      "  addresses['latitude'] = addresses['latitude'].apply(find_lat_long)\n"
     ]
    }
   ],
   "source": [
    "addresses['numero'] = addresses['numero'].apply(find_numero)\n",
    "addresses['cep'] = addresses['cep'].apply(find_cep)\n",
    "addresses['longitude'] = addresses['longitude'].apply(find_lat_long)\n",
    "addresses['latitude'] = addresses['latitude'].apply(find_lat_long)"
   ]
  },
  {
   "cell_type": "code",
   "execution_count": 21,
   "metadata": {
    "collapsed": true
   },
   "outputs": [
    {
     "name": "stderr",
     "output_type": "stream",
     "text": [
      "<ipython-input-21-227cdb5a84b0>:1: SettingWithCopyWarning: \n",
      "A value is trying to be set on a copy of a slice from a DataFrame.\n",
      "Try using .loc[row_indexer,col_indexer] = value instead\n",
      "\n",
      "See the caveats in the documentation: https://pandas.pydata.org/pandas-docs/stable/user_guide/indexing.html#returning-a-view-versus-a-copy\n",
      "  addresses['numero'] = addresses['numero'].apply(acessa_lista)\n",
      "<ipython-input-21-227cdb5a84b0>:2: SettingWithCopyWarning: \n",
      "A value is trying to be set on a copy of a slice from a DataFrame.\n",
      "Try using .loc[row_indexer,col_indexer] = value instead\n",
      "\n",
      "See the caveats in the documentation: https://pandas.pydata.org/pandas-docs/stable/user_guide/indexing.html#returning-a-view-versus-a-copy\n",
      "  addresses['cep'] = addresses['cep'].apply(acessa_lista)\n",
      "<ipython-input-21-227cdb5a84b0>:3: SettingWithCopyWarning: \n",
      "A value is trying to be set on a copy of a slice from a DataFrame.\n",
      "Try using .loc[row_indexer,col_indexer] = value instead\n",
      "\n",
      "See the caveats in the documentation: https://pandas.pydata.org/pandas-docs/stable/user_guide/indexing.html#returning-a-view-versus-a-copy\n",
      "  addresses['longitude'] = addresses['longitude'].apply(acessa_lista)\n",
      "<ipython-input-21-227cdb5a84b0>:4: SettingWithCopyWarning: \n",
      "A value is trying to be set on a copy of a slice from a DataFrame.\n",
      "Try using .loc[row_indexer,col_indexer] = value instead\n",
      "\n",
      "See the caveats in the documentation: https://pandas.pydata.org/pandas-docs/stable/user_guide/indexing.html#returning-a-view-versus-a-copy\n",
      "  addresses['latitude'] = addresses['latitude'].apply(acessa_lista)\n"
     ]
    }
   ],
   "source": [
    "addresses['numero'] = addresses['numero'].apply(acessa_lista)\n",
    "addresses['cep'] = addresses['cep'].apply(acessa_lista)\n",
    "addresses['longitude'] = addresses['longitude'].apply(acessa_lista)\n",
    "addresses['latitude'] = addresses['latitude'].apply(acessa_lista)"
   ]
  },
  {
   "cell_type": "code",
   "execution_count": 22,
   "metadata": {},
   "outputs": [],
   "source": [
    "df_qa_apartment = pd.concat([df_qa_apartment_raw, addresses], axis=1)\n",
    "df_qa_apartment = df_qa_apartment.drop(columns='endereco')"
   ]
  },
  {
   "cell_type": "code",
   "execution_count": 23,
   "metadata": {
    "scrolled": true
   },
   "outputs": [
    {
     "data": {
      "text/html": [
       "<div>\n",
       "<style scoped>\n",
       "    .dataframe tbody tr th:only-of-type {\n",
       "        vertical-align: middle;\n",
       "    }\n",
       "\n",
       "    .dataframe tbody tr th {\n",
       "        vertical-align: top;\n",
       "    }\n",
       "\n",
       "    .dataframe thead th {\n",
       "        text-align: right;\n",
       "    }\n",
       "</style>\n",
       "<table border=\"1\" class=\"dataframe\">\n",
       "  <thead>\n",
       "    <tr style=\"text-align: right;\">\n",
       "      <th></th>\n",
       "      <th>codigo</th>\n",
       "      <th>tipo_imovel</th>\n",
       "      <th>logradouro</th>\n",
       "      <th>bairro</th>\n",
       "      <th>cidade</th>\n",
       "      <th>metragem</th>\n",
       "      <th>quartos</th>\n",
       "      <th>banheiros</th>\n",
       "      <th>vaga</th>\n",
       "      <th>andar</th>\n",
       "      <th>mobilia</th>\n",
       "      <th>aluguel</th>\n",
       "      <th>condominio</th>\n",
       "      <th>iptu</th>\n",
       "      <th>preco_total</th>\n",
       "      <th>numero</th>\n",
       "      <th>cep</th>\n",
       "      <th>longitude</th>\n",
       "      <th>latitude</th>\n",
       "    </tr>\n",
       "  </thead>\n",
       "  <tbody>\n",
       "    <tr>\n",
       "      <th>0</th>\n",
       "      <td>893085878</td>\n",
       "      <td>Apartamento para alugar com 2 quartos, 56m²</td>\n",
       "      <td>Rua Jaguarete</td>\n",
       "      <td>Casa Verde</td>\n",
       "      <td>São Paulo</td>\n",
       "      <td>56 m²</td>\n",
       "      <td>2 quartos</td>\n",
       "      <td>2 banheiros</td>\n",
       "      <td>1 vaga</td>\n",
       "      <td>9º andar</td>\n",
       "      <td>Sem mobília</td>\n",
       "      <td>R$ 2.080</td>\n",
       "      <td>R$ 579</td>\n",
       "      <td>R$ 125</td>\n",
       "      <td>R$ 2.811</td>\n",
       "      <td>202</td>\n",
       "      <td>02515-010</td>\n",
       "      <td>46.6565652</td>\n",
       "      <td>23.510311</td>\n",
       "    </tr>\n",
       "    <tr>\n",
       "      <th>1</th>\n",
       "      <td>893085840</td>\n",
       "      <td>Apartamento para alugar com 2 quartos, 54m²</td>\n",
       "      <td>Rua Jaguarete</td>\n",
       "      <td>Casa Verde</td>\n",
       "      <td>São Paulo</td>\n",
       "      <td>54 m²</td>\n",
       "      <td>2 quartos</td>\n",
       "      <td>2 banheiros</td>\n",
       "      <td>1 vaga</td>\n",
       "      <td>11º andar</td>\n",
       "      <td>Sem mobília</td>\n",
       "      <td>R$ 2.170</td>\n",
       "      <td>R$ 578</td>\n",
       "      <td>R$ 1.250</td>\n",
       "      <td>R$ 4.026</td>\n",
       "      <td>202</td>\n",
       "      <td>02515-010</td>\n",
       "      <td>46.6565652</td>\n",
       "      <td>23.510311</td>\n",
       "    </tr>\n",
       "    <tr>\n",
       "      <th>2</th>\n",
       "      <td>893085845</td>\n",
       "      <td>Apartamento para alugar com 2 quartos, 49m²</td>\n",
       "      <td>Rua Jaguarete</td>\n",
       "      <td>Casa Verde</td>\n",
       "      <td>São Paulo</td>\n",
       "      <td>49 m²</td>\n",
       "      <td>2 quartos</td>\n",
       "      <td>2 banheiros</td>\n",
       "      <td>1 vaga</td>\n",
       "      <td>8º andar</td>\n",
       "      <td>Sem mobília</td>\n",
       "      <td>R$ 2.320</td>\n",
       "      <td>R$ 517</td>\n",
       "      <td>R$ 125</td>\n",
       "      <td>R$ 2.992</td>\n",
       "      <td>202</td>\n",
       "      <td>02515-010</td>\n",
       "      <td>46.6565652</td>\n",
       "      <td>23.510311</td>\n",
       "    </tr>\n",
       "    <tr>\n",
       "      <th>3</th>\n",
       "      <td>893085857</td>\n",
       "      <td>Apartamento para alugar com 2 quartos, 56m²</td>\n",
       "      <td>Rua Jaguarete</td>\n",
       "      <td>Casa Verde</td>\n",
       "      <td>São Paulo</td>\n",
       "      <td>56 m²</td>\n",
       "      <td>2 quartos</td>\n",
       "      <td>2 banheiros</td>\n",
       "      <td>1 vaga</td>\n",
       "      <td>10º andar</td>\n",
       "      <td>Sem mobília</td>\n",
       "      <td>R$ 2.170</td>\n",
       "      <td>R$ 579</td>\n",
       "      <td>R$ 125</td>\n",
       "      <td>R$ 2.902</td>\n",
       "      <td>202</td>\n",
       "      <td>02515-010</td>\n",
       "      <td>46.6565652</td>\n",
       "      <td>23.510311</td>\n",
       "    </tr>\n",
       "    <tr>\n",
       "      <th>4</th>\n",
       "      <td>893085850</td>\n",
       "      <td>Apartamento para alugar com 2 quartos, 54m²</td>\n",
       "      <td>Rua Jaguarete</td>\n",
       "      <td>Casa Verde</td>\n",
       "      <td>São Paulo</td>\n",
       "      <td>54 m²</td>\n",
       "      <td>2 quartos</td>\n",
       "      <td>2 banheiros</td>\n",
       "      <td>1 vaga</td>\n",
       "      <td>4º andar</td>\n",
       "      <td>Sem mobília</td>\n",
       "      <td>R$ 2.170</td>\n",
       "      <td>R$ 570</td>\n",
       "      <td>R$ 125</td>\n",
       "      <td>R$ 2.893</td>\n",
       "      <td>202</td>\n",
       "      <td>02515-010</td>\n",
       "      <td>46.6565652</td>\n",
       "      <td>23.510311</td>\n",
       "    </tr>\n",
       "  </tbody>\n",
       "</table>\n",
       "</div>"
      ],
      "text/plain": [
       "      codigo                                  tipo_imovel     logradouro  \\\n",
       "0  893085878  Apartamento para alugar com 2 quartos, 56m²  Rua Jaguarete   \n",
       "1  893085840  Apartamento para alugar com 2 quartos, 54m²  Rua Jaguarete   \n",
       "2  893085845  Apartamento para alugar com 2 quartos, 49m²  Rua Jaguarete   \n",
       "3  893085857  Apartamento para alugar com 2 quartos, 56m²  Rua Jaguarete   \n",
       "4  893085850  Apartamento para alugar com 2 quartos, 54m²  Rua Jaguarete   \n",
       "\n",
       "        bairro      cidade metragem    quartos    banheiros    vaga  \\\n",
       "0   Casa Verde   São Paulo    56 m²  2 quartos  2 banheiros  1 vaga   \n",
       "1   Casa Verde   São Paulo    54 m²  2 quartos  2 banheiros  1 vaga   \n",
       "2   Casa Verde   São Paulo    49 m²  2 quartos  2 banheiros  1 vaga   \n",
       "3   Casa Verde   São Paulo    56 m²  2 quartos  2 banheiros  1 vaga   \n",
       "4   Casa Verde   São Paulo    54 m²  2 quartos  2 banheiros  1 vaga   \n",
       "\n",
       "       andar      mobilia   aluguel condominio      iptu preco_total numero  \\\n",
       "0   9º andar  Sem mobília  R$ 2.080     R$ 579    R$ 125    R$ 2.811    202   \n",
       "1  11º andar  Sem mobília  R$ 2.170     R$ 578  R$ 1.250    R$ 4.026    202   \n",
       "2   8º andar  Sem mobília  R$ 2.320     R$ 517    R$ 125    R$ 2.992    202   \n",
       "3  10º andar  Sem mobília  R$ 2.170     R$ 579    R$ 125    R$ 2.902    202   \n",
       "4   4º andar  Sem mobília  R$ 2.170     R$ 570    R$ 125    R$ 2.893    202   \n",
       "\n",
       "         cep   longitude   latitude  \n",
       "0  02515-010  46.6565652  23.510311  \n",
       "1  02515-010  46.6565652  23.510311  \n",
       "2  02515-010  46.6565652  23.510311  \n",
       "3  02515-010  46.6565652  23.510311  \n",
       "4  02515-010  46.6565652  23.510311  "
      ]
     },
     "execution_count": 23,
     "metadata": {},
     "output_type": "execute_result"
    }
   ],
   "source": [
    "df_qa_apartment.head()"
   ]
  },
  {
   "cell_type": "code",
   "execution_count": 24,
   "metadata": {},
   "outputs": [],
   "source": [
    "df_qa_apartment['tipo_imovel'] = df_qa_apartment['tipo_imovel'].apply(tipologia)"
   ]
  },
  {
   "cell_type": "code",
   "execution_count": 25,
   "metadata": {},
   "outputs": [],
   "source": [
    "df_qa_apartment['metragem'] = df_qa_apartment['metragem'].apply(clean_metragem_quartos)\n",
    "df_qa_apartment['quartos'] = df_qa_apartment['quartos'].apply(clean_metragem_quartos)\n",
    "df_qa_apartment['banheiros'] = df_qa_apartment['banheiros'].apply(clean_metragem_quartos)"
   ]
  },
  {
   "cell_type": "code",
   "execution_count": 26,
   "metadata": {},
   "outputs": [],
   "source": [
    "df_qa_apartment['vaga'] = df_qa_apartment['vaga'].apply(clean_metragem_quartos)\n",
    "df_qa_apartment['andar'] = df_qa_apartment['andar'].apply(clean_metragem_quartos)\n",
    "df_qa_apartment['aluguel'] = df_qa_apartment['aluguel'].apply(clean_precos)\n",
    "df_qa_apartment['condominio'] = df_qa_apartment['condominio'].apply(clean_precos)\n",
    "df_qa_apartment['iptu'] = df_qa_apartment['iptu'].apply(clean_precos)\n",
    "df_qa_apartment['preco_total'] = df_qa_apartment['preco_total'].apply(clean_precos)"
   ]
  },
  {
   "cell_type": "code",
   "execution_count": 27,
   "metadata": {},
   "outputs": [],
   "source": [
    "df_qa_apartment['longitude'] = df_qa_apartment['longitude'].apply(negative_numbers)\n",
    "df_qa_apartment['latitude'] = df_qa_apartment['latitude'].apply(negative_numbers)"
   ]
  },
  {
   "cell_type": "code",
   "execution_count": 28,
   "metadata": {},
   "outputs": [],
   "source": [
    "df_qa_apartment['aluguel'] = df_qa_apartment['aluguel'].apply(acessa_lista)\n",
    "df_qa_apartment['condominio'] = df_qa_apartment['condominio'].apply(acessa_lista)\n",
    "df_qa_apartment['iptu'] = df_qa_apartment['iptu'].apply(acessa_lista)\n",
    "df_qa_apartment['preco_total'] = df_qa_apartment['preco_total'].apply(acessa_lista)\n",
    "df_qa_apartment['metragem'] = df_qa_apartment['metragem'].apply(acessa_lista)\n",
    "df_qa_apartment['quartos'] = df_qa_apartment['quartos'].apply(acessa_lista)\n",
    "df_qa_apartment['banheiros'] = df_qa_apartment['banheiros'].apply(acessa_lista)\n",
    "df_qa_apartment['vaga'] = df_qa_apartment['vaga'].apply(acessa_lista)\n",
    "df_qa_apartment['andar'] = df_qa_apartment['andar'].apply(acessa_lista)"
   ]
  },
  {
   "cell_type": "code",
   "execution_count": 29,
   "metadata": {},
   "outputs": [
    {
     "data": {
      "text/html": [
       "<div>\n",
       "<style scoped>\n",
       "    .dataframe tbody tr th:only-of-type {\n",
       "        vertical-align: middle;\n",
       "    }\n",
       "\n",
       "    .dataframe tbody tr th {\n",
       "        vertical-align: top;\n",
       "    }\n",
       "\n",
       "    .dataframe thead th {\n",
       "        text-align: right;\n",
       "    }\n",
       "</style>\n",
       "<table border=\"1\" class=\"dataframe\">\n",
       "  <thead>\n",
       "    <tr style=\"text-align: right;\">\n",
       "      <th></th>\n",
       "      <th>codigo</th>\n",
       "      <th>tipo_imovel</th>\n",
       "      <th>logradouro</th>\n",
       "      <th>bairro</th>\n",
       "      <th>cidade</th>\n",
       "      <th>metragem</th>\n",
       "      <th>quartos</th>\n",
       "      <th>banheiros</th>\n",
       "      <th>vaga</th>\n",
       "      <th>andar</th>\n",
       "      <th>mobilia</th>\n",
       "      <th>aluguel</th>\n",
       "      <th>condominio</th>\n",
       "      <th>iptu</th>\n",
       "      <th>preco_total</th>\n",
       "      <th>numero</th>\n",
       "      <th>cep</th>\n",
       "      <th>longitude</th>\n",
       "      <th>latitude</th>\n",
       "    </tr>\n",
       "  </thead>\n",
       "  <tbody>\n",
       "    <tr>\n",
       "      <th>0</th>\n",
       "      <td>893085878</td>\n",
       "      <td>apartamento</td>\n",
       "      <td>Rua Jaguarete</td>\n",
       "      <td>Casa Verde</td>\n",
       "      <td>São Paulo</td>\n",
       "      <td>56</td>\n",
       "      <td>2</td>\n",
       "      <td>2</td>\n",
       "      <td>1</td>\n",
       "      <td>9</td>\n",
       "      <td>Sem mobília</td>\n",
       "      <td>2080</td>\n",
       "      <td>579</td>\n",
       "      <td>125</td>\n",
       "      <td>2811</td>\n",
       "      <td>202</td>\n",
       "      <td>02515-010</td>\n",
       "      <td>-46.656565</td>\n",
       "      <td>-23.510311</td>\n",
       "    </tr>\n",
       "    <tr>\n",
       "      <th>1</th>\n",
       "      <td>893085840</td>\n",
       "      <td>apartamento</td>\n",
       "      <td>Rua Jaguarete</td>\n",
       "      <td>Casa Verde</td>\n",
       "      <td>São Paulo</td>\n",
       "      <td>54</td>\n",
       "      <td>2</td>\n",
       "      <td>2</td>\n",
       "      <td>1</td>\n",
       "      <td>11</td>\n",
       "      <td>Sem mobília</td>\n",
       "      <td>2170</td>\n",
       "      <td>578</td>\n",
       "      <td>1250</td>\n",
       "      <td>4026</td>\n",
       "      <td>202</td>\n",
       "      <td>02515-010</td>\n",
       "      <td>-46.656565</td>\n",
       "      <td>-23.510311</td>\n",
       "    </tr>\n",
       "    <tr>\n",
       "      <th>2</th>\n",
       "      <td>893085845</td>\n",
       "      <td>apartamento</td>\n",
       "      <td>Rua Jaguarete</td>\n",
       "      <td>Casa Verde</td>\n",
       "      <td>São Paulo</td>\n",
       "      <td>49</td>\n",
       "      <td>2</td>\n",
       "      <td>2</td>\n",
       "      <td>1</td>\n",
       "      <td>8</td>\n",
       "      <td>Sem mobília</td>\n",
       "      <td>2320</td>\n",
       "      <td>517</td>\n",
       "      <td>125</td>\n",
       "      <td>2992</td>\n",
       "      <td>202</td>\n",
       "      <td>02515-010</td>\n",
       "      <td>-46.656565</td>\n",
       "      <td>-23.510311</td>\n",
       "    </tr>\n",
       "    <tr>\n",
       "      <th>3</th>\n",
       "      <td>893085857</td>\n",
       "      <td>apartamento</td>\n",
       "      <td>Rua Jaguarete</td>\n",
       "      <td>Casa Verde</td>\n",
       "      <td>São Paulo</td>\n",
       "      <td>56</td>\n",
       "      <td>2</td>\n",
       "      <td>2</td>\n",
       "      <td>1</td>\n",
       "      <td>10</td>\n",
       "      <td>Sem mobília</td>\n",
       "      <td>2170</td>\n",
       "      <td>579</td>\n",
       "      <td>125</td>\n",
       "      <td>2902</td>\n",
       "      <td>202</td>\n",
       "      <td>02515-010</td>\n",
       "      <td>-46.656565</td>\n",
       "      <td>-23.510311</td>\n",
       "    </tr>\n",
       "    <tr>\n",
       "      <th>4</th>\n",
       "      <td>893085850</td>\n",
       "      <td>apartamento</td>\n",
       "      <td>Rua Jaguarete</td>\n",
       "      <td>Casa Verde</td>\n",
       "      <td>São Paulo</td>\n",
       "      <td>54</td>\n",
       "      <td>2</td>\n",
       "      <td>2</td>\n",
       "      <td>1</td>\n",
       "      <td>4</td>\n",
       "      <td>Sem mobília</td>\n",
       "      <td>2170</td>\n",
       "      <td>570</td>\n",
       "      <td>125</td>\n",
       "      <td>2893</td>\n",
       "      <td>202</td>\n",
       "      <td>02515-010</td>\n",
       "      <td>-46.656565</td>\n",
       "      <td>-23.510311</td>\n",
       "    </tr>\n",
       "  </tbody>\n",
       "</table>\n",
       "</div>"
      ],
      "text/plain": [
       "      codigo  tipo_imovel     logradouro       bairro      cidade metragem  \\\n",
       "0  893085878  apartamento  Rua Jaguarete   Casa Verde   São Paulo       56   \n",
       "1  893085840  apartamento  Rua Jaguarete   Casa Verde   São Paulo       54   \n",
       "2  893085845  apartamento  Rua Jaguarete   Casa Verde   São Paulo       49   \n",
       "3  893085857  apartamento  Rua Jaguarete   Casa Verde   São Paulo       56   \n",
       "4  893085850  apartamento  Rua Jaguarete   Casa Verde   São Paulo       54   \n",
       "\n",
       "  quartos banheiros vaga andar      mobilia aluguel condominio  iptu  \\\n",
       "0       2         2    1     9  Sem mobília    2080        579   125   \n",
       "1       2         2    1    11  Sem mobília    2170        578  1250   \n",
       "2       2         2    1     8  Sem mobília    2320        517   125   \n",
       "3       2         2    1    10  Sem mobília    2170        579   125   \n",
       "4       2         2    1     4  Sem mobília    2170        570   125   \n",
       "\n",
       "  preco_total numero        cep  longitude   latitude  \n",
       "0        2811    202  02515-010 -46.656565 -23.510311  \n",
       "1        4026    202  02515-010 -46.656565 -23.510311  \n",
       "2        2992    202  02515-010 -46.656565 -23.510311  \n",
       "3        2902    202  02515-010 -46.656565 -23.510311  \n",
       "4        2893    202  02515-010 -46.656565 -23.510311  "
      ]
     },
     "execution_count": 29,
     "metadata": {},
     "output_type": "execute_result"
    }
   ],
   "source": [
    "df_qa_apartment.head()"
   ]
  },
  {
   "cell_type": "markdown",
   "metadata": {},
   "source": [
    "## latitude and longitude to utm "
   ]
  },
  {
   "cell_type": "code",
   "execution_count": null,
   "metadata": {},
   "outputs": [],
   "source": [
    "dict_utm = {}\n",
    "\n",
    "for row in range(df_quinto_andar.shape[0]):\n",
    "\n",
    "    lat = df_quinto_andar['latitude'][row]\n",
    "    long = df_quinto_andar['longitude'][row]\n",
    "    try:\n",
    "        y, x, z, k = utm.from_latlon(lat, long)\n",
    "        dict_row_utm = {}\n",
    "        dict_row_utm = {'latitude_utm': round(x,2) , 'longitude_utm' : round(y,2)}\n",
    "        dict_utm[row] = dict_row_utm\n",
    "    except:\n",
    "        dict_utm[row] = dict_row_utm\n",
    "        dict_row_utm = {'latitude_utm': 0 , 'longitude_utm' : 0}"
   ]
  },
  {
   "cell_type": "code",
   "execution_count": null,
   "metadata": {},
   "outputs": [],
   "source": [
    "df_quinto_andar_utm = pd.DataFrame.from_dict(dict_utm, orient='index')\n",
    "df_qa_clean =pd.concat([df_quinto_andar, df_quinto_andar_utm], axis=1)"
   ]
  },
  {
   "cell_type": "markdown",
   "metadata": {},
   "source": [
    "## save"
   ]
  },
  {
   "cell_type": "code",
   "execution_count": 30,
   "metadata": {},
   "outputs": [],
   "source": [
    "df_qa_clean.to_csv('../data/clean-data/df_qa_clean.csv', index = False)"
   ]
  },
  {
   "cell_type": "markdown",
   "metadata": {},
   "source": [
    "# Loft - apartment for sale"
   ]
  },
  {
   "cell_type": "markdown",
   "metadata": {},
   "source": [
    "## load "
   ]
  },
  {
   "cell_type": "code",
   "execution_count": null,
   "metadata": {},
   "outputs": [],
   "source": [
    "df_loft_resumo = df_loft_resumo.reset_index(drop=True)"
   ]
  },
  {
   "cell_type": "markdown",
   "metadata": {},
   "source": [
    "## latitude and longitude to utm "
   ]
  },
  {
   "cell_type": "code",
   "execution_count": null,
   "metadata": {},
   "outputs": [],
   "source": [
    "dict_utm = {}\n",
    "\n",
    "for row in range(df_loft_resumo.shape[0]):\n",
    "\n",
    "    lat = df_loft_resumo['latitude'][row]\n",
    "    long = df_loft_resumo['longitude'][row]\n",
    "    try:\n",
    "        y, x, z, k = utm.from_latlon(lat, long)\n",
    "        dict_row_utm = {}\n",
    "        dict_row_utm = {'latitude_utm': round(x,2) , 'longitude_utm' : round(y,2)}\n",
    "        dict_utm[row] = dict_row_utm\n",
    "    except:\n",
    "        dict_utm[row] = dict_row_utm\n",
    "        dict_row_utm = {'latitude_utm': 0 , 'longitude_utm' : 0}"
   ]
  },
  {
   "cell_type": "code",
   "execution_count": null,
   "metadata": {},
   "outputs": [],
   "source": [
    "df_loft_resumo_utm = pd.DataFrame.from_dict(dict_utm, orient='index')\n",
    "df_loft_resumo =pd.concat([df_loft_resumo, df_loft_resumo_utm], axis=1)"
   ]
  },
  {
   "cell_type": "code",
   "execution_count": null,
   "metadata": {},
   "outputs": [],
   "source": [
    "mask = (df_loft_resumo['latitude_utm'] > 0 ) & (df_loft_resumo['longitude_utm'] > 0 )\n",
    "df_loft_resumo = df_loft_resumo.loc[mask,:]"
   ]
  },
  {
   "cell_type": "markdown",
   "metadata": {},
   "source": [
    "## save "
   ]
  },
  {
   "cell_type": "code",
   "execution_count": null,
   "metadata": {},
   "outputs": [],
   "source": [
    "df_loft_clean.to_csv('../data/clean-data/clean-data/df_loft_clean.csv', index = False)"
   ]
  },
  {
   "cell_type": "markdown",
   "metadata": {},
   "source": [
    "# Google - places"
   ]
  },
  {
   "cell_type": "markdown",
   "metadata": {},
   "source": [
    "## load "
   ]
  },
  {
   "cell_type": "code",
   "execution_count": null,
   "metadata": {},
   "outputs": [],
   "source": [
    "df_google_raw = pd.read_csv('../data/raw-data/df_google_raw.csv')"
   ]
  },
  {
   "cell_type": "markdown",
   "metadata": {},
   "source": [
    "## functions"
   ]
  },
  {
   "cell_type": "code",
   "execution_count": null,
   "metadata": {},
   "outputs": [],
   "source": [
    "def retorna_tipo_lugar(row):\n",
    "    if ('bakery' in row) or ('bar' in row) or ('cafe' in row) or ('restaurant' in row):\n",
    "        return 'lugares_alimentacao'\n",
    "    \n",
    "    elif ('bank' in row) or ('beauty_salon' in row) or ('dentist' in row) or ('gym' in row) or ('laundry' in row) or ('lawyer' in row):\n",
    "        return 'lugares_servicos'\n",
    "    \n",
    "    elif ('shopping_mall' in row) or ('supermarket' in row) or ('drugstore' in row) or ('florist' in row) or ('gas_station' in row) or ('parking' in row) or ('pharmacy' in row):\n",
    "        return 'lugares_comercio'\n",
    "    \n",
    "    elif ('subway_station' in row) or ('train_station' in row):\n",
    "        return 'lugares_metro_trem'\n",
    "    \n",
    "    elif ('doctor' in row) or ('hospital' in row):\n",
    "        return 'lugares_saude'\n",
    "    \n",
    "    elif ('library' in row) or ('primary_school' in row) or ('school' in row) or ('secondary_school' in row) or ('university' in row):\n",
    "        return 'lugares_educacao'\n",
    "    \n",
    "    elif ('museum' in row):\n",
    "        return 'lugares_cultura'\n",
    "    \n",
    "    elif ('church' in row) or ('cemetery' in row) or ('synagogue' in row):\n",
    "        return 'lugares_religiosos'\n",
    "    \n",
    "    elif ('park' in row):\n",
    "        return 'lugares_parques'\n",
    "    \n",
    "    elif ('fire_station' in row) or ('police' in row) or ('post_office' in row):\n",
    "        return 'lugares_governamentais'\n",
    "    \n",
    "    elif ('stadium' in row):\n",
    "        return 'lugares_estadios'\n",
    "    \n",
    "    elif ('bus_station' in row):\n",
    "        return 'lugares_transporte'\n",
    "    \n",
    "    elif ('tourist_attraction' in row):\n",
    "        return 'lugares_turismo'\n",
    "    \n",
    "    else:\n",
    "        return 'outros'"
   ]
  },
  {
   "cell_type": "markdown",
   "metadata": {},
   "source": [
    "## cleaning"
   ]
  },
  {
   "cell_type": "code",
   "execution_count": null,
   "metadata": {},
   "outputs": [],
   "source": [
    "df_google = df_google.drop_duplicates()"
   ]
  },
  {
   "cell_type": "code",
   "execution_count": null,
   "metadata": {},
   "outputs": [],
   "source": [
    "localizacao = df_google.geometry.apply(lambda x : pd.Series(eval(x)))\n",
    "localizacao = localizacao['location'].apply(lambda x : pd.Series(x))\n",
    "df_google_final = pd.concat([df_google, localizacao], axis=1)"
   ]
  },
  {
   "cell_type": "code",
   "execution_count": null,
   "metadata": {},
   "outputs": [],
   "source": [
    "df_google_final.columns"
   ]
  },
  {
   "cell_type": "code",
   "execution_count": null,
   "metadata": {},
   "outputs": [],
   "source": [
    "df_google_final = df_google_final.drop(columns=['business_status','geometry','icon','opening_hours','photos','reference','permanently_closed','place_id','plus_code'])"
   ]
  },
  {
   "cell_type": "code",
   "execution_count": null,
   "metadata": {},
   "outputs": [],
   "source": [
    "df_google_final['lugares']  = df_google_final['types'].apply(retorna_tipo_lugar)"
   ]
  },
  {
   "cell_type": "code",
   "execution_count": null,
   "metadata": {},
   "outputs": [],
   "source": [
    "df_google_final = df_google_final.reset_index(drop=True)"
   ]
  },
  {
   "cell_type": "code",
   "execution_count": null,
   "metadata": {},
   "outputs": [],
   "source": [
    "df_google_final['lugares'].unique()"
   ]
  },
  {
   "cell_type": "markdown",
   "metadata": {},
   "source": [
    "## latitude and longitude to utm "
   ]
  },
  {
   "cell_type": "code",
   "execution_count": null,
   "metadata": {},
   "outputs": [],
   "source": [
    "dict_utm = {}\n",
    "\n",
    "for row in range(df_google_final.shape[0]):\n",
    "\n",
    "    lat = df_google_final['lat'][row]\n",
    "    long = df_google_final['lng'][row]\n",
    "\n",
    "    y, x, z, k = utm.from_latlon(lat, long)\n",
    "    dict_row_utm = {}\n",
    "    dict_row_utm = {'latitude_utm': round(x,2) , 'longitude_utm' : round(y,2)}\n",
    "    dict_utm[row] = dict_row_utm"
   ]
  },
  {
   "cell_type": "code",
   "execution_count": null,
   "metadata": {},
   "outputs": [],
   "source": [
    "df_google_utm = pd.DataFrame.from_dict(dict_utm, orient='index')\n",
    "df_google_final =pd.concat([df_google_final, df_google_utm], axis=1)"
   ]
  },
  {
   "cell_type": "code",
   "execution_count": null,
   "metadata": {},
   "outputs": [],
   "source": []
  },
  {
   "cell_type": "markdown",
   "metadata": {},
   "source": [
    "## save "
   ]
  },
  {
   "cell_type": "code",
   "execution_count": null,
   "metadata": {},
   "outputs": [],
   "source": [
    "df_google_clean.to_csv('../data/clean-data/df_google_clean.csv', index=False)"
   ]
  },
  {
   "cell_type": "code",
   "execution_count": null,
   "metadata": {},
   "outputs": [],
   "source": []
  }
 ],
 "metadata": {
  "kernelspec": {
   "display_name": "Python 3",
   "language": "python",
   "name": "python3"
  },
  "language_info": {
   "codemirror_mode": {
    "name": "ipython",
    "version": 3
   },
   "file_extension": ".py",
   "mimetype": "text/x-python",
   "name": "python",
   "nbconvert_exporter": "python",
   "pygments_lexer": "ipython3",
   "version": "3.8.5"
  },
  "toc": {
   "base_numbering": 1,
   "nav_menu": {},
   "number_sections": true,
   "sideBar": true,
   "skip_h1_title": false,
   "title_cell": "Table of Contents",
   "title_sidebar": "Contents",
   "toc_cell": false,
   "toc_position": {
    "height": "calc(100% - 180px)",
    "left": "10px",
    "top": "150px",
    "width": "184.361px"
   },
   "toc_section_display": true,
   "toc_window_display": true
  }
 },
 "nbformat": 4,
 "nbformat_minor": 4
}
