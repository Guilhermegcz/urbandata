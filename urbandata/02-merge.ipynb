{
 "cells": [
  {
   "cell_type": "code",
   "execution_count": 1,
   "metadata": {},
   "outputs": [],
   "source": [
    "import pandas as pd\n",
    "from collections import Counter\n",
    "import matplotlib.pyplot as plt\n",
    "import numpy as np\n",
    "import seaborn as sns"
   ]
  },
  {
   "cell_type": "code",
   "execution_count": 2,
   "metadata": {},
   "outputs": [],
   "source": [
    "df_loft_clean = pd.read_csv('../data/clean-data/df_loft_clean.csv')\n",
    "df_qa_clean = pd.read_csv('../data/clean-data/df_qa_clean.csv')\n",
    "df_google_clean = pd.read_csv('../data/clean-data/df_google_clean.csv')"
   ]
  },
  {
   "cell_type": "markdown",
   "metadata": {},
   "source": [
    "# Merge"
   ]
  },
  {
   "cell_type": "markdown",
   "metadata": {},
   "source": [
    "## Quinto Andar - Google"
   ]
  },
  {
   "cell_type": "code",
   "execution_count": null,
   "metadata": {},
   "outputs": [],
   "source": [
    "dict_places_near = {}\n",
    "\n",
    "for row_quinto in range(df_quinto_andar.shape[0]):\n",
    "    #print('row quinto ' ,row_quinto )\n",
    "    latitude_utm_ape = df_quinto_andar['latitude_utm'][row_quinto]\n",
    "    longitude_utm_ape = df_quinto_andar['longitude_utm'][row_quinto]\n",
    "    \n",
    "    #print('latitude e longitude' ,latitude_utm_ape ,longitude_utm_ape F)\n",
    "    \n",
    "    list_categorias = [] \n",
    "\n",
    "    for row_empresa in range(df_google_final.shape[0]):\n",
    "        #print(row_empresa)\n",
    "        \n",
    "        latitude_empresa = df_google_final['latitude_utm'][row_empresa]\n",
    "        longitude_empresa = df_google_final['longitude_utm'][row_empresa]\n",
    "        #print('latitude e longitude empresa', latitude_empresa , longitude_empresa)\n",
    "        \n",
    "\n",
    "        distancia = 1000\n",
    "        condition1 = latitude_utm_ape - distancia < latitude_empresa < latitude_utm_ape + distancia\n",
    "        condition2 = longitude_utm_ape - distancia < longitude_empresa < longitude_utm_ape + distancia\n",
    "    \n",
    "        if condition1 and condition2:\n",
    "            list_categorias.append(df_google_final['lugares'][row_empresa])\n",
    "        total_empresas = Counter(list_categorias)\n",
    "        #print(total_empresas)\n",
    "    dict_places_near[row_quinto] = total_empresas"
   ]
  },
  {
   "cell_type": "code",
   "execution_count": null,
   "metadata": {},
   "outputs": [],
   "source": [
    "dict_places_near"
   ]
  },
  {
   "cell_type": "code",
   "execution_count": 205,
   "metadata": {},
   "outputs": [],
   "source": [
    "df_catedorias = pd.DataFrame.from_dict(dict_places_near, orient='index').fillna(0)\n"
   ]
  },
  {
   "cell_type": "code",
   "execution_count": 206,
   "metadata": {},
   "outputs": [],
   "source": [
    "df_quinto_empresas = pd.concat([df_quinto_andar, df_catedorias], axis=1).fillna(0)"
   ]
  },
  {
   "cell_type": "code",
   "execution_count": 209,
   "metadata": {},
   "outputs": [],
   "source": [
    "df_qa_merge = df_quinto_empresas"
   ]
  },
  {
   "cell_type": "code",
   "execution_count": 210,
   "metadata": {},
   "outputs": [],
   "source": [
    "df_qa_merge.to_csv('data/merge-data/df_qa_merge.csv', index=False)"
   ]
  },
  {
   "cell_type": "markdown",
   "metadata": {},
   "source": [
    "## Loft - Google "
   ]
  },
  {
   "cell_type": "code",
   "execution_count": 3,
   "metadata": {},
   "outputs": [],
   "source": [
    "dict_places_near = {}\n",
    "\n",
    "for row_loft in range(df_loft.shape[0]):\n",
    "    \n",
    "    latitude_utm_ape = df_loft['latitude_utm'][row_loft]\n",
    "    longitude_utm_ape = df_loft['longitude_utm'][row_loft]\n",
    "    \n",
    "    #print('latitude e longitude' ,latitude_utm_ape ,longitude_utm_ape F)\n",
    "    \n",
    "    list_categorias = [] \n",
    "\n",
    "    for row_empresa in range(df_google_final2.shape[0]):\n",
    "        #print(row_empresa)\n",
    "        \n",
    "        latitude_empresa = df_google_final2['latitude_utm'][row_empresa]\n",
    "        longitude_empresa = df_google_final2['longitude_utm'][row_empresa]\n",
    "        #print('latitude e longitude empresa', latitude_empresa , longitude_empresa)\n",
    "        \n",
    "\n",
    "        distancia = 1000\n",
    "        condition1 = latitude_utm_ape - distancia < latitude_empresa < latitude_utm_ape + distancia\n",
    "        condition2 = longitude_utm_ape - distancia < longitude_empresa < longitude_utm_ape + distancia\n",
    "    \n",
    "        if condition1 and condition2:\n",
    "            list_categorias.append(df_google_final2['lugares'][row_empresa])\n",
    "        total_empresas = Counter(list_categorias)\n",
    "        #print(total_empresas)\n",
    "    dict_places_near[row_loft] = total_empresas"
   ]
  },
  {
   "cell_type": "code",
   "execution_count": 4,
   "metadata": {},
   "outputs": [],
   "source": [
    "df_catedorias = pd.DataFrame.from_dict(dict_places_near, orient='index').fillna(0)\n",
    "df_loft_google = pd.concat([df_loft, df_catedorias], axis=1).fillna(0)"
   ]
  },
  {
   "cell_type": "code",
   "execution_count": 6,
   "metadata": {
    "scrolled": true
   },
   "outputs": [
    {
     "data": {
      "text/html": [
       "<div>\n",
       "<style scoped>\n",
       "    .dataframe tbody tr th:only-of-type {\n",
       "        vertical-align: middle;\n",
       "    }\n",
       "\n",
       "    .dataframe tbody tr th {\n",
       "        vertical-align: top;\n",
       "    }\n",
       "\n",
       "    .dataframe thead th {\n",
       "        text-align: right;\n",
       "    }\n",
       "</style>\n",
       "<table border=\"1\" class=\"dataframe\">\n",
       "  <thead>\n",
       "    <tr style=\"text-align: right;\">\n",
       "      <th></th>\n",
       "      <th>tipo_imovel</th>\n",
       "      <th>logradouro</th>\n",
       "      <th>bairro</th>\n",
       "      <th>numero</th>\n",
       "      <th>metragem</th>\n",
       "      <th>quartos</th>\n",
       "      <th>vaga</th>\n",
       "      <th>preco_total</th>\n",
       "      <th>longitude</th>\n",
       "      <th>latitude</th>\n",
       "      <th>...</th>\n",
       "      <th>lugares_comercio</th>\n",
       "      <th>lugares_cultura</th>\n",
       "      <th>lugares_saude</th>\n",
       "      <th>lugares_educacao</th>\n",
       "      <th>lugares_religiosos</th>\n",
       "      <th>lugares_parques</th>\n",
       "      <th>lugares_estadios</th>\n",
       "      <th>lugares_turismo</th>\n",
       "      <th>lugares_metro_trem</th>\n",
       "      <th>lugares_transporte</th>\n",
       "    </tr>\n",
       "  </thead>\n",
       "  <tbody>\n",
       "    <tr>\n",
       "      <th>0</th>\n",
       "      <td>apartamento</td>\n",
       "      <td>Paes de Barros</td>\n",
       "      <td>Mooca</td>\n",
       "      <td>81</td>\n",
       "      <td>130</td>\n",
       "      <td>3</td>\n",
       "      <td>2</td>\n",
       "      <td>600000.0</td>\n",
       "      <td>-46.587414</td>\n",
       "      <td>-23.569936</td>\n",
       "      <td>...</td>\n",
       "      <td>14.0</td>\n",
       "      <td>1.0</td>\n",
       "      <td>13.0</td>\n",
       "      <td>3.0</td>\n",
       "      <td>30.0</td>\n",
       "      <td>60.0</td>\n",
       "      <td>0.0</td>\n",
       "      <td>0.0</td>\n",
       "      <td>0.0</td>\n",
       "      <td>0.0</td>\n",
       "    </tr>\n",
       "    <tr>\n",
       "      <th>1</th>\n",
       "      <td>apartamento</td>\n",
       "      <td>Guarará</td>\n",
       "      <td>Jardim Paulista</td>\n",
       "      <td>75</td>\n",
       "      <td>130</td>\n",
       "      <td>3</td>\n",
       "      <td>1</td>\n",
       "      <td>0.0</td>\n",
       "      <td>-46.657526</td>\n",
       "      <td>-23.573576</td>\n",
       "      <td>...</td>\n",
       "      <td>131.0</td>\n",
       "      <td>144.0</td>\n",
       "      <td>67.0</td>\n",
       "      <td>1.0</td>\n",
       "      <td>32.0</td>\n",
       "      <td>2.0</td>\n",
       "      <td>160.0</td>\n",
       "      <td>3.0</td>\n",
       "      <td>0.0</td>\n",
       "      <td>0.0</td>\n",
       "    </tr>\n",
       "    <tr>\n",
       "      <th>2</th>\n",
       "      <td>apartamento</td>\n",
       "      <td>Veiga Filho</td>\n",
       "      <td>Higienópolis</td>\n",
       "      <td>122</td>\n",
       "      <td>43</td>\n",
       "      <td>1</td>\n",
       "      <td>0</td>\n",
       "      <td>440000.0</td>\n",
       "      <td>-46.659709</td>\n",
       "      <td>-23.540198</td>\n",
       "      <td>...</td>\n",
       "      <td>80.0</td>\n",
       "      <td>157.0</td>\n",
       "      <td>59.0</td>\n",
       "      <td>76.0</td>\n",
       "      <td>63.0</td>\n",
       "      <td>161.0</td>\n",
       "      <td>84.0</td>\n",
       "      <td>0.0</td>\n",
       "      <td>166.0</td>\n",
       "      <td>0.0</td>\n",
       "    </tr>\n",
       "    <tr>\n",
       "      <th>3</th>\n",
       "      <td>apartamento</td>\n",
       "      <td>Jacaré-Copaíba</td>\n",
       "      <td>Freguesia do Ó</td>\n",
       "      <td>62</td>\n",
       "      <td>66</td>\n",
       "      <td>3</td>\n",
       "      <td>1</td>\n",
       "      <td>300000.0</td>\n",
       "      <td>-46.702246</td>\n",
       "      <td>-23.483577</td>\n",
       "      <td>...</td>\n",
       "      <td>1.0</td>\n",
       "      <td>0.0</td>\n",
       "      <td>0.0</td>\n",
       "      <td>6.0</td>\n",
       "      <td>13.0</td>\n",
       "      <td>2.0</td>\n",
       "      <td>0.0</td>\n",
       "      <td>0.0</td>\n",
       "      <td>0.0</td>\n",
       "      <td>0.0</td>\n",
       "    </tr>\n",
       "    <tr>\n",
       "      <th>4</th>\n",
       "      <td>apartamento</td>\n",
       "      <td>Nebulosas</td>\n",
       "      <td>São Mateus</td>\n",
       "      <td>141</td>\n",
       "      <td>46</td>\n",
       "      <td>2</td>\n",
       "      <td>1</td>\n",
       "      <td>266000.0</td>\n",
       "      <td>-46.460146</td>\n",
       "      <td>-23.611818</td>\n",
       "      <td>...</td>\n",
       "      <td>0.0</td>\n",
       "      <td>0.0</td>\n",
       "      <td>0.0</td>\n",
       "      <td>0.0</td>\n",
       "      <td>16.0</td>\n",
       "      <td>2.0</td>\n",
       "      <td>1.0</td>\n",
       "      <td>0.0</td>\n",
       "      <td>0.0</td>\n",
       "      <td>0.0</td>\n",
       "    </tr>\n",
       "  </tbody>\n",
       "</table>\n",
       "<p>5 rows × 26 columns</p>\n",
       "</div>"
      ],
      "text/plain": [
       "   tipo_imovel      logradouro           bairro numero  metragem  quartos  \\\n",
       "0  apartamento  Paes de Barros            Mooca     81       130        3   \n",
       "1  apartamento         Guarará  Jardim Paulista     75       130        3   \n",
       "2  apartamento     Veiga Filho     Higienópolis    122        43        1   \n",
       "3  apartamento  Jacaré-Copaíba   Freguesia do Ó     62        66        3   \n",
       "4  apartamento       Nebulosas       São Mateus    141        46        2   \n",
       "\n",
       "   vaga  preco_total  longitude   latitude  ... lugares_comercio  \\\n",
       "0     2     600000.0 -46.587414 -23.569936  ...             14.0   \n",
       "1     1          0.0 -46.657526 -23.573576  ...            131.0   \n",
       "2     0     440000.0 -46.659709 -23.540198  ...             80.0   \n",
       "3     1     300000.0 -46.702246 -23.483577  ...              1.0   \n",
       "4     1     266000.0 -46.460146 -23.611818  ...              0.0   \n",
       "\n",
       "   lugares_cultura  lugares_saude  lugares_educacao  lugares_religiosos  \\\n",
       "0              1.0           13.0               3.0                30.0   \n",
       "1            144.0           67.0               1.0                32.0   \n",
       "2            157.0           59.0              76.0                63.0   \n",
       "3              0.0            0.0               6.0                13.0   \n",
       "4              0.0            0.0               0.0                16.0   \n",
       "\n",
       "   lugares_parques  lugares_estadios  lugares_turismo  lugares_metro_trem  \\\n",
       "0             60.0               0.0              0.0                 0.0   \n",
       "1              2.0             160.0              3.0                 0.0   \n",
       "2            161.0              84.0              0.0               166.0   \n",
       "3              2.0               0.0              0.0                 0.0   \n",
       "4              2.0               1.0              0.0                 0.0   \n",
       "\n",
       "   lugares_transporte  \n",
       "0                 0.0  \n",
       "1                 0.0  \n",
       "2                 0.0  \n",
       "3                 0.0  \n",
       "4                 0.0  \n",
       "\n",
       "[5 rows x 26 columns]"
      ]
     },
     "execution_count": 6,
     "metadata": {},
     "output_type": "execute_result"
    }
   ],
   "source": [
    "df_loft_google.head()"
   ]
  },
  {
   "cell_type": "code",
   "execution_count": 5,
   "metadata": {},
   "outputs": [],
   "source": [
    "df_loft_merge.to_csv('data/merge-data/df_loft_merge.csv', index=False)"
   ]
  },
  {
   "cell_type": "code",
   "execution_count": null,
   "metadata": {},
   "outputs": [],
   "source": []
  },
  {
   "cell_type": "code",
   "execution_count": null,
   "metadata": {},
   "outputs": [],
   "source": []
  },
  {
   "cell_type": "code",
   "execution_count": null,
   "metadata": {},
   "outputs": [],
   "source": []
  }
 ],
 "metadata": {
  "kernelspec": {
   "display_name": "Python 3",
   "language": "python",
   "name": "python3"
  },
  "language_info": {
   "codemirror_mode": {
    "name": "ipython",
    "version": 3
   },
   "file_extension": ".py",
   "mimetype": "text/x-python",
   "name": "python",
   "nbconvert_exporter": "python",
   "pygments_lexer": "ipython3",
   "version": "3.8.5"
  },
  "toc": {
   "base_numbering": 1,
   "nav_menu": {},
   "number_sections": true,
   "sideBar": true,
   "skip_h1_title": false,
   "title_cell": "Table of Contents",
   "title_sidebar": "Contents",
   "toc_cell": false,
   "toc_position": {
    "height": "calc(100% - 180px)",
    "left": "10px",
    "top": "150px",
    "width": "165px"
   },
   "toc_section_display": true,
   "toc_window_display": true
  }
 },
 "nbformat": 4,
 "nbformat_minor": 4
}
