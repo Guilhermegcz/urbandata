{
 "cells": [
  {
   "cell_type": "code",
   "execution_count": 545,
   "metadata": {},
   "outputs": [],
   "source": [
    "import pandas as pd\n",
    "import matplotlib.pyplot as plt\n",
    "import numpy as np\n",
    "import seaborn as sns\n",
    "\n",
    "from sklearn.model_selection import train_test_split\n",
    "from sklearn.linear_model import LinearRegression\n",
    "from sklearn.preprocessing import StandardScaler\n",
    "from sklearn.metrics import mean_squared_error\n",
    "from sklearn.tree import DecisionTreeRegressor\n",
    "from sklearn.ensemble import StackingRegressor\n",
    "from sklearn.ensemble import RandomForestRegressor\n",
    "from lightgbm import LGBMRegressor\n",
    "\n",
    "from sklearn.neighbors import KNeighborsRegressor\n",
    "\n",
    "from sklearn.svm import SVR\n",
    "from sklearn.tree import plot_tree\n",
    "\n",
    "\n",
    "from scipy.spatial.distance import pdist, squareform\n",
    "from sklearn.metrics.pairwise import paired_distances\n",
    "from sklearn.metrics.pairwise import euclidean_distances"
   ]
  },
  {
   "cell_type": "markdown",
   "metadata": {},
   "source": [
    "# FUNÇÕES"
   ]
  },
  {
   "cell_type": "code",
   "execution_count": 20,
   "metadata": {},
   "outputs": [],
   "source": [
    "def rmse_modelo(modelo, prediction,X_train, y_test, y_train):\n",
    "    treino = np.sqrt(mean_squared_error(y_train, modelo.predict(X_train)))\n",
    "    teste = np.sqrt(mean_squared_error(y_test, prediction))\n",
    "    score_modelo = modelo.score(X_test, y_test)\n",
    "    print('Erro treino: ', treino)\n",
    "    print('Erro teste: ', teste)\n",
    "    print('Score: ', score_modelo)\n"
   ]
  },
  {
   "cell_type": "code",
   "execution_count": 186,
   "metadata": {},
   "outputs": [],
   "source": [
    "def separa_bairro(row):\n",
    "    try:\n",
    "        row = row.split('-')[1]\n",
    "        row = row.split(',')[0]\n",
    "        return row.strip()\n",
    "    except:\n",
    "        pass"
   ]
  },
  {
   "cell_type": "code",
   "execution_count": 181,
   "metadata": {},
   "outputs": [],
   "source": [
    "def yes_no_category(row):\n",
    "    if row > 50:\n",
    "        return 1\n",
    "    else:\n",
    "        return 0"
   ]
  },
  {
   "cell_type": "code",
   "execution_count": 182,
   "metadata": {},
   "outputs": [],
   "source": [
    "def yes_no_category1(row):\n",
    "    if row > 1:\n",
    "        return 1\n",
    "    else:\n",
    "        return 0"
   ]
  },
  {
   "cell_type": "markdown",
   "metadata": {},
   "source": [
    "# TRATANDO VARIAVEIS"
   ]
  },
  {
   "cell_type": "markdown",
   "metadata": {},
   "source": [
    "## CARREGANDO DATASET"
   ]
  },
  {
   "cell_type": "code",
   "execution_count": 327,
   "metadata": {},
   "outputs": [],
   "source": [
    "df_google = pd.read_csv('data/df_google_final.csv')\n",
    "df_google2 = pd.read_csv('data/df_google_final2.csv')"
   ]
  },
  {
   "cell_type": "code",
   "execution_count": 330,
   "metadata": {},
   "outputs": [],
   "source": [
    "df_google = pd.concat([df_google, df_google2]).reset_index(drop=True).drop_duplicates()"
   ]
  },
  {
   "cell_type": "code",
   "execution_count": 189,
   "metadata": {},
   "outputs": [],
   "source": [
    "df_quinto = pd.read_csv('data/df_quinto_empresas_google.csv')"
   ]
  },
  {
   "cell_type": "code",
   "execution_count": 285,
   "metadata": {},
   "outputs": [],
   "source": [
    "df_loft = pd.read_csv('data/df_loft_google.csv')"
   ]
  },
  {
   "cell_type": "markdown",
   "metadata": {},
   "source": [
    "## CLEANING"
   ]
  },
  {
   "cell_type": "markdown",
   "metadata": {},
   "source": [
    "### LOFT "
   ]
  },
  {
   "cell_type": "code",
   "execution_count": 286,
   "metadata": {},
   "outputs": [
    {
     "data": {
      "text/html": [
       "<div>\n",
       "<style scoped>\n",
       "    .dataframe tbody tr th:only-of-type {\n",
       "        vertical-align: middle;\n",
       "    }\n",
       "\n",
       "    .dataframe tbody tr th {\n",
       "        vertical-align: top;\n",
       "    }\n",
       "\n",
       "    .dataframe thead th {\n",
       "        text-align: right;\n",
       "    }\n",
       "</style>\n",
       "<table border=\"1\" class=\"dataframe\">\n",
       "  <thead>\n",
       "    <tr style=\"text-align: right;\">\n",
       "      <th></th>\n",
       "      <th>tipo_imovel</th>\n",
       "      <th>logradouro</th>\n",
       "      <th>bairro</th>\n",
       "      <th>numero</th>\n",
       "      <th>metragem</th>\n",
       "      <th>quartos</th>\n",
       "      <th>vaga</th>\n",
       "      <th>preco_total</th>\n",
       "      <th>longitude</th>\n",
       "      <th>latitude</th>\n",
       "      <th>...</th>\n",
       "      <th>lugares_comercio</th>\n",
       "      <th>lugares_cultura</th>\n",
       "      <th>lugares_saude</th>\n",
       "      <th>lugares_educacao</th>\n",
       "      <th>lugares_religiosos</th>\n",
       "      <th>lugares_parques</th>\n",
       "      <th>lugares_estadios</th>\n",
       "      <th>lugares_turismo</th>\n",
       "      <th>lugares_metro_trem</th>\n",
       "      <th>lugares_transporte</th>\n",
       "    </tr>\n",
       "  </thead>\n",
       "  <tbody>\n",
       "    <tr>\n",
       "      <th>0</th>\n",
       "      <td>apartamento</td>\n",
       "      <td>Paes de Barros</td>\n",
       "      <td>Mooca</td>\n",
       "      <td>81</td>\n",
       "      <td>130</td>\n",
       "      <td>3</td>\n",
       "      <td>2</td>\n",
       "      <td>600000.0</td>\n",
       "      <td>-46.587414</td>\n",
       "      <td>-23.569936</td>\n",
       "      <td>...</td>\n",
       "      <td>14.0</td>\n",
       "      <td>1.0</td>\n",
       "      <td>13.0</td>\n",
       "      <td>3.0</td>\n",
       "      <td>30.0</td>\n",
       "      <td>60.0</td>\n",
       "      <td>0.0</td>\n",
       "      <td>0.0</td>\n",
       "      <td>0.0</td>\n",
       "      <td>0.0</td>\n",
       "    </tr>\n",
       "    <tr>\n",
       "      <th>1</th>\n",
       "      <td>apartamento</td>\n",
       "      <td>Guarará</td>\n",
       "      <td>Jardim Paulista</td>\n",
       "      <td>75</td>\n",
       "      <td>130</td>\n",
       "      <td>3</td>\n",
       "      <td>1</td>\n",
       "      <td>0.0</td>\n",
       "      <td>-46.657526</td>\n",
       "      <td>-23.573576</td>\n",
       "      <td>...</td>\n",
       "      <td>131.0</td>\n",
       "      <td>144.0</td>\n",
       "      <td>67.0</td>\n",
       "      <td>1.0</td>\n",
       "      <td>32.0</td>\n",
       "      <td>2.0</td>\n",
       "      <td>160.0</td>\n",
       "      <td>3.0</td>\n",
       "      <td>0.0</td>\n",
       "      <td>0.0</td>\n",
       "    </tr>\n",
       "    <tr>\n",
       "      <th>2</th>\n",
       "      <td>apartamento</td>\n",
       "      <td>Veiga Filho</td>\n",
       "      <td>Higienópolis</td>\n",
       "      <td>122</td>\n",
       "      <td>43</td>\n",
       "      <td>1</td>\n",
       "      <td>0</td>\n",
       "      <td>440000.0</td>\n",
       "      <td>-46.659709</td>\n",
       "      <td>-23.540198</td>\n",
       "      <td>...</td>\n",
       "      <td>80.0</td>\n",
       "      <td>157.0</td>\n",
       "      <td>59.0</td>\n",
       "      <td>76.0</td>\n",
       "      <td>63.0</td>\n",
       "      <td>161.0</td>\n",
       "      <td>84.0</td>\n",
       "      <td>0.0</td>\n",
       "      <td>166.0</td>\n",
       "      <td>0.0</td>\n",
       "    </tr>\n",
       "    <tr>\n",
       "      <th>3</th>\n",
       "      <td>apartamento</td>\n",
       "      <td>Jacaré-Copaíba</td>\n",
       "      <td>Freguesia do Ó</td>\n",
       "      <td>62</td>\n",
       "      <td>66</td>\n",
       "      <td>3</td>\n",
       "      <td>1</td>\n",
       "      <td>300000.0</td>\n",
       "      <td>-46.702246</td>\n",
       "      <td>-23.483577</td>\n",
       "      <td>...</td>\n",
       "      <td>1.0</td>\n",
       "      <td>0.0</td>\n",
       "      <td>0.0</td>\n",
       "      <td>6.0</td>\n",
       "      <td>13.0</td>\n",
       "      <td>2.0</td>\n",
       "      <td>0.0</td>\n",
       "      <td>0.0</td>\n",
       "      <td>0.0</td>\n",
       "      <td>0.0</td>\n",
       "    </tr>\n",
       "    <tr>\n",
       "      <th>4</th>\n",
       "      <td>apartamento</td>\n",
       "      <td>Nebulosas</td>\n",
       "      <td>São Mateus</td>\n",
       "      <td>141</td>\n",
       "      <td>46</td>\n",
       "      <td>2</td>\n",
       "      <td>1</td>\n",
       "      <td>266000.0</td>\n",
       "      <td>-46.460146</td>\n",
       "      <td>-23.611818</td>\n",
       "      <td>...</td>\n",
       "      <td>0.0</td>\n",
       "      <td>0.0</td>\n",
       "      <td>0.0</td>\n",
       "      <td>0.0</td>\n",
       "      <td>16.0</td>\n",
       "      <td>2.0</td>\n",
       "      <td>1.0</td>\n",
       "      <td>0.0</td>\n",
       "      <td>0.0</td>\n",
       "      <td>0.0</td>\n",
       "    </tr>\n",
       "    <tr>\n",
       "      <th>...</th>\n",
       "      <td>...</td>\n",
       "      <td>...</td>\n",
       "      <td>...</td>\n",
       "      <td>...</td>\n",
       "      <td>...</td>\n",
       "      <td>...</td>\n",
       "      <td>...</td>\n",
       "      <td>...</td>\n",
       "      <td>...</td>\n",
       "      <td>...</td>\n",
       "      <td>...</td>\n",
       "      <td>...</td>\n",
       "      <td>...</td>\n",
       "      <td>...</td>\n",
       "      <td>...</td>\n",
       "      <td>...</td>\n",
       "      <td>...</td>\n",
       "      <td>...</td>\n",
       "      <td>...</td>\n",
       "      <td>...</td>\n",
       "      <td>...</td>\n",
       "    </tr>\n",
       "    <tr>\n",
       "      <th>2397</th>\n",
       "      <td>apartamento</td>\n",
       "      <td>Maurício Francisco Klabin</td>\n",
       "      <td>Chacara Klabin</td>\n",
       "      <td>161</td>\n",
       "      <td>231</td>\n",
       "      <td>3</td>\n",
       "      <td>4</td>\n",
       "      <td>1865000.0</td>\n",
       "      <td>-46.632258</td>\n",
       "      <td>-23.594701</td>\n",
       "      <td>...</td>\n",
       "      <td>42.0</td>\n",
       "      <td>17.0</td>\n",
       "      <td>43.0</td>\n",
       "      <td>127.0</td>\n",
       "      <td>63.0</td>\n",
       "      <td>59.0</td>\n",
       "      <td>0.0</td>\n",
       "      <td>0.0</td>\n",
       "      <td>307.0</td>\n",
       "      <td>17.0</td>\n",
       "    </tr>\n",
       "    <tr>\n",
       "      <th>2398</th>\n",
       "      <td>apartamento</td>\n",
       "      <td>Cardoso de Almeida</td>\n",
       "      <td>Perdizes</td>\n",
       "      <td>24A</td>\n",
       "      <td>114</td>\n",
       "      <td>3</td>\n",
       "      <td>1</td>\n",
       "      <td>980000.0</td>\n",
       "      <td>-46.670499</td>\n",
       "      <td>-23.540307</td>\n",
       "      <td>...</td>\n",
       "      <td>16.0</td>\n",
       "      <td>153.0</td>\n",
       "      <td>38.0</td>\n",
       "      <td>37.0</td>\n",
       "      <td>35.0</td>\n",
       "      <td>70.0</td>\n",
       "      <td>84.0</td>\n",
       "      <td>76.0</td>\n",
       "      <td>0.0</td>\n",
       "      <td>0.0</td>\n",
       "    </tr>\n",
       "    <tr>\n",
       "      <th>2399</th>\n",
       "      <td>apartamento</td>\n",
       "      <td>Brasílio Machado</td>\n",
       "      <td>Santa Cecília</td>\n",
       "      <td>62</td>\n",
       "      <td>101</td>\n",
       "      <td>2</td>\n",
       "      <td>1</td>\n",
       "      <td>920000.0</td>\n",
       "      <td>-46.658502</td>\n",
       "      <td>-23.536569</td>\n",
       "      <td>...</td>\n",
       "      <td>85.0</td>\n",
       "      <td>56.0</td>\n",
       "      <td>32.0</td>\n",
       "      <td>93.0</td>\n",
       "      <td>72.0</td>\n",
       "      <td>159.0</td>\n",
       "      <td>0.0</td>\n",
       "      <td>6.0</td>\n",
       "      <td>153.0</td>\n",
       "      <td>0.0</td>\n",
       "    </tr>\n",
       "    <tr>\n",
       "      <th>2400</th>\n",
       "      <td>apartamento</td>\n",
       "      <td>Itu</td>\n",
       "      <td>Jardim América</td>\n",
       "      <td>41</td>\n",
       "      <td>172</td>\n",
       "      <td>2</td>\n",
       "      <td>2</td>\n",
       "      <td>0.0</td>\n",
       "      <td>-46.660424</td>\n",
       "      <td>-23.563066</td>\n",
       "      <td>...</td>\n",
       "      <td>366.0</td>\n",
       "      <td>466.0</td>\n",
       "      <td>183.0</td>\n",
       "      <td>91.0</td>\n",
       "      <td>49.0</td>\n",
       "      <td>224.0</td>\n",
       "      <td>0.0</td>\n",
       "      <td>285.0</td>\n",
       "      <td>253.0</td>\n",
       "      <td>96.0</td>\n",
       "    </tr>\n",
       "    <tr>\n",
       "      <th>2401</th>\n",
       "      <td>apartamento</td>\n",
       "      <td>Damiana da Cunha</td>\n",
       "      <td>Santana</td>\n",
       "      <td>24</td>\n",
       "      <td>85</td>\n",
       "      <td>3</td>\n",
       "      <td>2</td>\n",
       "      <td>750000.0</td>\n",
       "      <td>-46.638628</td>\n",
       "      <td>-23.499457</td>\n",
       "      <td>...</td>\n",
       "      <td>2.0</td>\n",
       "      <td>1.0</td>\n",
       "      <td>9.0</td>\n",
       "      <td>0.0</td>\n",
       "      <td>16.0</td>\n",
       "      <td>24.0</td>\n",
       "      <td>0.0</td>\n",
       "      <td>0.0</td>\n",
       "      <td>0.0</td>\n",
       "      <td>0.0</td>\n",
       "    </tr>\n",
       "  </tbody>\n",
       "</table>\n",
       "<p>2402 rows × 26 columns</p>\n",
       "</div>"
      ],
      "text/plain": [
       "      tipo_imovel                 logradouro           bairro numero  \\\n",
       "0     apartamento             Paes de Barros            Mooca     81   \n",
       "1     apartamento                    Guarará  Jardim Paulista     75   \n",
       "2     apartamento                Veiga Filho     Higienópolis    122   \n",
       "3     apartamento             Jacaré-Copaíba   Freguesia do Ó     62   \n",
       "4     apartamento                  Nebulosas       São Mateus    141   \n",
       "...           ...                        ...              ...    ...   \n",
       "2397  apartamento  Maurício Francisco Klabin   Chacara Klabin    161   \n",
       "2398  apartamento         Cardoso de Almeida         Perdizes    24A   \n",
       "2399  apartamento           Brasílio Machado    Santa Cecília     62   \n",
       "2400  apartamento                        Itu   Jardim América     41   \n",
       "2401  apartamento           Damiana da Cunha          Santana     24   \n",
       "\n",
       "      metragem  quartos  vaga  preco_total  longitude   latitude  ...  \\\n",
       "0          130        3     2     600000.0 -46.587414 -23.569936  ...   \n",
       "1          130        3     1          0.0 -46.657526 -23.573576  ...   \n",
       "2           43        1     0     440000.0 -46.659709 -23.540198  ...   \n",
       "3           66        3     1     300000.0 -46.702246 -23.483577  ...   \n",
       "4           46        2     1     266000.0 -46.460146 -23.611818  ...   \n",
       "...        ...      ...   ...          ...        ...        ...  ...   \n",
       "2397       231        3     4    1865000.0 -46.632258 -23.594701  ...   \n",
       "2398       114        3     1     980000.0 -46.670499 -23.540307  ...   \n",
       "2399       101        2     1     920000.0 -46.658502 -23.536569  ...   \n",
       "2400       172        2     2          0.0 -46.660424 -23.563066  ...   \n",
       "2401        85        3     2     750000.0 -46.638628 -23.499457  ...   \n",
       "\n",
       "     lugares_comercio  lugares_cultura  lugares_saude  lugares_educacao  \\\n",
       "0                14.0              1.0           13.0               3.0   \n",
       "1               131.0            144.0           67.0               1.0   \n",
       "2                80.0            157.0           59.0              76.0   \n",
       "3                 1.0              0.0            0.0               6.0   \n",
       "4                 0.0              0.0            0.0               0.0   \n",
       "...               ...              ...            ...               ...   \n",
       "2397             42.0             17.0           43.0             127.0   \n",
       "2398             16.0            153.0           38.0              37.0   \n",
       "2399             85.0             56.0           32.0              93.0   \n",
       "2400            366.0            466.0          183.0              91.0   \n",
       "2401              2.0              1.0            9.0               0.0   \n",
       "\n",
       "      lugares_religiosos  lugares_parques  lugares_estadios  lugares_turismo  \\\n",
       "0                   30.0             60.0               0.0              0.0   \n",
       "1                   32.0              2.0             160.0              3.0   \n",
       "2                   63.0            161.0              84.0              0.0   \n",
       "3                   13.0              2.0               0.0              0.0   \n",
       "4                   16.0              2.0               1.0              0.0   \n",
       "...                  ...              ...               ...              ...   \n",
       "2397                63.0             59.0               0.0              0.0   \n",
       "2398                35.0             70.0              84.0             76.0   \n",
       "2399                72.0            159.0               0.0              6.0   \n",
       "2400                49.0            224.0               0.0            285.0   \n",
       "2401                16.0             24.0               0.0              0.0   \n",
       "\n",
       "      lugares_metro_trem  lugares_transporte  \n",
       "0                    0.0                 0.0  \n",
       "1                    0.0                 0.0  \n",
       "2                  166.0                 0.0  \n",
       "3                    0.0                 0.0  \n",
       "4                    0.0                 0.0  \n",
       "...                  ...                 ...  \n",
       "2397               307.0                17.0  \n",
       "2398                 0.0                 0.0  \n",
       "2399               153.0                 0.0  \n",
       "2400               253.0                96.0  \n",
       "2401                 0.0                 0.0  \n",
       "\n",
       "[2402 rows x 26 columns]"
      ]
     },
     "execution_count": 286,
     "metadata": {},
     "output_type": "execute_result"
    }
   ],
   "source": [
    "df_loft"
   ]
  },
  {
   "cell_type": "code",
   "execution_count": 287,
   "metadata": {},
   "outputs": [],
   "source": [
    "df_loft['lugares_parques'] = df_loft['lugares_parques'].apply(yes_no_category)"
   ]
  },
  {
   "cell_type": "code",
   "execution_count": 288,
   "metadata": {},
   "outputs": [],
   "source": [
    "df_loft['lugares_metro_trem'] = df_loft['lugares_metro_trem'].apply(yes_no_category1)"
   ]
  },
  {
   "cell_type": "code",
   "execution_count": 289,
   "metadata": {},
   "outputs": [],
   "source": [
    "df_loft = df_loft.loc[(df_loft['preco_total'] < 10000000) & (df_loft['preco_total'] != 0) ,:]"
   ]
  },
  {
   "cell_type": "code",
   "execution_count": 290,
   "metadata": {},
   "outputs": [],
   "source": [
    "df_loft.reset_index(inplace=True, drop=True)"
   ]
  },
  {
   "cell_type": "markdown",
   "metadata": {},
   "source": [
    "### QUINTO ANDAR "
   ]
  },
  {
   "cell_type": "code",
   "execution_count": 190,
   "metadata": {
    "scrolled": true
   },
   "outputs": [
    {
     "data": {
      "text/html": [
       "<div>\n",
       "<style scoped>\n",
       "    .dataframe tbody tr th:only-of-type {\n",
       "        vertical-align: middle;\n",
       "    }\n",
       "\n",
       "    .dataframe tbody tr th {\n",
       "        vertical-align: top;\n",
       "    }\n",
       "\n",
       "    .dataframe thead th {\n",
       "        text-align: right;\n",
       "    }\n",
       "</style>\n",
       "<table border=\"1\" class=\"dataframe\">\n",
       "  <thead>\n",
       "    <tr style=\"text-align: right;\">\n",
       "      <th></th>\n",
       "      <th>tipo_imovel</th>\n",
       "      <th>logradouro</th>\n",
       "      <th>bairro</th>\n",
       "      <th>numero</th>\n",
       "      <th>metragem</th>\n",
       "      <th>quartos</th>\n",
       "      <th>banheiros</th>\n",
       "      <th>vaga</th>\n",
       "      <th>preco_total</th>\n",
       "      <th>longitude</th>\n",
       "      <th>...</th>\n",
       "      <th>lugares_comercio</th>\n",
       "      <th>lugares_cultura</th>\n",
       "      <th>lugares_saude</th>\n",
       "      <th>lugares_religiosos</th>\n",
       "      <th>lugares_parques</th>\n",
       "      <th>lugares_estadios</th>\n",
       "      <th>lugares_educacao</th>\n",
       "      <th>lugares_metro_trem</th>\n",
       "      <th>lugares_turismo</th>\n",
       "      <th>lugares_transporte</th>\n",
       "    </tr>\n",
       "  </thead>\n",
       "  <tbody>\n",
       "    <tr>\n",
       "      <th>0</th>\n",
       "      <td>apartamento</td>\n",
       "      <td>Rua Jaguarete</td>\n",
       "      <td>Casa Verde</td>\n",
       "      <td>202.0</td>\n",
       "      <td>56</td>\n",
       "      <td>2</td>\n",
       "      <td>2</td>\n",
       "      <td>1.0</td>\n",
       "      <td>2811</td>\n",
       "      <td>-46.656565</td>\n",
       "      <td>...</td>\n",
       "      <td>12.0</td>\n",
       "      <td>13.0</td>\n",
       "      <td>2.0</td>\n",
       "      <td>15.0</td>\n",
       "      <td>0.0</td>\n",
       "      <td>0.0</td>\n",
       "      <td>0.0</td>\n",
       "      <td>0.0</td>\n",
       "      <td>0.0</td>\n",
       "      <td>0.0</td>\n",
       "    </tr>\n",
       "    <tr>\n",
       "      <th>1</th>\n",
       "      <td>apartamento</td>\n",
       "      <td>Rua Jaguarete</td>\n",
       "      <td>Casa Verde</td>\n",
       "      <td>202.0</td>\n",
       "      <td>54</td>\n",
       "      <td>2</td>\n",
       "      <td>2</td>\n",
       "      <td>1.0</td>\n",
       "      <td>4026</td>\n",
       "      <td>-46.656565</td>\n",
       "      <td>...</td>\n",
       "      <td>12.0</td>\n",
       "      <td>13.0</td>\n",
       "      <td>2.0</td>\n",
       "      <td>15.0</td>\n",
       "      <td>0.0</td>\n",
       "      <td>0.0</td>\n",
       "      <td>0.0</td>\n",
       "      <td>0.0</td>\n",
       "      <td>0.0</td>\n",
       "      <td>0.0</td>\n",
       "    </tr>\n",
       "    <tr>\n",
       "      <th>2</th>\n",
       "      <td>apartamento</td>\n",
       "      <td>Rua Jaguarete</td>\n",
       "      <td>Casa Verde</td>\n",
       "      <td>202.0</td>\n",
       "      <td>49</td>\n",
       "      <td>2</td>\n",
       "      <td>2</td>\n",
       "      <td>1.0</td>\n",
       "      <td>2992</td>\n",
       "      <td>-46.656565</td>\n",
       "      <td>...</td>\n",
       "      <td>12.0</td>\n",
       "      <td>13.0</td>\n",
       "      <td>2.0</td>\n",
       "      <td>15.0</td>\n",
       "      <td>0.0</td>\n",
       "      <td>0.0</td>\n",
       "      <td>0.0</td>\n",
       "      <td>0.0</td>\n",
       "      <td>0.0</td>\n",
       "      <td>0.0</td>\n",
       "    </tr>\n",
       "    <tr>\n",
       "      <th>3</th>\n",
       "      <td>apartamento</td>\n",
       "      <td>Rua Jaguarete</td>\n",
       "      <td>Casa Verde</td>\n",
       "      <td>202.0</td>\n",
       "      <td>56</td>\n",
       "      <td>2</td>\n",
       "      <td>2</td>\n",
       "      <td>1.0</td>\n",
       "      <td>2902</td>\n",
       "      <td>-46.656565</td>\n",
       "      <td>...</td>\n",
       "      <td>12.0</td>\n",
       "      <td>13.0</td>\n",
       "      <td>2.0</td>\n",
       "      <td>15.0</td>\n",
       "      <td>0.0</td>\n",
       "      <td>0.0</td>\n",
       "      <td>0.0</td>\n",
       "      <td>0.0</td>\n",
       "      <td>0.0</td>\n",
       "      <td>0.0</td>\n",
       "    </tr>\n",
       "    <tr>\n",
       "      <th>4</th>\n",
       "      <td>apartamento</td>\n",
       "      <td>Rua Jaguarete</td>\n",
       "      <td>Casa Verde</td>\n",
       "      <td>202.0</td>\n",
       "      <td>54</td>\n",
       "      <td>2</td>\n",
       "      <td>2</td>\n",
       "      <td>1.0</td>\n",
       "      <td>2893</td>\n",
       "      <td>-46.656565</td>\n",
       "      <td>...</td>\n",
       "      <td>12.0</td>\n",
       "      <td>13.0</td>\n",
       "      <td>2.0</td>\n",
       "      <td>15.0</td>\n",
       "      <td>0.0</td>\n",
       "      <td>0.0</td>\n",
       "      <td>0.0</td>\n",
       "      <td>0.0</td>\n",
       "      <td>0.0</td>\n",
       "      <td>0.0</td>\n",
       "    </tr>\n",
       "  </tbody>\n",
       "</table>\n",
       "<p>5 rows × 29 columns</p>\n",
       "</div>"
      ],
      "text/plain": [
       "   tipo_imovel     logradouro      bairro  numero  metragem  quartos  \\\n",
       "0  apartamento  Rua Jaguarete  Casa Verde   202.0        56        2   \n",
       "1  apartamento  Rua Jaguarete  Casa Verde   202.0        54        2   \n",
       "2  apartamento  Rua Jaguarete  Casa Verde   202.0        49        2   \n",
       "3  apartamento  Rua Jaguarete  Casa Verde   202.0        56        2   \n",
       "4  apartamento  Rua Jaguarete  Casa Verde   202.0        54        2   \n",
       "\n",
       "   banheiros  vaga  preco_total  longitude  ...  lugares_comercio  \\\n",
       "0          2   1.0         2811 -46.656565  ...              12.0   \n",
       "1          2   1.0         4026 -46.656565  ...              12.0   \n",
       "2          2   1.0         2992 -46.656565  ...              12.0   \n",
       "3          2   1.0         2902 -46.656565  ...              12.0   \n",
       "4          2   1.0         2893 -46.656565  ...              12.0   \n",
       "\n",
       "  lugares_cultura  lugares_saude  lugares_religiosos  lugares_parques  \\\n",
       "0            13.0            2.0                15.0              0.0   \n",
       "1            13.0            2.0                15.0              0.0   \n",
       "2            13.0            2.0                15.0              0.0   \n",
       "3            13.0            2.0                15.0              0.0   \n",
       "4            13.0            2.0                15.0              0.0   \n",
       "\n",
       "   lugares_estadios  lugares_educacao  lugares_metro_trem  lugares_turismo  \\\n",
       "0               0.0               0.0                 0.0              0.0   \n",
       "1               0.0               0.0                 0.0              0.0   \n",
       "2               0.0               0.0                 0.0              0.0   \n",
       "3               0.0               0.0                 0.0              0.0   \n",
       "4               0.0               0.0                 0.0              0.0   \n",
       "\n",
       "   lugares_transporte  \n",
       "0                 0.0  \n",
       "1                 0.0  \n",
       "2                 0.0  \n",
       "3                 0.0  \n",
       "4                 0.0  \n",
       "\n",
       "[5 rows x 29 columns]"
      ]
     },
     "execution_count": 190,
     "metadata": {},
     "output_type": "execute_result"
    }
   ],
   "source": [
    "df_quinto.head()"
   ]
  },
  {
   "cell_type": "code",
   "execution_count": 191,
   "metadata": {},
   "outputs": [],
   "source": [
    "df_quinto['lugares_parques'] = df_quinto['lugares_parques'].apply(yes_no_category).sum()\n",
    "df_quinto['lugares_metro_trem'] = df_quinto['lugares_metro_trem'].apply(yes_no_category1).sum()"
   ]
  },
  {
   "cell_type": "code",
   "execution_count": null,
   "metadata": {},
   "outputs": [],
   "source": []
  },
  {
   "cell_type": "markdown",
   "metadata": {},
   "source": [
    "# GOOGLE\n"
   ]
  },
  {
   "cell_type": "code",
   "execution_count": 335,
   "metadata": {},
   "outputs": [
    {
     "data": {
      "text/html": [
       "<div>\n",
       "<style scoped>\n",
       "    .dataframe tbody tr th:only-of-type {\n",
       "        vertical-align: middle;\n",
       "    }\n",
       "\n",
       "    .dataframe tbody tr th {\n",
       "        vertical-align: top;\n",
       "    }\n",
       "\n",
       "    .dataframe thead th {\n",
       "        text-align: right;\n",
       "    }\n",
       "</style>\n",
       "<table border=\"1\" class=\"dataframe\">\n",
       "  <thead>\n",
       "    <tr style=\"text-align: right;\">\n",
       "      <th></th>\n",
       "      <th>formatted_address</th>\n",
       "      <th>id</th>\n",
       "      <th>name</th>\n",
       "      <th>price_level</th>\n",
       "      <th>rating</th>\n",
       "      <th>types</th>\n",
       "      <th>user_ratings_total</th>\n",
       "      <th>lat</th>\n",
       "      <th>lng</th>\n",
       "      <th>lugares</th>\n",
       "      <th>latitude_utm</th>\n",
       "      <th>longitude_utm</th>\n",
       "    </tr>\n",
       "  </thead>\n",
       "  <tbody>\n",
       "    <tr>\n",
       "      <th>0</th>\n",
       "      <td>R. Silva Pinto, 379 - Bom Retiro, São Paulo - ...</td>\n",
       "      <td>8bd3aec3c6867c4f89c37431ec487b54419d7b24</td>\n",
       "      <td>Joa Bakery</td>\n",
       "      <td>2.0</td>\n",
       "      <td>4.7</td>\n",
       "      <td>['bakery', 'restaurant', 'food', 'point_of_int...</td>\n",
       "      <td>102.0</td>\n",
       "      <td>-23.528153</td>\n",
       "      <td>-46.639014</td>\n",
       "      <td>lugares_alimentacao</td>\n",
       "      <td>7397056.35</td>\n",
       "      <td>332676.30</td>\n",
       "    </tr>\n",
       "    <tr>\n",
       "      <th>1</th>\n",
       "      <td>R. dos Italianos, 656 - Bom Retiro, São Paulo ...</td>\n",
       "      <td>b199bb1a82563efe32ea4f2e088b31dbce74b2da</td>\n",
       "      <td>Bishop Breads and Pastries</td>\n",
       "      <td>2.0</td>\n",
       "      <td>4.1</td>\n",
       "      <td>['bakery', 'food', 'point_of_interest', 'store...</td>\n",
       "      <td>1391.0</td>\n",
       "      <td>-23.524125</td>\n",
       "      <td>-46.643853</td>\n",
       "      <td>lugares_alimentacao</td>\n",
       "      <td>7397496.69</td>\n",
       "      <td>332177.14</td>\n",
       "    </tr>\n",
       "    <tr>\n",
       "      <th>2</th>\n",
       "      <td>Rua Prates, 563 - Bom Retiro, São Paulo - SP, ...</td>\n",
       "      <td>c10640eb63cd571e3ef859597a0b35f979981152</td>\n",
       "      <td>Bellapan Bakery</td>\n",
       "      <td>2.0</td>\n",
       "      <td>4.6</td>\n",
       "      <td>['bakery', 'cafe', 'food', 'point_of_interest'...</td>\n",
       "      <td>890.0</td>\n",
       "      <td>-23.529061</td>\n",
       "      <td>-46.635881</td>\n",
       "      <td>lugares_alimentacao</td>\n",
       "      <td>7396959.40</td>\n",
       "      <td>332997.38</td>\n",
       "    </tr>\n",
       "    <tr>\n",
       "      <th>3</th>\n",
       "      <td>R. Júlio Conceição, 284 - Bom Retiro, São Paul...</td>\n",
       "      <td>12e77c36ce4cdd0f4af2ccc9049a7cb012943328</td>\n",
       "      <td>Carvalho Family Bakery</td>\n",
       "      <td>2.0</td>\n",
       "      <td>4.0</td>\n",
       "      <td>['bakery', 'food', 'point_of_interest', 'store...</td>\n",
       "      <td>1076.0</td>\n",
       "      <td>-23.526296</td>\n",
       "      <td>-46.639254</td>\n",
       "      <td>lugares_alimentacao</td>\n",
       "      <td>7397261.69</td>\n",
       "      <td>332649.47</td>\n",
       "    </tr>\n",
       "    <tr>\n",
       "      <th>4</th>\n",
       "      <td>R. Guarani, 117 - Bom Retiro, São Paulo - SP, ...</td>\n",
       "      <td>5be7ee33b7c2e139fcfbd2443ab6ca93807ad5b8</td>\n",
       "      <td>Sweet Pang Bakery</td>\n",
       "      <td>2.0</td>\n",
       "      <td>4.5</td>\n",
       "      <td>['bakery', 'food', 'point_of_interest', 'store...</td>\n",
       "      <td>139.0</td>\n",
       "      <td>-23.528653</td>\n",
       "      <td>-46.635027</td>\n",
       "      <td>lugares_alimentacao</td>\n",
       "      <td>7397005.64</td>\n",
       "      <td>333084.03</td>\n",
       "    </tr>\n",
       "  </tbody>\n",
       "</table>\n",
       "</div>"
      ],
      "text/plain": [
       "                                   formatted_address  \\\n",
       "0  R. Silva Pinto, 379 - Bom Retiro, São Paulo - ...   \n",
       "1  R. dos Italianos, 656 - Bom Retiro, São Paulo ...   \n",
       "2  Rua Prates, 563 - Bom Retiro, São Paulo - SP, ...   \n",
       "3  R. Júlio Conceição, 284 - Bom Retiro, São Paul...   \n",
       "4  R. Guarani, 117 - Bom Retiro, São Paulo - SP, ...   \n",
       "\n",
       "                                         id                        name  \\\n",
       "0  8bd3aec3c6867c4f89c37431ec487b54419d7b24                  Joa Bakery   \n",
       "1  b199bb1a82563efe32ea4f2e088b31dbce74b2da  Bishop Breads and Pastries   \n",
       "2  c10640eb63cd571e3ef859597a0b35f979981152             Bellapan Bakery   \n",
       "3  12e77c36ce4cdd0f4af2ccc9049a7cb012943328      Carvalho Family Bakery   \n",
       "4  5be7ee33b7c2e139fcfbd2443ab6ca93807ad5b8           Sweet Pang Bakery   \n",
       "\n",
       "   price_level  rating                                              types  \\\n",
       "0          2.0     4.7  ['bakery', 'restaurant', 'food', 'point_of_int...   \n",
       "1          2.0     4.1  ['bakery', 'food', 'point_of_interest', 'store...   \n",
       "2          2.0     4.6  ['bakery', 'cafe', 'food', 'point_of_interest'...   \n",
       "3          2.0     4.0  ['bakery', 'food', 'point_of_interest', 'store...   \n",
       "4          2.0     4.5  ['bakery', 'food', 'point_of_interest', 'store...   \n",
       "\n",
       "   user_ratings_total        lat        lng              lugares  \\\n",
       "0               102.0 -23.528153 -46.639014  lugares_alimentacao   \n",
       "1              1391.0 -23.524125 -46.643853  lugares_alimentacao   \n",
       "2               890.0 -23.529061 -46.635881  lugares_alimentacao   \n",
       "3              1076.0 -23.526296 -46.639254  lugares_alimentacao   \n",
       "4               139.0 -23.528653 -46.635027  lugares_alimentacao   \n",
       "\n",
       "   latitude_utm  longitude_utm  \n",
       "0    7397056.35      332676.30  \n",
       "1    7397496.69      332177.14  \n",
       "2    7396959.40      332997.38  \n",
       "3    7397261.69      332649.47  \n",
       "4    7397005.64      333084.03  "
      ]
     },
     "execution_count": 335,
     "metadata": {},
     "output_type": "execute_result"
    }
   ],
   "source": [
    "df_google.head()"
   ]
  },
  {
   "cell_type": "code",
   "execution_count": 337,
   "metadata": {},
   "outputs": [],
   "source": [
    "df_google['bairro'] = df_google['formatted_address'].apply(separa_bairro)"
   ]
  },
  {
   "cell_type": "code",
   "execution_count": null,
   "metadata": {},
   "outputs": [],
   "source": []
  },
  {
   "cell_type": "markdown",
   "metadata": {},
   "source": [
    "# PRIMEIROS TESTES"
   ]
  },
  {
   "cell_type": "code",
   "execution_count": 17,
   "metadata": {},
   "outputs": [
    {
     "data": {
      "text/plain": [
       "numero                 0.076840\n",
       "metragem               0.672145\n",
       "quartos                0.522855\n",
       "banheiros              0.673481\n",
       "vaga                   0.513430\n",
       "preco_total            1.000000\n",
       "longitude              0.043507\n",
       "latitude              -0.057595\n",
       "latitude_utm           0.023082\n",
       "longitude_utm         -0.100588\n",
       "latitude_utm.1         0.023082\n",
       "longitude_utm.1       -0.100588\n",
       "lugares_alimentacao    0.217866\n",
       "outros                 0.148810\n",
       "lugares_servicos       0.129265\n",
       "lugares_comercio       0.050112\n",
       "lugares_cultura        0.037278\n",
       "lugares_saude          0.293354\n",
       "lugares_religiosos    -0.003373\n",
       "lugares_parques        0.239115\n",
       "lugares_estadios       0.196843\n",
       "lugares_educacao      -0.026879\n",
       "lugares_metro_trem     0.068414\n",
       "lugares_turismo       -0.045727\n",
       "lugares_transporte     0.063811\n",
       "Name: preco_total, dtype: float64"
      ]
     },
     "execution_count": 17,
     "metadata": {},
     "output_type": "execute_result"
    }
   ],
   "source": [
    "df.corr().loc['preco_total']"
   ]
  },
  {
   "cell_type": "code",
   "execution_count": null,
   "metadata": {},
   "outputs": [],
   "source": []
  },
  {
   "cell_type": "code",
   "execution_count": 18,
   "metadata": {},
   "outputs": [
    {
     "data": {
      "text/plain": [
       "<seaborn.axisgrid.FacetGrid at 0x2bedac26a0>"
      ]
     },
     "execution_count": 18,
     "metadata": {},
     "output_type": "execute_result"
    },
    {
     "data": {
      "text/plain": [
       "<Figure size 432x432 with 0 Axes>"
      ]
     },
     "metadata": {},
     "output_type": "display_data"
    },
    {
     "data": {
      "image/png": "[encoded data removed]",
      "text/plain": [
       "<Figure size 406.125x360 with 1 Axes>"
      ]
     },
     "metadata": {
      "needs_background": "light"
     },
     "output_type": "display_data"
    }
   ],
   "source": [
    "plt.figure(figsize=(6,6))\n",
    "\n",
    "sns.lmplot('lugares_parques','preco_total',data=df, hue='quartos', ci=False,palette=\"Set1\" )"
   ]
  },
  {
   "cell_type": "code",
   "execution_count": 19,
   "metadata": {},
   "outputs": [],
   "source": [
    "mask = (df['latitude_utm'] > 1) & (df['longitude_utm'] >1)\n",
    "df_plot = df.loc[mask,:]"
   ]
  },
  {
   "cell_type": "code",
   "execution_count": 20,
   "metadata": {},
   "outputs": [
    {
     "data": {
      "image/png": "[encoded data removed]",
      "text/plain": [
       "<Figure size 432x432 with 1 Axes>"
      ]
     },
     "metadata": {
      "needs_background": "light"
     },
     "output_type": "display_data"
    }
   ],
   "source": [
    "plt.figure(figsize=(6,6))\n",
    "\n",
    "sns.scatterplot(df_plot['latitude_utm'], df_plot['longitude_utm'], )\n",
    "plt.show()"
   ]
  },
  {
   "cell_type": "markdown",
   "metadata": {},
   "source": [
    "# OUTLIERS"
   ]
  },
  {
   "cell_type": "code",
   "execution_count": 207,
   "metadata": {},
   "outputs": [],
   "source": [
    "df_quinto = df_quinto.loc[(df_quinto['preco_total'] < 8000),:]"
   ]
  },
  {
   "cell_type": "code",
   "execution_count": null,
   "metadata": {},
   "outputs": [],
   "source": []
  },
  {
   "cell_type": "code",
   "execution_count": null,
   "metadata": {},
   "outputs": [],
   "source": []
  },
  {
   "cell_type": "code",
   "execution_count": null,
   "metadata": {},
   "outputs": [],
   "source": []
  },
  {
   "cell_type": "markdown",
   "metadata": {},
   "source": [
    "# REGRESSÃO LINEAR"
   ]
  },
  {
   "cell_type": "markdown",
   "metadata": {},
   "source": [
    "## Preço aluguel baseado no apartamento "
   ]
  },
  {
   "cell_type": "code",
   "execution_count": 193,
   "metadata": {},
   "outputs": [
    {
     "data": {
      "text/plain": [
       "Index(['tipo_imovel', 'logradouro', 'bairro', 'numero', 'metragem', 'quartos',\n",
       "       'banheiros', 'vaga', 'preco_total', 'longitude', 'latitude', 'ruas',\n",
       "       'latitude_utm', 'longitude_utm', 'latitude_utm.1', 'longitude_utm.1',\n",
       "       'lugares_alimentacao', 'outros', 'lugares_servicos', 'lugares_comercio',\n",
       "       'lugares_cultura', 'lugares_saude', 'lugares_religiosos',\n",
       "       'lugares_parques', 'lugares_estadios', 'lugares_educacao',\n",
       "       'lugares_metro_trem', 'lugares_turismo', 'lugares_transporte'],\n",
       "      dtype='object')"
      ]
     },
     "execution_count": 193,
     "metadata": {},
     "output_type": "execute_result"
    }
   ],
   "source": [
    "df_quinto.columns"
   ]
  },
  {
   "cell_type": "code",
   "execution_count": 208,
   "metadata": {
    "scrolled": true
   },
   "outputs": [],
   "source": [
    "X = df_quinto[['metragem','quartos','banheiros','vaga']]\n",
    "y = df_quinto['preco_total']\n",
    "\n",
    "X_train, X_test, y_train, y_test = train_test_split(X, y)\n",
    "\n",
    "model = LinearRegression()\n",
    "\n",
    "scaler = StandardScaler()\n",
    "scaler.fit(X_train)\n",
    "\n",
    "X_train = scaler.transform(X_train)\n",
    "model.fit(X_train, y_train)\n",
    "\n",
    "\n",
    "X_test_std = scaler.transform(X_test)\n",
    "predictions = model.predict(X_test_std)"
   ]
  },
  {
   "cell_type": "code",
   "execution_count": 209,
   "metadata": {},
   "outputs": [
    {
     "name": "stdout",
     "output_type": "stream",
     "text": [
      "Erro treino:  1324.560729743784\n",
      "Erro teste:  1198.9111279549752\n",
      "Score:  -224.24663287473848\n"
     ]
    }
   ],
   "source": [
    "rmse_modelo(model, predictions, X_train, y_test,y_train )"
   ]
  },
  {
   "cell_type": "markdown",
   "metadata": {},
   "source": [
    "## PLOT "
   ]
  },
  {
   "cell_type": "code",
   "execution_count": 210,
   "metadata": {},
   "outputs": [
    {
     "data": {
      "image/png": "[encoded data removed]",
      "text/plain": [
       "<Figure size 864x864 with 1 Axes>"
      ]
     },
     "metadata": {},
     "output_type": "display_data"
    }
   ],
   "source": [
    "sns.set_style(\"white\")\n",
    "fig = plt.figure(figsize=(12,12))\n",
    "sns.scatterplot(df_quinto['metragem'], df_quinto['preco_total'], hue = df_quinto['vaga'], palette='Blues_r', legend=False, markers=False)\n",
    "fig.savefig(\"apresentacao/imagens_complementares/plot_metragem_preco.png\")"
   ]
  },
  {
   "cell_type": "code",
   "execution_count": 213,
   "metadata": {
    "scrolled": true
   },
   "outputs": [
    {
     "data": {
      "image/png": "[encoded data removed]",
      "text/plain": [
       "<Figure size 1152x360 with 3 Axes>"
      ]
     },
     "metadata": {},
     "output_type": "display_data"
    }
   ],
   "source": [
    "f, ax = plt.subplots(1, 3, figsize=(16,5))\n",
    "\n",
    "sns.scatterplot(df_quinto['preco_total'], df_quinto['metragem'], hue = df_quinto['vaga'], ax=ax[0], palette='Blues_r')\n",
    "sns.scatterplot(df_quinto['preco_total'], df_quinto['metragem'], hue = df_quinto['banheiros'], ax=ax[1], palette='copper_r')\n",
    "sns.scatterplot(df_quinto['preco_total'], df_quinto['metragem'], hue = df_quinto['quartos'], ax=ax[2], palette='Greens_r')\n",
    "\n",
    "plt.show()"
   ]
  },
  {
   "cell_type": "code",
   "execution_count": 214,
   "metadata": {},
   "outputs": [
    {
     "data": {
      "text/plain": [
       "<Figure size 432x432 with 0 Axes>"
      ]
     },
     "metadata": {},
     "output_type": "display_data"
    },
    {
     "data": {
      "image/png": "[encoded data removed]",
      "text/plain": [
       "<Figure size 617.875x576 with 1 Axes>"
      ]
     },
     "metadata": {},
     "output_type": "display_data"
    }
   ],
   "source": [
    "plt.figure(figsize=(6,6))\n",
    "sns.lmplot('preco_total', 'metragem', data=df_quinto,hue='quartos', ci=False,palette=\"Set1\", height=8);\n",
    "plt.show()"
   ]
  },
  {
   "cell_type": "markdown",
   "metadata": {},
   "source": [
    "#  ENTORNO - QUINTO ANDAR"
   ]
  },
  {
   "cell_type": "markdown",
   "metadata": {},
   "source": [
    "##  DATA"
   ]
  },
  {
   "cell_type": "code",
   "execution_count": 266,
   "metadata": {},
   "outputs": [],
   "source": [
    "X = df_quinto[['metragem','quartos','banheiros','vaga','lugares_alimentacao','lugares_servicos','lugares_saude','lugares_parques']]\n",
    "y = df_quinto['preco_total']\n",
    "X_train, X_test, y_train, y_test = train_test_split(X, y)\n",
    "\n",
    "scaler = StandardScaler()\n",
    "scaler.fit(X_train)\n",
    "X_train = scaler.transform(X_train)\n",
    "X_test = scaler.transform(X_test)"
   ]
  },
  {
   "cell_type": "markdown",
   "metadata": {},
   "source": [
    "## Linear regression "
   ]
  },
  {
   "cell_type": "code",
   "execution_count": 267,
   "metadata": {},
   "outputs": [
    {
     "name": "stdout",
     "output_type": "stream",
     "text": [
      "Erro treino:  1093.4662830038149\n",
      "Erro teste:  1085.434058743403\n",
      "Score:  0.455623656288068\n"
     ]
    }
   ],
   "source": [
    "linear_reg = LinearRegression()\n",
    "linear_reg.fit(X_train, y_train)\n",
    "predictions_linear = linear_reg.predict(X_test)\n",
    "rmse_modelo(linear_reg, predictions_linear, X_train,y_test,y_train )"
   ]
  },
  {
   "cell_type": "markdown",
   "metadata": {},
   "source": [
    "## DecisionTreeRegressor  "
   ]
  },
  {
   "cell_type": "code",
   "execution_count": 268,
   "metadata": {},
   "outputs": [
    {
     "name": "stdout",
     "output_type": "stream",
     "text": [
      "Erro treino:  1086.2786437895884\n",
      "Erro teste:  1172.3057605602614\n",
      "Score:  0.3649993746768795\n"
     ]
    }
   ],
   "source": [
    "decision_tree_reg = DecisionTreeRegressor(max_depth=4, min_samples_leaf=0.1, random_state=3)\n",
    "decision_tree_reg.fit(X_train, y_train)\n",
    "predictions_tree = decision_tree_reg.predict(X_test)\n",
    "rmse_modelo(decision_tree_reg, predictions_tree, X_train,y_test,y_train )"
   ]
  },
  {
   "cell_type": "code",
   "execution_count": 220,
   "metadata": {},
   "outputs": [
    {
     "data": {
      "image/png": "[encoded data removed]",
      "text/plain": [
       "<Figure size 432x288 with 1 Axes>"
      ]
     },
     "metadata": {},
     "output_type": "display_data"
    }
   ],
   "source": [
    "plot_tree(decision_tree_reg);"
   ]
  },
  {
   "cell_type": "markdown",
   "metadata": {},
   "source": [
    "## Support-vector-regressor"
   ]
  },
  {
   "cell_type": "code",
   "execution_count": 269,
   "metadata": {},
   "outputs": [
    {
     "name": "stdout",
     "output_type": "stream",
     "text": [
      "Erro treino:  1654.5810081520876\n",
      "Erro teste:  1483.3021987369493\n",
      "Score:  -0.016603582534744366\n"
     ]
    }
   ],
   "source": [
    "support_vector_reg = SVR(kernel='rbf')\n",
    "support_vector_reg.fit(X_train, y_train)\n",
    "predictions_svr = support_vector_reg.predict(X_test)\n",
    "rmse_modelo(support_vector_reg, predictions_svr, X_train,y_test,y_train )"
   ]
  },
  {
   "cell_type": "markdown",
   "metadata": {},
   "source": [
    "## K Nearest Regressor"
   ]
  },
  {
   "cell_type": "code",
   "execution_count": 270,
   "metadata": {},
   "outputs": [
    {
     "name": "stdout",
     "output_type": "stream",
     "text": [
      "Erro treino:  1003.0673915854138\n",
      "Erro teste:  995.2745051357683\n",
      "Score:  0.5423029496811423\n"
     ]
    }
   ],
   "source": [
    "knearest_reg = KNeighborsRegressor(20)\n",
    "knearest_reg.fit(X_train, y_train)\n",
    "predictions_knr = knearest_reg.predict(X_test)\n",
    "rmse_modelo(knearest_reg, predictions_knr, X_train,y_test,y_train )"
   ]
  },
  {
   "cell_type": "markdown",
   "metadata": {},
   "source": [
    "## Random Forest Regressor"
   ]
  },
  {
   "cell_type": "code",
   "execution_count": 271,
   "metadata": {},
   "outputs": [
    {
     "name": "stdout",
     "output_type": "stream",
     "text": [
      "Erro treino:  1100.7439531239124\n",
      "Erro teste:  1097.7974028332314\n",
      "Score:  0.443151886308391\n"
     ]
    }
   ],
   "source": [
    "rf_reg = RandomForestRegressor(max_depth=4, min_samples_leaf=0.1, random_state=3)\n",
    "rf_reg.fit(X_train, y_train)\n",
    "predictions_rf = rf_reg.predict(X_test)\n",
    "rmse_modelo(rf_reg, predictions_rf, X_train,y_test,y_train )"
   ]
  },
  {
   "cell_type": "markdown",
   "metadata": {},
   "source": [
    "##  Stacking Classifier"
   ]
  },
  {
   "cell_type": "code",
   "execution_count": 272,
   "metadata": {},
   "outputs": [
    {
     "name": "stdout",
     "output_type": "stream",
     "text": [
      "Erro treino:  998.6031173655597\n",
      "Erro teste:  1009.5162964780537\n",
      "Score:  0.5291104821351444\n"
     ]
    }
   ],
   "source": [
    "estimators = [('LR' ,LinearRegression()), ('DT' ,DecisionTreeRegressor(max_depth=4, min_samples_leaf=0.1)), ('support_vector',SVR(kernel='rbf')),\n",
    "             ('KNreg' ,KNeighborsRegressor(20)), ('random_forest', RandomForestRegressor(max_depth=4, min_samples_leaf=0.1, random_state=3))]\n",
    "\n",
    "stacking = StackingRegressor(estimators=estimators, final_estimator=LinearRegression())\n",
    "\n",
    "\n",
    "stacking.fit(X_train, y_train)\n",
    "predictions_stacking = stacking.predict(X_test)\n",
    "\n",
    "rmse_modelo(stacking, predictions_stacking, X_train,y_test,y_train )"
   ]
  },
  {
   "cell_type": "markdown",
   "metadata": {},
   "source": [
    "##  Light GBM"
   ]
  },
  {
   "cell_type": "code",
   "execution_count": 273,
   "metadata": {},
   "outputs": [
    {
     "name": "stdout",
     "output_type": "stream",
     "text": [
      "Erro treino:  514.9714319044327\n",
      "Erro teste:  1049.6725290940117\n",
      "Score:  0.49090360964349766\n"
     ]
    }
   ],
   "source": [
    "lgbmr = LGBMRegressor()\n",
    "lgbmr.fit(X_train, y_train)\n",
    "predictions_lgbmr = lgbmr.predict(X_test)\n",
    "rmse_modelo(lgbmr, predictions_lgbmr, X_train,y_test,y_train )"
   ]
  },
  {
   "cell_type": "markdown",
   "metadata": {},
   "source": [
    "# LOFT"
   ]
  },
  {
   "cell_type": "markdown",
   "metadata": {},
   "source": [
    "## DATA "
   ]
  },
  {
   "cell_type": "code",
   "execution_count": 301,
   "metadata": {},
   "outputs": [
    {
     "data": {
      "text/plain": [
       "metragem               0.803595\n",
       "quartos                0.503484\n",
       "vaga                   0.587452\n",
       "preco_total            1.000000\n",
       "longitude              0.207621\n",
       "latitude               0.196518\n",
       "latitude_utm           0.196172\n",
       "longitude_utm          0.207640\n",
       "lugares_alimentacao    0.183037\n",
       "lugares_servicos       0.155845\n",
       "outros                 0.019793\n",
       "lugares_comercio       0.057770\n",
       "lugares_cultura        0.045716\n",
       "lugares_saude          0.239608\n",
       "lugares_educacao      -0.032011\n",
       "lugares_religiosos     0.074101\n",
       "lugares_parques        0.174431\n",
       "lugares_estadios       0.065654\n",
       "lugares_turismo       -0.063725\n",
       "lugares_metro_trem     0.147095\n",
       "lugares_transporte    -0.007345\n",
       "Name: preco_total, dtype: float64"
      ]
     },
     "execution_count": 301,
     "metadata": {},
     "output_type": "execute_result"
    }
   ],
   "source": [
    "df_loft.corr().loc['preco_total']"
   ]
  },
  {
   "cell_type": "code",
   "execution_count": 312,
   "metadata": {},
   "outputs": [],
   "source": [
    "X = df_loft[['metragem','quartos','vaga','lugares_comercio','lugares_alimentacao','lugares_servicos','lugares_saude','lugares_parques','latitude','longitude']]\n",
    "y = df_loft['preco_total']\n",
    "X_train, X_test, y_train, y_test = train_test_split(X, y)\n",
    "\n",
    "scaler = StandardScaler()\n",
    "scaler.fit(X_train)\n",
    "X_train = scaler.transform(X_train)\n",
    "X_test = scaler.transform(X_test)"
   ]
  },
  {
   "cell_type": "markdown",
   "metadata": {},
   "source": [
    "## Linear Regression"
   ]
  },
  {
   "cell_type": "code",
   "execution_count": 315,
   "metadata": {},
   "outputs": [
    {
     "name": "stdout",
     "output_type": "stream",
     "text": [
      "Erro treino:  487702.9603050831\n",
      "Erro teste:  391638.8801415494\n",
      "Score:  0.7461389095308857\n"
     ]
    }
   ],
   "source": [
    "linear_reg = LinearRegression()\n",
    "linear_reg.fit(X_train, y_train)\n",
    "predictions_linear = linear_reg.predict(X_test)\n",
    "rmse_modelo(linear_reg, predictions_linear, X_train,y_test,y_train )"
   ]
  },
  {
   "cell_type": "markdown",
   "metadata": {},
   "source": [
    "## Decision Tree Regression"
   ]
  },
  {
   "cell_type": "code",
   "execution_count": 316,
   "metadata": {},
   "outputs": [
    {
     "name": "stdout",
     "output_type": "stream",
     "text": [
      "Erro treino:  579832.4569998666\n",
      "Erro teste:  456848.1922920293\n",
      "Score:  0.6545633902452375\n"
     ]
    }
   ],
   "source": [
    "decision_tree_reg = DecisionTreeRegressor(max_depth=4, min_samples_leaf=0.1, random_state=3)\n",
    "decision_tree_reg.fit(X_train, y_train)\n",
    "predictions_tree = decision_tree_reg.predict(X_test)\n",
    "rmse_modelo(decision_tree_reg, predictions_tree, X_train,y_test,y_train )"
   ]
  },
  {
   "cell_type": "markdown",
   "metadata": {},
   "source": [
    "## Support-vector-regressor"
   ]
  },
  {
   "cell_type": "code",
   "execution_count": 317,
   "metadata": {},
   "outputs": [
    {
     "name": "stdout",
     "output_type": "stream",
     "text": [
      "Erro treino:  977275.032939887\n",
      "Erro teste:  819881.4123072707\n",
      "Score:  -0.11256814787460523\n"
     ]
    }
   ],
   "source": [
    "support_vector_reg = SVR(kernel='rbf')\n",
    "support_vector_reg.fit(X_train, y_train)\n",
    "predictions_svr = support_vector_reg.predict(X_test)\n",
    "rmse_modelo(support_vector_reg, predictions_svr, X_train,y_test,y_train )"
   ]
  },
  {
   "cell_type": "markdown",
   "metadata": {},
   "source": [
    "## K Nearest Regressor"
   ]
  },
  {
   "cell_type": "code",
   "execution_count": 318,
   "metadata": {},
   "outputs": [
    {
     "name": "stdout",
     "output_type": "stream",
     "text": [
      "Erro treino:  436300.1242143347\n",
      "Erro teste:  368791.2127824433\n",
      "Score:  0.7748947260215369\n"
     ]
    }
   ],
   "source": [
    "knearest_reg = KNeighborsRegressor(20)\n",
    "knearest_reg.fit(X_train, y_train)\n",
    "predictions_knr = knearest_reg.predict(X_test)\n",
    "rmse_modelo(knearest_reg, predictions_knr, X_train,y_test,y_train )"
   ]
  },
  {
   "cell_type": "markdown",
   "metadata": {},
   "source": [
    "## Random Forest Regressor"
   ]
  },
  {
   "cell_type": "code",
   "execution_count": 319,
   "metadata": {},
   "outputs": [
    {
     "name": "stdout",
     "output_type": "stream",
     "text": [
      "Erro treino:  607239.575449278\n",
      "Erro teste:  486335.73658467014\n",
      "Score:  0.608531422582501\n"
     ]
    }
   ],
   "source": [
    "rf_reg = RandomForestRegressor(max_depth=4, min_samples_leaf=0.1, random_state=3)\n",
    "rf_reg.fit(X_train, y_train)\n",
    "predictions_rf = rf_reg.predict(X_test)\n",
    "rmse_modelo(rf_reg, predictions_rf, X_train,y_test,y_train )"
   ]
  },
  {
   "cell_type": "markdown",
   "metadata": {},
   "source": [
    "## Stacking Classifier"
   ]
  },
  {
   "cell_type": "code",
   "execution_count": 320,
   "metadata": {},
   "outputs": [
    {
     "name": "stdout",
     "output_type": "stream",
     "text": [
      "Erro treino:  410233.42318474245\n",
      "Erro teste:  354301.4625379223\n",
      "Score:  0.7922359362459734\n"
     ]
    }
   ],
   "source": [
    "estimators = [('LR' ,LinearRegression()), ('DT' ,DecisionTreeRegressor(max_depth=4, min_samples_leaf=0.1)), ('support_vector',SVR(kernel='rbf')),\n",
    "             ('KNreg' ,KNeighborsRegressor(20)), ('random_forest', RandomForestRegressor(max_depth=4, min_samples_leaf=0.1, random_state=3))]\n",
    "\n",
    "stacking = StackingRegressor(estimators=estimators, final_estimator=LinearRegression())\n",
    "\n",
    "\n",
    "stacking.fit(X_train, y_train)\n",
    "predictions_stacking = stacking.predict(X_test)\n",
    "\n",
    "rmse_modelo(stacking, predictions_stacking, X_train,y_test,y_train )"
   ]
  },
  {
   "cell_type": "markdown",
   "metadata": {},
   "source": [
    "## Light GBM"
   ]
  },
  {
   "cell_type": "code",
   "execution_count": 321,
   "metadata": {},
   "outputs": [
    {
     "name": "stdout",
     "output_type": "stream",
     "text": [
      "Erro treino:  190694.94186277394\n",
      "Erro teste:  348013.5315983435\n",
      "Score:  0.7995450419861463\n"
     ]
    }
   ],
   "source": [
    "lgbmr = LGBMRegressor()\n",
    "lgbmr.fit(X_train, y_train)\n",
    "predictions_lgbmr = lgbmr.predict(X_test)\n",
    "rmse_modelo(lgbmr, predictions_lgbmr, X_train,y_test,y_train )"
   ]
  },
  {
   "cell_type": "markdown",
   "metadata": {},
   "source": [
    "# PLOT POINT"
   ]
  },
  {
   "cell_type": "markdown",
   "metadata": {},
   "source": [
    "## DATA"
   ]
  },
  {
   "cell_type": "code",
   "execution_count": 340,
   "metadata": {},
   "outputs": [],
   "source": [
    "#loading api_key\n",
    "fkey = open('config.txt', 'r')\n",
    "api_key = fkey.read()\n"
   ]
  },
  {
   "cell_type": "code",
   "execution_count": 339,
   "metadata": {},
   "outputs": [],
   "source": [
    "import gmplot"
   ]
  },
  {
   "cell_type": "code",
   "execution_count": 347,
   "metadata": {},
   "outputs": [
    {
     "data": {
      "text/plain": [
       "array(['Bom Retiro', 'Casa Verde', 'Santa Cecilia',\n",
       "       'Vila Ester (Zona Norte)', 'Água Branca', 'Rua Prates', 'Perdizes',\n",
       "       'Campos Elíseos', 'Higienópolis', 'Parque Peruche'], dtype=object)"
      ]
     },
     "execution_count": 347,
     "metadata": {},
     "output_type": "execute_result"
    }
   ],
   "source": [
    "df_google['bairro'].unique()[:10]"
   ]
  },
  {
   "cell_type": "code",
   "execution_count": 341,
   "metadata": {},
   "outputs": [],
   "source": [
    "#quinto andar\n",
    "mask = (df['latitude_utm'] > 1) & (df['longitude_utm'] >1)\n",
    "df_plot = df.loc[mask,:]\n",
    "\n",
    "latitude_quinto = np.array(df_plot['latitude'])\n",
    "longitude_quinto = np.array(df_plot['longitude'])\n",
    "preco_quinto = np.array(df_plot['preco_total'])"
   ]
  },
  {
   "cell_type": "code",
   "execution_count": 342,
   "metadata": {},
   "outputs": [],
   "source": [
    "#loft\n",
    "latitude_loft = np.array(df_loft['latitude'])\n",
    "longitude_loft = np.array(df_loft['longitude'])"
   ]
  },
  {
   "cell_type": "code",
   "execution_count": 350,
   "metadata": {},
   "outputs": [],
   "source": [
    "#bairro condition\n",
    "mask =((df_google['bairro'] == 'Bela Vista') |\n",
    "       (df_google['bairro'] == 'Bom Retiro') |       \n",
    "       (df_google['bairro'] == 'Santa Cecilia') | \n",
    "       (df_google['bairro'] == 'Consolação')| \n",
    "       (df_google['bairro'] == 'Brás') |\n",
    "       (df_google['bairro'] == 'Cerqueira César') |\n",
    "       (df_google['bairro'] == 'Perdizes') |\n",
    "       (df_google['bairro'] == 'Sé') |\n",
    "       (df_google['bairro'] == 'Campos Elíseos') |\n",
    "       (df_google['bairro'] == 'Paraíso') |\n",
    "       (df_google['bairro'] == 'Liberdade')) \n",
    "\n",
    "df_google_plot = df_google.loc[mask,:]"
   ]
  },
  {
   "cell_type": "code",
   "execution_count": 353,
   "metadata": {},
   "outputs": [],
   "source": [
    "#google\n",
    "latitude_google = np.array(df_google['lat'])\n",
    "longitude_google = np.array(df_google['lng'])"
   ]
  },
  {
   "cell_type": "markdown",
   "metadata": {},
   "source": [
    "## PLOT"
   ]
  },
  {
   "cell_type": "code",
   "execution_count": 355,
   "metadata": {},
   "outputs": [],
   "source": [
    "gmap = gmplot.GoogleMapPlotter(-23.543340, -46.646122, zoom=13)\n",
    "#quinto andar\n",
    "gmap.scatter(latitude_quinto, longitude_quinto, c='blue',marker=False, symbol='o',s=5, ew=5)\n",
    "#loft\n",
    "gmap.scatter(latitude_loft, longitude_loft, c='orange',marker=False, symbol='o',s=5, ew=5)\n",
    "\n",
    "gmap.apikey = api_key\n",
    "gmap.draw(r\"data/mapa-quinto-loft.html\")"
   ]
  },
  {
   "cell_type": "code",
   "execution_count": 354,
   "metadata": {},
   "outputs": [],
   "source": [
    "gmap = gmplot.GoogleMapPlotter(-23.543340, -46.646122, zoom=13)\n",
    "#quinto andar\n",
    "gmap.scatter(latitude_quinto, longitude_quinto, c='blue',marker=False, symbol='o',s=5, ew=5)\n",
    "#loft\n",
    "gmap.scatter(latitude_loft, longitude_loft, c='orange',marker=False, symbol='o',s=5, ew=5)\n",
    "#google\n",
    "gmap.scatter(latitude_google, longitude_google, c='#3E9E44',marker=False, symbol='o',s=5, ew=5)\n",
    "\n",
    "gmap.apikey = api_key\n",
    "gmap.draw(r\"data/mapa-pontos-gerais.html\")"
   ]
  },
  {
   "cell_type": "code",
   "execution_count": 76,
   "metadata": {},
   "outputs": [],
   "source": [
    "gmap = gmplot.GoogleMapPlotter(-23.543340, -46.646122, zoom=100, map_type='satellite')\n",
    "#quinto andar\n",
    "gmap.scatter(latitude_quinto, longitude_quinto, c='blue',marker=False, symbol='o',s=5, ew=1)\n",
    "#loft\n",
    "gmap.scatter(latitude_loft, longitude_loft, c='orange',marker=False, symbol='o',s=5, ew=1)\n",
    "\n",
    "gmap.apikey = api_key\n",
    "gmap.draw(r\"data/mapa-pontos-aproximados.html\")"
   ]
  },
  {
   "cell_type": "markdown",
   "metadata": {},
   "source": [
    "# PONTOS MINHOCAO"
   ]
  },
  {
   "cell_type": "code",
   "execution_count": 360,
   "metadata": {},
   "outputs": [
    {
     "data": {
      "text/html": [
       "<div>\n",
       "<style scoped>\n",
       "    .dataframe tbody tr th:only-of-type {\n",
       "        vertical-align: middle;\n",
       "    }\n",
       "\n",
       "    .dataframe tbody tr th {\n",
       "        vertical-align: top;\n",
       "    }\n",
       "\n",
       "    .dataframe thead th {\n",
       "        text-align: right;\n",
       "    }\n",
       "</style>\n",
       "<table border=\"1\" class=\"dataframe\">\n",
       "  <thead>\n",
       "    <tr style=\"text-align: right;\">\n",
       "      <th></th>\n",
       "      <th>tipo_imovel</th>\n",
       "      <th>logradouro</th>\n",
       "      <th>bairro</th>\n",
       "      <th>numero</th>\n",
       "      <th>metragem</th>\n",
       "      <th>quartos</th>\n",
       "      <th>vaga</th>\n",
       "      <th>preco_total</th>\n",
       "      <th>longitude</th>\n",
       "      <th>latitude</th>\n",
       "      <th>...</th>\n",
       "      <th>lugares_comercio</th>\n",
       "      <th>lugares_cultura</th>\n",
       "      <th>lugares_saude</th>\n",
       "      <th>lugares_educacao</th>\n",
       "      <th>lugares_religiosos</th>\n",
       "      <th>lugares_parques</th>\n",
       "      <th>lugares_estadios</th>\n",
       "      <th>lugares_turismo</th>\n",
       "      <th>lugares_metro_trem</th>\n",
       "      <th>lugares_transporte</th>\n",
       "    </tr>\n",
       "  </thead>\n",
       "  <tbody>\n",
       "    <tr>\n",
       "      <th>139</th>\n",
       "      <td>apartamento</td>\n",
       "      <td>Rego Freitas</td>\n",
       "      <td>República</td>\n",
       "      <td>501</td>\n",
       "      <td>56</td>\n",
       "      <td>1</td>\n",
       "      <td>0</td>\n",
       "      <td>449000.0</td>\n",
       "      <td>-46.646608</td>\n",
       "      <td>-23.544739</td>\n",
       "      <td>...</td>\n",
       "      <td>345.0</td>\n",
       "      <td>243.0</td>\n",
       "      <td>31.0</td>\n",
       "      <td>349.0</td>\n",
       "      <td>117.0</td>\n",
       "      <td>1</td>\n",
       "      <td>0.0</td>\n",
       "      <td>537.0</td>\n",
       "      <td>1</td>\n",
       "      <td>0.0</td>\n",
       "    </tr>\n",
       "    <tr>\n",
       "      <th>1404</th>\n",
       "      <td>apartamento</td>\n",
       "      <td>Rego Freitas</td>\n",
       "      <td>República</td>\n",
       "      <td>507</td>\n",
       "      <td>40</td>\n",
       "      <td>1</td>\n",
       "      <td>0</td>\n",
       "      <td>220000.0</td>\n",
       "      <td>-46.646607</td>\n",
       "      <td>-23.545945</td>\n",
       "      <td>...</td>\n",
       "      <td>386.0</td>\n",
       "      <td>244.0</td>\n",
       "      <td>31.0</td>\n",
       "      <td>351.0</td>\n",
       "      <td>105.0</td>\n",
       "      <td>1</td>\n",
       "      <td>0.0</td>\n",
       "      <td>537.0</td>\n",
       "      <td>1</td>\n",
       "      <td>0.0</td>\n",
       "    </tr>\n",
       "    <tr>\n",
       "      <th>1774</th>\n",
       "      <td>apartamento</td>\n",
       "      <td>Rego Freitas</td>\n",
       "      <td>República</td>\n",
       "      <td>8E</td>\n",
       "      <td>73</td>\n",
       "      <td>3</td>\n",
       "      <td>0</td>\n",
       "      <td>450000.0</td>\n",
       "      <td>-46.646863</td>\n",
       "      <td>-23.546615</td>\n",
       "      <td>...</td>\n",
       "      <td>380.0</td>\n",
       "      <td>243.0</td>\n",
       "      <td>31.0</td>\n",
       "      <td>278.0</td>\n",
       "      <td>101.0</td>\n",
       "      <td>1</td>\n",
       "      <td>0.0</td>\n",
       "      <td>630.0</td>\n",
       "      <td>1</td>\n",
       "      <td>0.0</td>\n",
       "    </tr>\n",
       "  </tbody>\n",
       "</table>\n",
       "<p>3 rows × 26 columns</p>\n",
       "</div>"
      ],
      "text/plain": [
       "      tipo_imovel    logradouro     bairro numero  metragem  quartos  vaga  \\\n",
       "139   apartamento  Rego Freitas  República    501        56        1     0   \n",
       "1404  apartamento  Rego Freitas  República    507        40        1     0   \n",
       "1774  apartamento  Rego Freitas  República     8E        73        3     0   \n",
       "\n",
       "      preco_total  longitude   latitude  ... lugares_comercio  \\\n",
       "139      449000.0 -46.646608 -23.544739  ...            345.0   \n",
       "1404     220000.0 -46.646607 -23.545945  ...            386.0   \n",
       "1774     450000.0 -46.646863 -23.546615  ...            380.0   \n",
       "\n",
       "      lugares_cultura  lugares_saude  lugares_educacao  lugares_religiosos  \\\n",
       "139             243.0           31.0             349.0               117.0   \n",
       "1404            244.0           31.0             351.0               105.0   \n",
       "1774            243.0           31.0             278.0               101.0   \n",
       "\n",
       "      lugares_parques  lugares_estadios  lugares_turismo  lugares_metro_trem  \\\n",
       "139                 1               0.0            537.0                   1   \n",
       "1404                1               0.0            537.0                   1   \n",
       "1774                1               0.0            630.0                   1   \n",
       "\n",
       "      lugares_transporte  \n",
       "139                  0.0  \n",
       "1404                 0.0  \n",
       "1774                 0.0  \n",
       "\n",
       "[3 rows x 26 columns]"
      ]
     },
     "execution_count": 360,
     "metadata": {},
     "output_type": "execute_result"
    }
   ],
   "source": [
    "mask = df_loft['logradouro'] == 'Rego Freitas'\n",
    "df_loft.loc[mask,:]"
   ]
  },
  {
   "cell_type": "code",
   "execution_count": 361,
   "metadata": {},
   "outputs": [
    {
     "data": {
      "text/html": [
       "<div>\n",
       "<style scoped>\n",
       "    .dataframe tbody tr th:only-of-type {\n",
       "        vertical-align: middle;\n",
       "    }\n",
       "\n",
       "    .dataframe tbody tr th {\n",
       "        vertical-align: top;\n",
       "    }\n",
       "\n",
       "    .dataframe thead th {\n",
       "        text-align: right;\n",
       "    }\n",
       "</style>\n",
       "<table border=\"1\" class=\"dataframe\">\n",
       "  <thead>\n",
       "    <tr style=\"text-align: right;\">\n",
       "      <th></th>\n",
       "      <th>tipo_imovel</th>\n",
       "      <th>logradouro</th>\n",
       "      <th>bairro</th>\n",
       "      <th>numero</th>\n",
       "      <th>metragem</th>\n",
       "      <th>quartos</th>\n",
       "      <th>vaga</th>\n",
       "      <th>preco_total</th>\n",
       "      <th>longitude</th>\n",
       "      <th>latitude</th>\n",
       "      <th>...</th>\n",
       "      <th>lugares_comercio</th>\n",
       "      <th>lugares_cultura</th>\n",
       "      <th>lugares_saude</th>\n",
       "      <th>lugares_educacao</th>\n",
       "      <th>lugares_religiosos</th>\n",
       "      <th>lugares_parques</th>\n",
       "      <th>lugares_estadios</th>\n",
       "      <th>lugares_turismo</th>\n",
       "      <th>lugares_metro_trem</th>\n",
       "      <th>lugares_transporte</th>\n",
       "    </tr>\n",
       "  </thead>\n",
       "  <tbody>\n",
       "    <tr>\n",
       "      <th>81</th>\n",
       "      <td>apartamento</td>\n",
       "      <td>Marquês de Itu</td>\n",
       "      <td>República</td>\n",
       "      <td>141</td>\n",
       "      <td>37</td>\n",
       "      <td>1</td>\n",
       "      <td>1</td>\n",
       "      <td>300000.0</td>\n",
       "      <td>-46.646166</td>\n",
       "      <td>-23.544086</td>\n",
       "      <td>...</td>\n",
       "      <td>346.0</td>\n",
       "      <td>246.0</td>\n",
       "      <td>25.0</td>\n",
       "      <td>364.0</td>\n",
       "      <td>108.0</td>\n",
       "      <td>1</td>\n",
       "      <td>0.0</td>\n",
       "      <td>626.0</td>\n",
       "      <td>1</td>\n",
       "      <td>0.0</td>\n",
       "    </tr>\n",
       "  </tbody>\n",
       "</table>\n",
       "<p>1 rows × 26 columns</p>\n",
       "</div>"
      ],
      "text/plain": [
       "    tipo_imovel      logradouro     bairro numero  metragem  quartos  vaga  \\\n",
       "81  apartamento  Marquês de Itu  República    141        37        1     1   \n",
       "\n",
       "    preco_total  longitude   latitude  ... lugares_comercio  lugares_cultura  \\\n",
       "81     300000.0 -46.646166 -23.544086  ...            346.0            246.0   \n",
       "\n",
       "    lugares_saude  lugares_educacao  lugares_religiosos  lugares_parques  \\\n",
       "81           25.0             364.0               108.0                1   \n",
       "\n",
       "    lugares_estadios  lugares_turismo  lugares_metro_trem  lugares_transporte  \n",
       "81               0.0            626.0                   1                 0.0  \n",
       "\n",
       "[1 rows x 26 columns]"
      ]
     },
     "execution_count": 361,
     "metadata": {},
     "output_type": "execute_result"
    }
   ],
   "source": [
    "mask = df_loft['logradouro'] == 'Marquês de Itu'\n",
    "df_loft.loc[mask,:]"
   ]
  },
  {
   "cell_type": "markdown",
   "metadata": {},
   "source": [
    "## LOFT"
   ]
  },
  {
   "cell_type": "code",
   "execution_count": 383,
   "metadata": {
    "scrolled": true
   },
   "outputs": [],
   "source": [
    "df_loft_simulacao = df_loft.iloc[[139, 1404, 1774, 81],:]"
   ]
  },
  {
   "cell_type": "code",
   "execution_count": 470,
   "metadata": {
    "scrolled": true
   },
   "outputs": [
    {
     "name": "stderr",
     "output_type": "stream",
     "text": [
      "<ipython-input-470-33641701ebc0>:1: SettingWithCopyWarning: \n",
      "A value is trying to be set on a copy of a slice from a DataFrame.\n",
      "Try using .loc[row_indexer,col_indexer] = value instead\n",
      "\n",
      "See the caveats in the documentation: https://pandas.pydata.org/pandas-docs/stable/user_guide/indexing.html#returning-a-view-versus-a-copy\n",
      "  df_loft_simulacao['lugares_parques'] = 100\n"
     ]
    }
   ],
   "source": [
    "df_loft_simulacao['lugares_parques'] = 100"
   ]
  },
  {
   "cell_type": "code",
   "execution_count": 459,
   "metadata": {},
   "outputs": [],
   "source": [
    "#df_loft_simulacao.reset_index(inplace=True)"
   ]
  },
  {
   "cell_type": "code",
   "execution_count": 461,
   "metadata": {},
   "outputs": [],
   "source": [
    "df_loft2 = df_loft\n",
    "df_loft2 = df_loft2.drop(index=[139,1404,1774,81])"
   ]
  },
  {
   "cell_type": "code",
   "execution_count": 472,
   "metadata": {},
   "outputs": [],
   "source": [
    "X_predict = df_loft_simulacao[['metragem','quartos','vaga','lugares_comercio','lugares_alimentacao','lugares_servicos','lugares_saude','lugares_parques','latitude','longitude']]"
   ]
  },
  {
   "cell_type": "code",
   "execution_count": 473,
   "metadata": {},
   "outputs": [],
   "source": [
    "X = df_loft2[['metragem','quartos','vaga','lugares_comercio','lugares_alimentacao','lugares_servicos','lugares_saude','lugares_parques','latitude','longitude']]\n",
    "y = df_loft2['preco_total']\n",
    "\n",
    "\n",
    "scaler = StandardScaler()\n",
    "scaler.fit(X)\n",
    "X = scaler.transform(X)\n",
    "X_predict = scaler.transform(X_predict)"
   ]
  },
  {
   "cell_type": "code",
   "execution_count": 474,
   "metadata": {},
   "outputs": [],
   "source": [
    "knearest_reg = KNeighborsRegressor(20)\n",
    "knearest_reg.fit(X, y)\n",
    "predictions_knr = knearest_reg.predict(X_predict)\n"
   ]
  },
  {
   "cell_type": "code",
   "execution_count": 475,
   "metadata": {},
   "outputs": [
    {
     "data": {
      "text/plain": [
       "array([333650. , 334150. , 531248.5, 326150. ])"
      ]
     },
     "execution_count": 475,
     "metadata": {},
     "output_type": "execute_result"
    }
   ],
   "source": [
    "predictions_knr"
   ]
  },
  {
   "cell_type": "markdown",
   "metadata": {},
   "source": [
    "## QUINTO ANDAR "
   ]
  },
  {
   "cell_type": "code",
   "execution_count": 479,
   "metadata": {
    "scrolled": false
   },
   "outputs": [
    {
     "data": {
      "text/html": [
       "<div>\n",
       "<style scoped>\n",
       "    .dataframe tbody tr th:only-of-type {\n",
       "        vertical-align: middle;\n",
       "    }\n",
       "\n",
       "    .dataframe tbody tr th {\n",
       "        vertical-align: top;\n",
       "    }\n",
       "\n",
       "    .dataframe thead th {\n",
       "        text-align: right;\n",
       "    }\n",
       "</style>\n",
       "<table border=\"1\" class=\"dataframe\">\n",
       "  <thead>\n",
       "    <tr style=\"text-align: right;\">\n",
       "      <th></th>\n",
       "      <th>tipo_imovel</th>\n",
       "      <th>logradouro</th>\n",
       "      <th>bairro</th>\n",
       "      <th>numero</th>\n",
       "      <th>metragem</th>\n",
       "      <th>quartos</th>\n",
       "      <th>banheiros</th>\n",
       "      <th>vaga</th>\n",
       "      <th>preco_total</th>\n",
       "      <th>longitude</th>\n",
       "      <th>...</th>\n",
       "      <th>lugares_comercio</th>\n",
       "      <th>lugares_cultura</th>\n",
       "      <th>lugares_saude</th>\n",
       "      <th>lugares_religiosos</th>\n",
       "      <th>lugares_parques</th>\n",
       "      <th>lugares_estadios</th>\n",
       "      <th>lugares_educacao</th>\n",
       "      <th>lugares_metro_trem</th>\n",
       "      <th>lugares_turismo</th>\n",
       "      <th>lugares_transporte</th>\n",
       "    </tr>\n",
       "  </thead>\n",
       "  <tbody>\n",
       "    <tr>\n",
       "      <th>541</th>\n",
       "      <td>apartamento</td>\n",
       "      <td>Rua Amaral Gurgel</td>\n",
       "      <td>Santa Cecília</td>\n",
       "      <td>481.0</td>\n",
       "      <td>43</td>\n",
       "      <td>1</td>\n",
       "      <td>1</td>\n",
       "      <td>0.0</td>\n",
       "      <td>2330</td>\n",
       "      <td>-46.647674</td>\n",
       "      <td>...</td>\n",
       "      <td>410.0</td>\n",
       "      <td>250.0</td>\n",
       "      <td>93.0</td>\n",
       "      <td>127.0</td>\n",
       "      <td>253</td>\n",
       "      <td>0.0</td>\n",
       "      <td>405.0</td>\n",
       "      <td>401</td>\n",
       "      <td>600.0</td>\n",
       "      <td>0.0</td>\n",
       "    </tr>\n",
       "  </tbody>\n",
       "</table>\n",
       "<p>1 rows × 29 columns</p>\n",
       "</div>"
      ],
      "text/plain": [
       "     tipo_imovel         logradouro         bairro  numero  metragem  quartos  \\\n",
       "541  apartamento  Rua Amaral Gurgel  Santa Cecília   481.0        43        1   \n",
       "\n",
       "     banheiros  vaga  preco_total  longitude  ...  lugares_comercio  \\\n",
       "541          1   0.0         2330 -46.647674  ...             410.0   \n",
       "\n",
       "    lugares_cultura  lugares_saude  lugares_religiosos  lugares_parques  \\\n",
       "541           250.0           93.0               127.0              253   \n",
       "\n",
       "     lugares_estadios  lugares_educacao  lugares_metro_trem  lugares_turismo  \\\n",
       "541               0.0             405.0                 401            600.0   \n",
       "\n",
       "     lugares_transporte  \n",
       "541                 0.0  \n",
       "\n",
       "[1 rows x 29 columns]"
      ]
     },
     "execution_count": 479,
     "metadata": {},
     "output_type": "execute_result"
    }
   ],
   "source": [
    "mask = df_quinto['logradouro'] == 'Rua Amaral Gurgel'\n",
    "df_quinto.loc[mask,:]"
   ]
  },
  {
   "cell_type": "code",
   "execution_count": 481,
   "metadata": {
    "scrolled": true
   },
   "outputs": [
    {
     "data": {
      "text/html": [
       "<div>\n",
       "<style scoped>\n",
       "    .dataframe tbody tr th:only-of-type {\n",
       "        vertical-align: middle;\n",
       "    }\n",
       "\n",
       "    .dataframe tbody tr th {\n",
       "        vertical-align: top;\n",
       "    }\n",
       "\n",
       "    .dataframe thead th {\n",
       "        text-align: right;\n",
       "    }\n",
       "</style>\n",
       "<table border=\"1\" class=\"dataframe\">\n",
       "  <thead>\n",
       "    <tr style=\"text-align: right;\">\n",
       "      <th></th>\n",
       "      <th>tipo_imovel</th>\n",
       "      <th>logradouro</th>\n",
       "      <th>bairro</th>\n",
       "      <th>numero</th>\n",
       "      <th>metragem</th>\n",
       "      <th>quartos</th>\n",
       "      <th>banheiros</th>\n",
       "      <th>vaga</th>\n",
       "      <th>preco_total</th>\n",
       "      <th>longitude</th>\n",
       "      <th>...</th>\n",
       "      <th>lugares_comercio</th>\n",
       "      <th>lugares_cultura</th>\n",
       "      <th>lugares_saude</th>\n",
       "      <th>lugares_religiosos</th>\n",
       "      <th>lugares_parques</th>\n",
       "      <th>lugares_estadios</th>\n",
       "      <th>lugares_educacao</th>\n",
       "      <th>lugares_metro_trem</th>\n",
       "      <th>lugares_turismo</th>\n",
       "      <th>lugares_transporte</th>\n",
       "    </tr>\n",
       "  </thead>\n",
       "  <tbody>\n",
       "    <tr>\n",
       "      <th>536</th>\n",
       "      <td>apartamento</td>\n",
       "      <td>Rua Doutor Cesário Mota Júnior</td>\n",
       "      <td>Santa Cecília</td>\n",
       "      <td>284.0</td>\n",
       "      <td>40</td>\n",
       "      <td>1</td>\n",
       "      <td>1</td>\n",
       "      <td>0.0</td>\n",
       "      <td>2215</td>\n",
       "      <td>-46.649030</td>\n",
       "      <td>...</td>\n",
       "      <td>278.0</td>\n",
       "      <td>245.0</td>\n",
       "      <td>151.0</td>\n",
       "      <td>139.0</td>\n",
       "      <td>253</td>\n",
       "      <td>0.0</td>\n",
       "      <td>396.0</td>\n",
       "      <td>401</td>\n",
       "      <td>600.0</td>\n",
       "      <td>0.0</td>\n",
       "    </tr>\n",
       "    <tr>\n",
       "      <th>627</th>\n",
       "      <td>apartamento</td>\n",
       "      <td>Rua Doutor Cesário Mota Júnior</td>\n",
       "      <td>Santa Cecília</td>\n",
       "      <td>476.0</td>\n",
       "      <td>58</td>\n",
       "      <td>1</td>\n",
       "      <td>1</td>\n",
       "      <td>0.0</td>\n",
       "      <td>2212</td>\n",
       "      <td>-46.649263</td>\n",
       "      <td>...</td>\n",
       "      <td>290.0</td>\n",
       "      <td>247.0</td>\n",
       "      <td>151.0</td>\n",
       "      <td>118.0</td>\n",
       "      <td>253</td>\n",
       "      <td>0.0</td>\n",
       "      <td>383.0</td>\n",
       "      <td>401</td>\n",
       "      <td>600.0</td>\n",
       "      <td>0.0</td>\n",
       "    </tr>\n",
       "    <tr>\n",
       "      <th>628</th>\n",
       "      <td>apartamento</td>\n",
       "      <td>Rua Doutor Cesário Mota Júnior</td>\n",
       "      <td>Santa Cecília</td>\n",
       "      <td>476.0</td>\n",
       "      <td>73</td>\n",
       "      <td>2</td>\n",
       "      <td>1</td>\n",
       "      <td>1.0</td>\n",
       "      <td>2480</td>\n",
       "      <td>-46.649263</td>\n",
       "      <td>...</td>\n",
       "      <td>290.0</td>\n",
       "      <td>247.0</td>\n",
       "      <td>151.0</td>\n",
       "      <td>118.0</td>\n",
       "      <td>253</td>\n",
       "      <td>0.0</td>\n",
       "      <td>383.0</td>\n",
       "      <td>401</td>\n",
       "      <td>600.0</td>\n",
       "      <td>0.0</td>\n",
       "    </tr>\n",
       "  </tbody>\n",
       "</table>\n",
       "<p>3 rows × 29 columns</p>\n",
       "</div>"
      ],
      "text/plain": [
       "     tipo_imovel                      logradouro         bairro  numero  \\\n",
       "536  apartamento  Rua Doutor Cesário Mota Júnior  Santa Cecília   284.0   \n",
       "627  apartamento  Rua Doutor Cesário Mota Júnior  Santa Cecília   476.0   \n",
       "628  apartamento  Rua Doutor Cesário Mota Júnior  Santa Cecília   476.0   \n",
       "\n",
       "     metragem  quartos  banheiros  vaga  preco_total  longitude  ...  \\\n",
       "536        40        1          1   0.0         2215 -46.649030  ...   \n",
       "627        58        1          1   0.0         2212 -46.649263  ...   \n",
       "628        73        2          1   1.0         2480 -46.649263  ...   \n",
       "\n",
       "     lugares_comercio lugares_cultura  lugares_saude  lugares_religiosos  \\\n",
       "536             278.0           245.0          151.0               139.0   \n",
       "627             290.0           247.0          151.0               118.0   \n",
       "628             290.0           247.0          151.0               118.0   \n",
       "\n",
       "     lugares_parques  lugares_estadios  lugares_educacao  lugares_metro_trem  \\\n",
       "536              253               0.0             396.0                 401   \n",
       "627              253               0.0             383.0                 401   \n",
       "628              253               0.0             383.0                 401   \n",
       "\n",
       "     lugares_turismo  lugares_transporte  \n",
       "536            600.0                 0.0  \n",
       "627            600.0                 0.0  \n",
       "628            600.0                 0.0  \n",
       "\n",
       "[3 rows x 29 columns]"
      ]
     },
     "execution_count": 481,
     "metadata": {},
     "output_type": "execute_result"
    }
   ],
   "source": [
    "mask = df_quinto['logradouro'] == 'Rua Doutor Cesário Mota Júnior'\n",
    "df_quinto.loc[mask,:]"
   ]
  },
  {
   "cell_type": "code",
   "execution_count": 482,
   "metadata": {
    "scrolled": true
   },
   "outputs": [
    {
     "data": {
      "text/html": [
       "<div>\n",
       "<style scoped>\n",
       "    .dataframe tbody tr th:only-of-type {\n",
       "        vertical-align: middle;\n",
       "    }\n",
       "\n",
       "    .dataframe tbody tr th {\n",
       "        vertical-align: top;\n",
       "    }\n",
       "\n",
       "    .dataframe thead th {\n",
       "        text-align: right;\n",
       "    }\n",
       "</style>\n",
       "<table border=\"1\" class=\"dataframe\">\n",
       "  <thead>\n",
       "    <tr style=\"text-align: right;\">\n",
       "      <th></th>\n",
       "      <th>tipo_imovel</th>\n",
       "      <th>logradouro</th>\n",
       "      <th>bairro</th>\n",
       "      <th>numero</th>\n",
       "      <th>metragem</th>\n",
       "      <th>quartos</th>\n",
       "      <th>banheiros</th>\n",
       "      <th>vaga</th>\n",
       "      <th>preco_total</th>\n",
       "      <th>longitude</th>\n",
       "      <th>...</th>\n",
       "      <th>lugares_comercio</th>\n",
       "      <th>lugares_cultura</th>\n",
       "      <th>lugares_saude</th>\n",
       "      <th>lugares_religiosos</th>\n",
       "      <th>lugares_parques</th>\n",
       "      <th>lugares_estadios</th>\n",
       "      <th>lugares_educacao</th>\n",
       "      <th>lugares_metro_trem</th>\n",
       "      <th>lugares_turismo</th>\n",
       "      <th>lugares_transporte</th>\n",
       "    </tr>\n",
       "  </thead>\n",
       "  <tbody>\n",
       "    <tr>\n",
       "      <th>270</th>\n",
       "      <td>apartamento</td>\n",
       "      <td>Rua Major Sertório</td>\n",
       "      <td>Santa Cecília</td>\n",
       "      <td>440.0</td>\n",
       "      <td>53</td>\n",
       "      <td>1</td>\n",
       "      <td>2</td>\n",
       "      <td>0.0</td>\n",
       "      <td>2617</td>\n",
       "      <td>-46.648401</td>\n",
       "      <td>...</td>\n",
       "      <td>452.0</td>\n",
       "      <td>255.0</td>\n",
       "      <td>93.0</td>\n",
       "      <td>121.0</td>\n",
       "      <td>253</td>\n",
       "      <td>0.0</td>\n",
       "      <td>403.0</td>\n",
       "      <td>401</td>\n",
       "      <td>600.0</td>\n",
       "      <td>0.0</td>\n",
       "    </tr>\n",
       "  </tbody>\n",
       "</table>\n",
       "<p>1 rows × 29 columns</p>\n",
       "</div>"
      ],
      "text/plain": [
       "     tipo_imovel          logradouro         bairro  numero  metragem  \\\n",
       "270  apartamento  Rua Major Sertório  Santa Cecília   440.0        53   \n",
       "\n",
       "     quartos  banheiros  vaga  preco_total  longitude  ...  lugares_comercio  \\\n",
       "270        1          2   0.0         2617 -46.648401  ...             452.0   \n",
       "\n",
       "    lugares_cultura  lugares_saude  lugares_religiosos  lugares_parques  \\\n",
       "270           255.0           93.0               121.0              253   \n",
       "\n",
       "     lugares_estadios  lugares_educacao  lugares_metro_trem  lugares_turismo  \\\n",
       "270               0.0             403.0                 401            600.0   \n",
       "\n",
       "     lugares_transporte  \n",
       "270                 0.0  \n",
       "\n",
       "[1 rows x 29 columns]"
      ]
     },
     "execution_count": 482,
     "metadata": {},
     "output_type": "execute_result"
    }
   ],
   "source": [
    "mask = df_quinto['logradouro'] == 'Rua Major Sertório'\n",
    "df_quinto.loc[mask,:]"
   ]
  },
  {
   "cell_type": "code",
   "execution_count": 483,
   "metadata": {},
   "outputs": [
    {
     "data": {
      "text/html": [
       "<div>\n",
       "<style scoped>\n",
       "    .dataframe tbody tr th:only-of-type {\n",
       "        vertical-align: middle;\n",
       "    }\n",
       "\n",
       "    .dataframe tbody tr th {\n",
       "        vertical-align: top;\n",
       "    }\n",
       "\n",
       "    .dataframe thead th {\n",
       "        text-align: right;\n",
       "    }\n",
       "</style>\n",
       "<table border=\"1\" class=\"dataframe\">\n",
       "  <thead>\n",
       "    <tr style=\"text-align: right;\">\n",
       "      <th></th>\n",
       "      <th>tipo_imovel</th>\n",
       "      <th>logradouro</th>\n",
       "      <th>bairro</th>\n",
       "      <th>numero</th>\n",
       "      <th>metragem</th>\n",
       "      <th>quartos</th>\n",
       "      <th>banheiros</th>\n",
       "      <th>vaga</th>\n",
       "      <th>preco_total</th>\n",
       "      <th>longitude</th>\n",
       "      <th>...</th>\n",
       "      <th>lugares_comercio</th>\n",
       "      <th>lugares_cultura</th>\n",
       "      <th>lugares_saude</th>\n",
       "      <th>lugares_religiosos</th>\n",
       "      <th>lugares_parques</th>\n",
       "      <th>lugares_estadios</th>\n",
       "      <th>lugares_educacao</th>\n",
       "      <th>lugares_metro_trem</th>\n",
       "      <th>lugares_turismo</th>\n",
       "      <th>lugares_transporte</th>\n",
       "    </tr>\n",
       "  </thead>\n",
       "  <tbody>\n",
       "    <tr>\n",
       "      <th>543</th>\n",
       "      <td>apartamento</td>\n",
       "      <td>Rua Rêgo Freitas</td>\n",
       "      <td>Santa Cecília</td>\n",
       "      <td>354.0</td>\n",
       "      <td>20</td>\n",
       "      <td>1</td>\n",
       "      <td>1</td>\n",
       "      <td>0.0</td>\n",
       "      <td>2065</td>\n",
       "      <td>-46.646722</td>\n",
       "      <td>...</td>\n",
       "      <td>446.0</td>\n",
       "      <td>248.0</td>\n",
       "      <td>87.0</td>\n",
       "      <td>138.0</td>\n",
       "      <td>253</td>\n",
       "      <td>0.0</td>\n",
       "      <td>476.0</td>\n",
       "      <td>401</td>\n",
       "      <td>600.0</td>\n",
       "      <td>0.0</td>\n",
       "    </tr>\n",
       "  </tbody>\n",
       "</table>\n",
       "<p>1 rows × 29 columns</p>\n",
       "</div>"
      ],
      "text/plain": [
       "     tipo_imovel        logradouro         bairro  numero  metragem  quartos  \\\n",
       "543  apartamento  Rua Rêgo Freitas  Santa Cecília   354.0        20        1   \n",
       "\n",
       "     banheiros  vaga  preco_total  longitude  ...  lugares_comercio  \\\n",
       "543          1   0.0         2065 -46.646722  ...             446.0   \n",
       "\n",
       "    lugares_cultura  lugares_saude  lugares_religiosos  lugares_parques  \\\n",
       "543           248.0           87.0               138.0              253   \n",
       "\n",
       "     lugares_estadios  lugares_educacao  lugares_metro_trem  lugares_turismo  \\\n",
       "543               0.0             476.0                 401            600.0   \n",
       "\n",
       "     lugares_transporte  \n",
       "543                 0.0  \n",
       "\n",
       "[1 rows x 29 columns]"
      ]
     },
     "execution_count": 483,
     "metadata": {},
     "output_type": "execute_result"
    }
   ],
   "source": [
    "mask = df_quinto['logradouro'] == 'Rua Rêgo Freitas'\n",
    "df_quinto.loc[mask,:]"
   ]
  },
  {
   "cell_type": "code",
   "execution_count": 514,
   "metadata": {},
   "outputs": [
    {
     "data": {
      "text/html": [
       "<div>\n",
       "<style scoped>\n",
       "    .dataframe tbody tr th:only-of-type {\n",
       "        vertical-align: middle;\n",
       "    }\n",
       "\n",
       "    .dataframe tbody tr th {\n",
       "        vertical-align: top;\n",
       "    }\n",
       "\n",
       "    .dataframe thead th {\n",
       "        text-align: right;\n",
       "    }\n",
       "</style>\n",
       "<table border=\"1\" class=\"dataframe\">\n",
       "  <thead>\n",
       "    <tr style=\"text-align: right;\">\n",
       "      <th></th>\n",
       "      <th>tipo_imovel</th>\n",
       "      <th>logradouro</th>\n",
       "      <th>bairro</th>\n",
       "      <th>numero</th>\n",
       "      <th>metragem</th>\n",
       "      <th>quartos</th>\n",
       "      <th>banheiros</th>\n",
       "      <th>vaga</th>\n",
       "      <th>preco_total</th>\n",
       "      <th>longitude</th>\n",
       "      <th>...</th>\n",
       "      <th>lugares_comercio</th>\n",
       "      <th>lugares_cultura</th>\n",
       "      <th>lugares_saude</th>\n",
       "      <th>lugares_religiosos</th>\n",
       "      <th>lugares_parques</th>\n",
       "      <th>lugares_estadios</th>\n",
       "      <th>lugares_educacao</th>\n",
       "      <th>lugares_metro_trem</th>\n",
       "      <th>lugares_turismo</th>\n",
       "      <th>lugares_transporte</th>\n",
       "    </tr>\n",
       "  </thead>\n",
       "  <tbody>\n",
       "    <tr>\n",
       "      <th>541</th>\n",
       "      <td>apartamento</td>\n",
       "      <td>Rua Amaral Gurgel</td>\n",
       "      <td>Santa Cecília</td>\n",
       "      <td>481.0</td>\n",
       "      <td>43</td>\n",
       "      <td>1</td>\n",
       "      <td>1</td>\n",
       "      <td>0.0</td>\n",
       "      <td>2330</td>\n",
       "      <td>-46.647674</td>\n",
       "      <td>...</td>\n",
       "      <td>410.0</td>\n",
       "      <td>250.0</td>\n",
       "      <td>93.0</td>\n",
       "      <td>127.0</td>\n",
       "      <td>253</td>\n",
       "      <td>0.0</td>\n",
       "      <td>405.0</td>\n",
       "      <td>401</td>\n",
       "      <td>600.0</td>\n",
       "      <td>0.0</td>\n",
       "    </tr>\n",
       "    <tr>\n",
       "      <th>627</th>\n",
       "      <td>apartamento</td>\n",
       "      <td>Rua Doutor Cesário Mota Júnior</td>\n",
       "      <td>Santa Cecília</td>\n",
       "      <td>476.0</td>\n",
       "      <td>58</td>\n",
       "      <td>1</td>\n",
       "      <td>1</td>\n",
       "      <td>0.0</td>\n",
       "      <td>2212</td>\n",
       "      <td>-46.649263</td>\n",
       "      <td>...</td>\n",
       "      <td>290.0</td>\n",
       "      <td>247.0</td>\n",
       "      <td>151.0</td>\n",
       "      <td>118.0</td>\n",
       "      <td>253</td>\n",
       "      <td>0.0</td>\n",
       "      <td>383.0</td>\n",
       "      <td>401</td>\n",
       "      <td>600.0</td>\n",
       "      <td>0.0</td>\n",
       "    </tr>\n",
       "    <tr>\n",
       "      <th>543</th>\n",
       "      <td>apartamento</td>\n",
       "      <td>Rua Rêgo Freitas</td>\n",
       "      <td>Santa Cecília</td>\n",
       "      <td>354.0</td>\n",
       "      <td>20</td>\n",
       "      <td>1</td>\n",
       "      <td>1</td>\n",
       "      <td>0.0</td>\n",
       "      <td>2065</td>\n",
       "      <td>-46.646722</td>\n",
       "      <td>...</td>\n",
       "      <td>446.0</td>\n",
       "      <td>248.0</td>\n",
       "      <td>87.0</td>\n",
       "      <td>138.0</td>\n",
       "      <td>253</td>\n",
       "      <td>0.0</td>\n",
       "      <td>476.0</td>\n",
       "      <td>401</td>\n",
       "      <td>600.0</td>\n",
       "      <td>0.0</td>\n",
       "    </tr>\n",
       "    <tr>\n",
       "      <th>270</th>\n",
       "      <td>apartamento</td>\n",
       "      <td>Rua Major Sertório</td>\n",
       "      <td>Santa Cecília</td>\n",
       "      <td>440.0</td>\n",
       "      <td>53</td>\n",
       "      <td>1</td>\n",
       "      <td>2</td>\n",
       "      <td>0.0</td>\n",
       "      <td>2617</td>\n",
       "      <td>-46.648401</td>\n",
       "      <td>...</td>\n",
       "      <td>452.0</td>\n",
       "      <td>255.0</td>\n",
       "      <td>93.0</td>\n",
       "      <td>121.0</td>\n",
       "      <td>253</td>\n",
       "      <td>0.0</td>\n",
       "      <td>403.0</td>\n",
       "      <td>401</td>\n",
       "      <td>600.0</td>\n",
       "      <td>0.0</td>\n",
       "    </tr>\n",
       "  </tbody>\n",
       "</table>\n",
       "<p>4 rows × 29 columns</p>\n",
       "</div>"
      ],
      "text/plain": [
       "     tipo_imovel                      logradouro         bairro  numero  \\\n",
       "541  apartamento               Rua Amaral Gurgel  Santa Cecília   481.0   \n",
       "627  apartamento  Rua Doutor Cesário Mota Júnior  Santa Cecília   476.0   \n",
       "543  apartamento                Rua Rêgo Freitas  Santa Cecília   354.0   \n",
       "270  apartamento              Rua Major Sertório  Santa Cecília   440.0   \n",
       "\n",
       "     metragem  quartos  banheiros  vaga  preco_total  longitude  ...  \\\n",
       "541        43        1          1   0.0         2330 -46.647674  ...   \n",
       "627        58        1          1   0.0         2212 -46.649263  ...   \n",
       "543        20        1          1   0.0         2065 -46.646722  ...   \n",
       "270        53        1          2   0.0         2617 -46.648401  ...   \n",
       "\n",
       "     lugares_comercio lugares_cultura  lugares_saude  lugares_religiosos  \\\n",
       "541             410.0           250.0           93.0               127.0   \n",
       "627             290.0           247.0          151.0               118.0   \n",
       "543             446.0           248.0           87.0               138.0   \n",
       "270             452.0           255.0           93.0               121.0   \n",
       "\n",
       "     lugares_parques  lugares_estadios  lugares_educacao  lugares_metro_trem  \\\n",
       "541              253               0.0             405.0                 401   \n",
       "627              253               0.0             383.0                 401   \n",
       "543              253               0.0             476.0                 401   \n",
       "270              253               0.0             403.0                 401   \n",
       "\n",
       "     lugares_turismo  lugares_transporte  \n",
       "541            600.0                 0.0  \n",
       "627            600.0                 0.0  \n",
       "543            600.0                 0.0  \n",
       "270            600.0                 0.0  \n",
       "\n",
       "[4 rows x 29 columns]"
      ]
     },
     "execution_count": 514,
     "metadata": {},
     "output_type": "execute_result"
    }
   ],
   "source": [
    "df_quinto_simulacao_q = df_quinto.loc[[541,627,543,270],:]\n",
    "df_quinto_simulacao_q.head()"
   ]
  },
  {
   "cell_type": "code",
   "execution_count": 516,
   "metadata": {},
   "outputs": [],
   "source": [
    "df_quinto_simulacao_q['lugares_parques'] = 100"
   ]
  },
  {
   "cell_type": "code",
   "execution_count": 517,
   "metadata": {},
   "outputs": [],
   "source": [
    "df_quinto2 = df_quinto\n",
    "df_quinto2 = df_quinto2.drop(index=[541,627,543,270])"
   ]
  },
  {
   "cell_type": "code",
   "execution_count": 518,
   "metadata": {},
   "outputs": [
    {
     "data": {
      "text/html": [
       "<div>\n",
       "<style scoped>\n",
       "    .dataframe tbody tr th:only-of-type {\n",
       "        vertical-align: middle;\n",
       "    }\n",
       "\n",
       "    .dataframe tbody tr th {\n",
       "        vertical-align: top;\n",
       "    }\n",
       "\n",
       "    .dataframe thead th {\n",
       "        text-align: right;\n",
       "    }\n",
       "</style>\n",
       "<table border=\"1\" class=\"dataframe\">\n",
       "  <thead>\n",
       "    <tr style=\"text-align: right;\">\n",
       "      <th></th>\n",
       "      <th>metragem</th>\n",
       "      <th>quartos</th>\n",
       "      <th>banheiros</th>\n",
       "      <th>vaga</th>\n",
       "      <th>lugares_alimentacao</th>\n",
       "      <th>lugares_servicos</th>\n",
       "      <th>lugares_saude</th>\n",
       "      <th>lugares_parques</th>\n",
       "    </tr>\n",
       "  </thead>\n",
       "  <tbody>\n",
       "    <tr>\n",
       "      <th>541</th>\n",
       "      <td>43</td>\n",
       "      <td>1</td>\n",
       "      <td>1</td>\n",
       "      <td>0.0</td>\n",
       "      <td>328.0</td>\n",
       "      <td>147.0</td>\n",
       "      <td>93.0</td>\n",
       "      <td>100</td>\n",
       "    </tr>\n",
       "    <tr>\n",
       "      <th>627</th>\n",
       "      <td>58</td>\n",
       "      <td>1</td>\n",
       "      <td>1</td>\n",
       "      <td>0.0</td>\n",
       "      <td>318.0</td>\n",
       "      <td>136.0</td>\n",
       "      <td>151.0</td>\n",
       "      <td>100</td>\n",
       "    </tr>\n",
       "    <tr>\n",
       "      <th>543</th>\n",
       "      <td>20</td>\n",
       "      <td>1</td>\n",
       "      <td>1</td>\n",
       "      <td>0.0</td>\n",
       "      <td>292.0</td>\n",
       "      <td>146.0</td>\n",
       "      <td>87.0</td>\n",
       "      <td>100</td>\n",
       "    </tr>\n",
       "    <tr>\n",
       "      <th>270</th>\n",
       "      <td>53</td>\n",
       "      <td>1</td>\n",
       "      <td>2</td>\n",
       "      <td>0.0</td>\n",
       "      <td>308.0</td>\n",
       "      <td>149.0</td>\n",
       "      <td>93.0</td>\n",
       "      <td>100</td>\n",
       "    </tr>\n",
       "  </tbody>\n",
       "</table>\n",
       "</div>"
      ],
      "text/plain": [
       "     metragem  quartos  banheiros  vaga  lugares_alimentacao  \\\n",
       "541        43        1          1   0.0                328.0   \n",
       "627        58        1          1   0.0                318.0   \n",
       "543        20        1          1   0.0                292.0   \n",
       "270        53        1          2   0.0                308.0   \n",
       "\n",
       "     lugares_servicos  lugares_saude  lugares_parques  \n",
       "541             147.0           93.0              100  \n",
       "627             136.0          151.0              100  \n",
       "543             146.0           87.0              100  \n",
       "270             149.0           93.0              100  "
      ]
     },
     "execution_count": 518,
     "metadata": {},
     "output_type": "execute_result"
    }
   ],
   "source": [
    "X_predict = df_quinto_simulacao_q[['metragem','quartos','banheiros','vaga','lugares_alimentacao','lugares_servicos','lugares_saude','lugares_parques']]\n",
    "X_predict"
   ]
  },
  {
   "cell_type": "code",
   "execution_count": null,
   "metadata": {},
   "outputs": [],
   "source": []
  },
  {
   "cell_type": "code",
   "execution_count": 519,
   "metadata": {},
   "outputs": [],
   "source": [
    "X = df_quinto2[['metragem','quartos','banheiros','vaga','lugares_alimentacao','lugares_servicos','lugares_saude','lugares_parques']]\n",
    "y = df_quinto2['preco_total']\n",
    "\n",
    "scaler = StandardScaler()\n",
    "scaler.fit(X)\n",
    "X = scaler.transform(X)\n",
    "X_predict = scaler.transform(X_predict)"
   ]
  },
  {
   "cell_type": "code",
   "execution_count": 520,
   "metadata": {},
   "outputs": [
    {
     "data": {
      "text/plain": [
       "array([2643.15, 2579.4 , 2408.4 , 2605.65])"
      ]
     },
     "execution_count": 520,
     "metadata": {},
     "output_type": "execute_result"
    }
   ],
   "source": [
    "knearest_reg = KNeighborsRegressor(20)\n",
    "knearest_reg.fit(X, y)\n",
    "predictions_knr = knearest_reg.predict(X_predict)\n",
    "predictions_knr"
   ]
  },
  {
   "cell_type": "code",
   "execution_count": null,
   "metadata": {},
   "outputs": [],
   "source": []
  },
  {
   "cell_type": "markdown",
   "metadata": {},
   "source": [
    "# SIMILARIDADES"
   ]
  },
  {
   "cell_type": "code",
   "execution_count": 546,
   "metadata": {},
   "outputs": [],
   "source": [
    "X = df_quinto[['metragem','quartos','banheiros','vaga','lugares_alimentacao','lugares_servicos','lugares_saude','lugares_parques']]\n",
    "y = df_quinto['preco_total']\n",
    "\n",
    "\n",
    "scaler = StandardScaler()\n",
    "scaler.fit(X)\n",
    "X = scaler.transform(X)\n"
   ]
  },
  {
   "cell_type": "code",
   "execution_count": 552,
   "metadata": {},
   "outputs": [],
   "source": [
    "knearest_reg = KNeighborsRegressor(20)\n",
    "knearest_reg.fit(X, y)\n",
    "predictions_knr = knearest_reg.predict(X)"
   ]
  },
  {
   "cell_type": "code",
   "execution_count": 553,
   "metadata": {},
   "outputs": [],
   "source": [
    "A = knearest_reg.kneighbors_graph().toarray()"
   ]
  },
  {
   "cell_type": "code",
   "execution_count": null,
   "metadata": {},
   "outputs": [],
   "source": []
  },
  {
   "cell_type": "code",
   "execution_count": 554,
   "metadata": {},
   "outputs": [
    {
     "data": {
      "text/plain": [
       "array([[1.        , 0.28989795, 0.21089672, ..., 0.13652706, 0.13652706,\n",
       "        0.13652706],\n",
       "       [0.28989795, 1.        , 0.22400924, ..., 0.13652706, 0.13652706,\n",
       "        0.13652706],\n",
       "       [0.21089672, 0.22400924, 1.        , ..., 0.13652706, 0.13652706,\n",
       "        0.13652706],\n",
       "       ...,\n",
       "       [0.13652706, 0.13652706, 0.13652706, ..., 1.        , 0.13652706,\n",
       "        0.13652706],\n",
       "       [0.13652706, 0.13652706, 0.13652706, ..., 0.13652706, 1.        ,\n",
       "        0.13652706],\n",
       "       [0.13652706, 0.13652706, 0.13652706, ..., 0.13652706, 0.13652706,\n",
       "        1.        ]])"
      ]
     },
     "execution_count": 554,
     "metadata": {},
     "output_type": "execute_result"
    }
   ],
   "source": [
    "distancias = 1 / (1 + squareform(pdist(A)))\n",
    "distancias"
   ]
  },
  {
   "cell_type": "code",
   "execution_count": 555,
   "metadata": {},
   "outputs": [],
   "source": [
    "df_distancias_matrix = pd.DataFrame(distancias)"
   ]
  },
  {
   "cell_type": "code",
   "execution_count": 556,
   "metadata": {},
   "outputs": [
    {
     "data": {
      "text/plain": [
       "625"
      ]
     },
     "execution_count": 556,
     "metadata": {},
     "output_type": "execute_result"
    }
   ],
   "source": [
    "len(df_distancias_matrix.columns)"
   ]
  },
  {
   "cell_type": "code",
   "execution_count": 557,
   "metadata": {},
   "outputs": [
    {
     "data": {
      "text/plain": [
       "625"
      ]
     },
     "execution_count": 557,
     "metadata": {},
     "output_type": "execute_result"
    }
   ],
   "source": [
    "len(df_distancias_matrix.columns)"
   ]
  },
  {
   "cell_type": "code",
   "execution_count": 558,
   "metadata": {},
   "outputs": [],
   "source": [
    "lista_comparacao = []\n",
    "for coluna in range(len(df_distancias_matrix.columns)):\n",
    "    linha = 0\n",
    "    for row in df_distancias_matrix.loc[:,coluna]:\n",
    "        itens = (coluna , linha , row)\n",
    "        lista_comparacao.append(itens)\n",
    "        linha += 1"
   ]
  },
  {
   "cell_type": "code",
   "execution_count": 559,
   "metadata": {},
   "outputs": [],
   "source": [
    "df_distancias = pd.DataFrame(lista_comparacao, columns=['ap1','ap2','distancia'])"
   ]
  },
  {
   "cell_type": "code",
   "execution_count": 565,
   "metadata": {},
   "outputs": [],
   "source": [
    "df_distancias = df_distancias.loc[(df_distancias['distancia'] < 1),:]"
   ]
  },
  {
   "cell_type": "code",
   "execution_count": 571,
   "metadata": {},
   "outputs": [
    {
     "data": {
      "text/html": [
       "<div>\n",
       "<style scoped>\n",
       "    .dataframe tbody tr th:only-of-type {\n",
       "        vertical-align: middle;\n",
       "    }\n",
       "\n",
       "    .dataframe tbody tr th {\n",
       "        vertical-align: top;\n",
       "    }\n",
       "\n",
       "    .dataframe thead th {\n",
       "        text-align: right;\n",
       "    }\n",
       "</style>\n",
       "<table border=\"1\" class=\"dataframe\">\n",
       "  <thead>\n",
       "    <tr style=\"text-align: right;\">\n",
       "      <th></th>\n",
       "      <th>ap1</th>\n",
       "      <th>ap2</th>\n",
       "      <th>distancia</th>\n",
       "    </tr>\n",
       "  </thead>\n",
       "  <tbody>\n",
       "    <tr>\n",
       "      <th>195313</th>\n",
       "      <td>312</td>\n",
       "      <td>313</td>\n",
       "      <td>0.414214</td>\n",
       "    </tr>\n",
       "    <tr>\n",
       "      <th>321865</th>\n",
       "      <td>514</td>\n",
       "      <td>615</td>\n",
       "      <td>0.414214</td>\n",
       "    </tr>\n",
       "    <tr>\n",
       "      <th>219260</th>\n",
       "      <td>350</td>\n",
       "      <td>510</td>\n",
       "      <td>0.414214</td>\n",
       "    </tr>\n",
       "    <tr>\n",
       "      <th>216694</th>\n",
       "      <td>346</td>\n",
       "      <td>444</td>\n",
       "      <td>0.414214</td>\n",
       "    </tr>\n",
       "    <tr>\n",
       "      <th>211683</th>\n",
       "      <td>338</td>\n",
       "      <td>433</td>\n",
       "      <td>0.414214</td>\n",
       "    </tr>\n",
       "    <tr>\n",
       "      <th>208451</th>\n",
       "      <td>333</td>\n",
       "      <td>326</td>\n",
       "      <td>0.414214</td>\n",
       "    </tr>\n",
       "    <tr>\n",
       "      <th>204083</th>\n",
       "      <td>326</td>\n",
       "      <td>333</td>\n",
       "      <td>0.414214</td>\n",
       "    </tr>\n",
       "    <tr>\n",
       "      <th>1255</th>\n",
       "      <td>2</td>\n",
       "      <td>5</td>\n",
       "      <td>0.414214</td>\n",
       "    </tr>\n",
       "    <tr>\n",
       "      <th>202190</th>\n",
       "      <td>323</td>\n",
       "      <td>315</td>\n",
       "      <td>0.414214</td>\n",
       "    </tr>\n",
       "    <tr>\n",
       "      <th>202152</th>\n",
       "      <td>323</td>\n",
       "      <td>277</td>\n",
       "      <td>0.414214</td>\n",
       "    </tr>\n",
       "  </tbody>\n",
       "</table>\n",
       "</div>"
      ],
      "text/plain": [
       "        ap1  ap2  distancia\n",
       "195313  312  313   0.414214\n",
       "321865  514  615   0.414214\n",
       "219260  350  510   0.414214\n",
       "216694  346  444   0.414214\n",
       "211683  338  433   0.414214\n",
       "208451  333  326   0.414214\n",
       "204083  326  333   0.414214\n",
       "1255      2    5   0.414214\n",
       "202190  323  315   0.414214\n",
       "202152  323  277   0.414214"
      ]
     },
     "execution_count": 571,
     "metadata": {},
     "output_type": "execute_result"
    }
   ],
   "source": [
    "df_distancias.sort_values('distancia',ascending=False).head(10)"
   ]
  },
  {
   "cell_type": "code",
   "execution_count": 578,
   "metadata": {},
   "outputs": [
    {
     "data": {
      "text/html": [
       "<div>\n",
       "<style scoped>\n",
       "    .dataframe tbody tr th:only-of-type {\n",
       "        vertical-align: middle;\n",
       "    }\n",
       "\n",
       "    .dataframe tbody tr th {\n",
       "        vertical-align: top;\n",
       "    }\n",
       "\n",
       "    .dataframe thead th {\n",
       "        text-align: right;\n",
       "    }\n",
       "</style>\n",
       "<table border=\"1\" class=\"dataframe\">\n",
       "  <thead>\n",
       "    <tr style=\"text-align: right;\">\n",
       "      <th></th>\n",
       "      <th>tipo_imovel</th>\n",
       "      <th>logradouro</th>\n",
       "      <th>bairro</th>\n",
       "      <th>numero</th>\n",
       "      <th>metragem</th>\n",
       "      <th>quartos</th>\n",
       "      <th>banheiros</th>\n",
       "      <th>vaga</th>\n",
       "      <th>preco_total</th>\n",
       "      <th>longitude</th>\n",
       "      <th>...</th>\n",
       "      <th>lugares_comercio</th>\n",
       "      <th>lugares_cultura</th>\n",
       "      <th>lugares_saude</th>\n",
       "      <th>lugares_religiosos</th>\n",
       "      <th>lugares_parques</th>\n",
       "      <th>lugares_estadios</th>\n",
       "      <th>lugares_educacao</th>\n",
       "      <th>lugares_metro_trem</th>\n",
       "      <th>lugares_turismo</th>\n",
       "      <th>lugares_transporte</th>\n",
       "    </tr>\n",
       "  </thead>\n",
       "  <tbody>\n",
       "    <tr>\n",
       "      <th>514</th>\n",
       "      <td>apartamento</td>\n",
       "      <td>Alameda Franca</td>\n",
       "      <td>Jardim Paulista</td>\n",
       "      <td>1645.0</td>\n",
       "      <td>40</td>\n",
       "      <td>1</td>\n",
       "      <td>1</td>\n",
       "      <td>1.0</td>\n",
       "      <td>3423</td>\n",
       "      <td>-46.667716</td>\n",
       "      <td>...</td>\n",
       "      <td>170.0</td>\n",
       "      <td>166.0</td>\n",
       "      <td>162.0</td>\n",
       "      <td>31.0</td>\n",
       "      <td>253</td>\n",
       "      <td>0.0</td>\n",
       "      <td>69.0</td>\n",
       "      <td>401</td>\n",
       "      <td>174.0</td>\n",
       "      <td>0.0</td>\n",
       "    </tr>\n",
       "    <tr>\n",
       "      <th>615</th>\n",
       "      <td>apartamento</td>\n",
       "      <td>Rua Rodovalho da Fonseca</td>\n",
       "      <td>Pari</td>\n",
       "      <td>343.0</td>\n",
       "      <td>65</td>\n",
       "      <td>2</td>\n",
       "      <td>2</td>\n",
       "      <td>1.0</td>\n",
       "      <td>3450</td>\n",
       "      <td>-46.609282</td>\n",
       "      <td>...</td>\n",
       "      <td>6.0</td>\n",
       "      <td>0.0</td>\n",
       "      <td>12.0</td>\n",
       "      <td>29.0</td>\n",
       "      <td>253</td>\n",
       "      <td>148.0</td>\n",
       "      <td>36.0</td>\n",
       "      <td>401</td>\n",
       "      <td>0.0</td>\n",
       "      <td>0.0</td>\n",
       "    </tr>\n",
       "  </tbody>\n",
       "</table>\n",
       "<p>2 rows × 29 columns</p>\n",
       "</div>"
      ],
      "text/plain": [
       "     tipo_imovel                logradouro           bairro  numero  metragem  \\\n",
       "514  apartamento            Alameda Franca  Jardim Paulista  1645.0        40   \n",
       "615  apartamento  Rua Rodovalho da Fonseca             Pari   343.0        65   \n",
       "\n",
       "     quartos  banheiros  vaga  preco_total  longitude  ...  lugares_comercio  \\\n",
       "514        1          1   1.0         3423 -46.667716  ...             170.0   \n",
       "615        2          2   1.0         3450 -46.609282  ...               6.0   \n",
       "\n",
       "    lugares_cultura  lugares_saude  lugares_religiosos  lugares_parques  \\\n",
       "514           166.0          162.0                31.0              253   \n",
       "615             0.0           12.0                29.0              253   \n",
       "\n",
       "     lugares_estadios  lugares_educacao  lugares_metro_trem  lugares_turismo  \\\n",
       "514               0.0              69.0                 401            174.0   \n",
       "615             148.0              36.0                 401              0.0   \n",
       "\n",
       "     lugares_transporte  \n",
       "514                 0.0  \n",
       "615                 0.0  \n",
       "\n",
       "[2 rows x 29 columns]"
      ]
     },
     "execution_count": 578,
     "metadata": {},
     "output_type": "execute_result"
    }
   ],
   "source": [
    "df_quinto.loc[[514,615],:]"
   ]
  },
  {
   "cell_type": "code",
   "execution_count": 576,
   "metadata": {
    "scrolled": true
   },
   "outputs": [
    {
     "data": {
      "text/html": [
       "<div>\n",
       "<style scoped>\n",
       "    .dataframe tbody tr th:only-of-type {\n",
       "        vertical-align: middle;\n",
       "    }\n",
       "\n",
       "    .dataframe tbody tr th {\n",
       "        vertical-align: top;\n",
       "    }\n",
       "\n",
       "    .dataframe thead th {\n",
       "        text-align: right;\n",
       "    }\n",
       "</style>\n",
       "<table border=\"1\" class=\"dataframe\">\n",
       "  <thead>\n",
       "    <tr style=\"text-align: right;\">\n",
       "      <th></th>\n",
       "      <th>tipo_imovel</th>\n",
       "      <th>logradouro</th>\n",
       "      <th>bairro</th>\n",
       "      <th>numero</th>\n",
       "      <th>metragem</th>\n",
       "      <th>quartos</th>\n",
       "      <th>banheiros</th>\n",
       "      <th>vaga</th>\n",
       "      <th>preco_total</th>\n",
       "      <th>longitude</th>\n",
       "      <th>...</th>\n",
       "      <th>lugares_comercio</th>\n",
       "      <th>lugares_cultura</th>\n",
       "      <th>lugares_saude</th>\n",
       "      <th>lugares_religiosos</th>\n",
       "      <th>lugares_parques</th>\n",
       "      <th>lugares_estadios</th>\n",
       "      <th>lugares_educacao</th>\n",
       "      <th>lugares_metro_trem</th>\n",
       "      <th>lugares_turismo</th>\n",
       "      <th>lugares_transporte</th>\n",
       "    </tr>\n",
       "  </thead>\n",
       "  <tbody>\n",
       "    <tr>\n",
       "      <th>350</th>\n",
       "      <td>apartamento</td>\n",
       "      <td>Rua Campos Sales</td>\n",
       "      <td>Brás</td>\n",
       "      <td>147.0</td>\n",
       "      <td>78</td>\n",
       "      <td>2</td>\n",
       "      <td>1</td>\n",
       "      <td>1.0</td>\n",
       "      <td>2650</td>\n",
       "      <td>-46.619122</td>\n",
       "      <td>...</td>\n",
       "      <td>86.0</td>\n",
       "      <td>140.0</td>\n",
       "      <td>10.0</td>\n",
       "      <td>61.0</td>\n",
       "      <td>253</td>\n",
       "      <td>0.0</td>\n",
       "      <td>0.0</td>\n",
       "      <td>401</td>\n",
       "      <td>183.0</td>\n",
       "      <td>6.0</td>\n",
       "    </tr>\n",
       "    <tr>\n",
       "      <th>510</th>\n",
       "      <td>apartamento</td>\n",
       "      <td>Rua Herculano de Freitas</td>\n",
       "      <td>Consolação</td>\n",
       "      <td>249.0</td>\n",
       "      <td>40</td>\n",
       "      <td>1</td>\n",
       "      <td>1</td>\n",
       "      <td>1.0</td>\n",
       "      <td>2413</td>\n",
       "      <td>-46.653807</td>\n",
       "      <td>...</td>\n",
       "      <td>296.0</td>\n",
       "      <td>367.0</td>\n",
       "      <td>267.0</td>\n",
       "      <td>81.0</td>\n",
       "      <td>253</td>\n",
       "      <td>0.0</td>\n",
       "      <td>154.0</td>\n",
       "      <td>401</td>\n",
       "      <td>180.0</td>\n",
       "      <td>84.0</td>\n",
       "    </tr>\n",
       "  </tbody>\n",
       "</table>\n",
       "<p>2 rows × 29 columns</p>\n",
       "</div>"
      ],
      "text/plain": [
       "     tipo_imovel                logradouro      bairro  numero  metragem  \\\n",
       "350  apartamento          Rua Campos Sales        Brás   147.0        78   \n",
       "510  apartamento  Rua Herculano de Freitas  Consolação   249.0        40   \n",
       "\n",
       "     quartos  banheiros  vaga  preco_total  longitude  ...  lugares_comercio  \\\n",
       "350        2          1   1.0         2650 -46.619122  ...              86.0   \n",
       "510        1          1   1.0         2413 -46.653807  ...             296.0   \n",
       "\n",
       "    lugares_cultura  lugares_saude  lugares_religiosos  lugares_parques  \\\n",
       "350           140.0           10.0                61.0              253   \n",
       "510           367.0          267.0                81.0              253   \n",
       "\n",
       "     lugares_estadios  lugares_educacao  lugares_metro_trem  lugares_turismo  \\\n",
       "350               0.0               0.0                 401            183.0   \n",
       "510               0.0             154.0                 401            180.0   \n",
       "\n",
       "     lugares_transporte  \n",
       "350                 6.0  \n",
       "510                84.0  \n",
       "\n",
       "[2 rows x 29 columns]"
      ]
     },
     "execution_count": 576,
     "metadata": {},
     "output_type": "execute_result"
    }
   ],
   "source": [
    "df_quinto.loc[[350,510],:]"
   ]
  },
  {
   "cell_type": "code",
   "execution_count": 574,
   "metadata": {
    "scrolled": true
   },
   "outputs": [
    {
     "data": {
      "text/html": [
       "<div>\n",
       "<style scoped>\n",
       "    .dataframe tbody tr th:only-of-type {\n",
       "        vertical-align: middle;\n",
       "    }\n",
       "\n",
       "    .dataframe tbody tr th {\n",
       "        vertical-align: top;\n",
       "    }\n",
       "\n",
       "    .dataframe thead th {\n",
       "        text-align: right;\n",
       "    }\n",
       "</style>\n",
       "<table border=\"1\" class=\"dataframe\">\n",
       "  <thead>\n",
       "    <tr style=\"text-align: right;\">\n",
       "      <th></th>\n",
       "      <th>tipo_imovel</th>\n",
       "      <th>logradouro</th>\n",
       "      <th>bairro</th>\n",
       "      <th>numero</th>\n",
       "      <th>metragem</th>\n",
       "      <th>quartos</th>\n",
       "      <th>banheiros</th>\n",
       "      <th>vaga</th>\n",
       "      <th>preco_total</th>\n",
       "      <th>longitude</th>\n",
       "      <th>...</th>\n",
       "      <th>lugares_comercio</th>\n",
       "      <th>lugares_cultura</th>\n",
       "      <th>lugares_saude</th>\n",
       "      <th>lugares_religiosos</th>\n",
       "      <th>lugares_parques</th>\n",
       "      <th>lugares_estadios</th>\n",
       "      <th>lugares_educacao</th>\n",
       "      <th>lugares_metro_trem</th>\n",
       "      <th>lugares_turismo</th>\n",
       "      <th>lugares_transporte</th>\n",
       "    </tr>\n",
       "  </thead>\n",
       "  <tbody>\n",
       "    <tr>\n",
       "      <th>323</th>\n",
       "      <td>apartamento</td>\n",
       "      <td>Rua Cayowaá</td>\n",
       "      <td>Sumaré</td>\n",
       "      <td>2046.0</td>\n",
       "      <td>110</td>\n",
       "      <td>3</td>\n",
       "      <td>3</td>\n",
       "      <td>2.0</td>\n",
       "      <td>5814</td>\n",
       "      <td>-46.688550</td>\n",
       "      <td>...</td>\n",
       "      <td>16.0</td>\n",
       "      <td>26.0</td>\n",
       "      <td>38.0</td>\n",
       "      <td>41.0</td>\n",
       "      <td>253</td>\n",
       "      <td>0.0</td>\n",
       "      <td>0.0</td>\n",
       "      <td>401</td>\n",
       "      <td>0.0</td>\n",
       "      <td>5.0</td>\n",
       "    </tr>\n",
       "    <tr>\n",
       "      <th>277</th>\n",
       "      <td>apartamento</td>\n",
       "      <td>Alameda Itu</td>\n",
       "      <td>Jardim Paulista</td>\n",
       "      <td>1030.0</td>\n",
       "      <td>115</td>\n",
       "      <td>2</td>\n",
       "      <td>2</td>\n",
       "      <td>1.0</td>\n",
       "      <td>7320</td>\n",
       "      <td>-46.662372</td>\n",
       "      <td>...</td>\n",
       "      <td>317.0</td>\n",
       "      <td>393.0</td>\n",
       "      <td>159.0</td>\n",
       "      <td>47.0</td>\n",
       "      <td>253</td>\n",
       "      <td>0.0</td>\n",
       "      <td>156.0</td>\n",
       "      <td>401</td>\n",
       "      <td>275.0</td>\n",
       "      <td>0.0</td>\n",
       "    </tr>\n",
       "  </tbody>\n",
       "</table>\n",
       "<p>2 rows × 29 columns</p>\n",
       "</div>"
      ],
      "text/plain": [
       "     tipo_imovel   logradouro           bairro  numero  metragem  quartos  \\\n",
       "323  apartamento  Rua Cayowaá           Sumaré  2046.0       110        3   \n",
       "277  apartamento  Alameda Itu  Jardim Paulista  1030.0       115        2   \n",
       "\n",
       "     banheiros  vaga  preco_total  longitude  ...  lugares_comercio  \\\n",
       "323          3   2.0         5814 -46.688550  ...              16.0   \n",
       "277          2   1.0         7320 -46.662372  ...             317.0   \n",
       "\n",
       "    lugares_cultura  lugares_saude  lugares_religiosos  lugares_parques  \\\n",
       "323            26.0           38.0                41.0              253   \n",
       "277           393.0          159.0                47.0              253   \n",
       "\n",
       "     lugares_estadios  lugares_educacao  lugares_metro_trem  lugares_turismo  \\\n",
       "323               0.0               0.0                 401              0.0   \n",
       "277               0.0             156.0                 401            275.0   \n",
       "\n",
       "     lugares_transporte  \n",
       "323                 5.0  \n",
       "277                 0.0  \n",
       "\n",
       "[2 rows x 29 columns]"
      ]
     },
     "execution_count": 574,
     "metadata": {},
     "output_type": "execute_result"
    }
   ],
   "source": [
    "df_quinto.loc[[323,277],:]"
   ]
  },
  {
   "cell_type": "code",
   "execution_count": 573,
   "metadata": {},
   "outputs": [
    {
     "data": {
      "text/html": [
       "<div>\n",
       "<style scoped>\n",
       "    .dataframe tbody tr th:only-of-type {\n",
       "        vertical-align: middle;\n",
       "    }\n",
       "\n",
       "    .dataframe tbody tr th {\n",
       "        vertical-align: top;\n",
       "    }\n",
       "\n",
       "    .dataframe thead th {\n",
       "        text-align: right;\n",
       "    }\n",
       "</style>\n",
       "<table border=\"1\" class=\"dataframe\">\n",
       "  <thead>\n",
       "    <tr style=\"text-align: right;\">\n",
       "      <th></th>\n",
       "      <th>tipo_imovel</th>\n",
       "      <th>logradouro</th>\n",
       "      <th>bairro</th>\n",
       "      <th>numero</th>\n",
       "      <th>metragem</th>\n",
       "      <th>quartos</th>\n",
       "      <th>banheiros</th>\n",
       "      <th>vaga</th>\n",
       "      <th>preco_total</th>\n",
       "      <th>longitude</th>\n",
       "      <th>...</th>\n",
       "      <th>lugares_comercio</th>\n",
       "      <th>lugares_cultura</th>\n",
       "      <th>lugares_saude</th>\n",
       "      <th>lugares_religiosos</th>\n",
       "      <th>lugares_parques</th>\n",
       "      <th>lugares_estadios</th>\n",
       "      <th>lugares_educacao</th>\n",
       "      <th>lugares_metro_trem</th>\n",
       "      <th>lugares_turismo</th>\n",
       "      <th>lugares_transporte</th>\n",
       "    </tr>\n",
       "  </thead>\n",
       "  <tbody>\n",
       "    <tr>\n",
       "      <th>323</th>\n",
       "      <td>apartamento</td>\n",
       "      <td>Rua Cayowaá</td>\n",
       "      <td>Sumaré</td>\n",
       "      <td>2046.0</td>\n",
       "      <td>110</td>\n",
       "      <td>3</td>\n",
       "      <td>3</td>\n",
       "      <td>2.0</td>\n",
       "      <td>5814</td>\n",
       "      <td>-46.68855</td>\n",
       "      <td>...</td>\n",
       "      <td>16.0</td>\n",
       "      <td>26.0</td>\n",
       "      <td>38.0</td>\n",
       "      <td>41.0</td>\n",
       "      <td>253</td>\n",
       "      <td>0.0</td>\n",
       "      <td>0.0</td>\n",
       "      <td>401</td>\n",
       "      <td>0.0</td>\n",
       "      <td>5.0</td>\n",
       "    </tr>\n",
       "    <tr>\n",
       "      <th>315</th>\n",
       "      <td>casa</td>\n",
       "      <td>Rua Carmine Forte</td>\n",
       "      <td>Bom Retiro</td>\n",
       "      <td>39.0</td>\n",
       "      <td>150</td>\n",
       "      <td>3</td>\n",
       "      <td>2</td>\n",
       "      <td>0.0</td>\n",
       "      <td>2135</td>\n",
       "      <td>-46.63876</td>\n",
       "      <td>...</td>\n",
       "      <td>94.0</td>\n",
       "      <td>291.0</td>\n",
       "      <td>13.0</td>\n",
       "      <td>120.0</td>\n",
       "      <td>253</td>\n",
       "      <td>3.0</td>\n",
       "      <td>0.0</td>\n",
       "      <td>401</td>\n",
       "      <td>0.0</td>\n",
       "      <td>0.0</td>\n",
       "    </tr>\n",
       "  </tbody>\n",
       "</table>\n",
       "<p>2 rows × 29 columns</p>\n",
       "</div>"
      ],
      "text/plain": [
       "     tipo_imovel         logradouro      bairro  numero  metragem  quartos  \\\n",
       "323  apartamento        Rua Cayowaá      Sumaré  2046.0       110        3   \n",
       "315         casa  Rua Carmine Forte  Bom Retiro    39.0       150        3   \n",
       "\n",
       "     banheiros  vaga  preco_total  longitude  ...  lugares_comercio  \\\n",
       "323          3   2.0         5814  -46.68855  ...              16.0   \n",
       "315          2   0.0         2135  -46.63876  ...              94.0   \n",
       "\n",
       "    lugares_cultura  lugares_saude  lugares_religiosos  lugares_parques  \\\n",
       "323            26.0           38.0                41.0              253   \n",
       "315           291.0           13.0               120.0              253   \n",
       "\n",
       "     lugares_estadios  lugares_educacao  lugares_metro_trem  lugares_turismo  \\\n",
       "323               0.0               0.0                 401              0.0   \n",
       "315               3.0               0.0                 401              0.0   \n",
       "\n",
       "     lugares_transporte  \n",
       "323                 5.0  \n",
       "315                 0.0  \n",
       "\n",
       "[2 rows x 29 columns]"
      ]
     },
     "execution_count": 573,
     "metadata": {},
     "output_type": "execute_result"
    }
   ],
   "source": [
    "df_quinto.loc[[323,315],:]"
   ]
  },
  {
   "cell_type": "code",
   "execution_count": 568,
   "metadata": {},
   "outputs": [
    {
     "data": {
      "text/html": [
       "<div>\n",
       "<style scoped>\n",
       "    .dataframe tbody tr th:only-of-type {\n",
       "        vertical-align: middle;\n",
       "    }\n",
       "\n",
       "    .dataframe tbody tr th {\n",
       "        vertical-align: top;\n",
       "    }\n",
       "\n",
       "    .dataframe thead th {\n",
       "        text-align: right;\n",
       "    }\n",
       "</style>\n",
       "<table border=\"1\" class=\"dataframe\">\n",
       "  <thead>\n",
       "    <tr style=\"text-align: right;\">\n",
       "      <th></th>\n",
       "      <th>tipo_imovel</th>\n",
       "      <th>logradouro</th>\n",
       "      <th>bairro</th>\n",
       "      <th>numero</th>\n",
       "      <th>metragem</th>\n",
       "      <th>quartos</th>\n",
       "      <th>banheiros</th>\n",
       "      <th>vaga</th>\n",
       "      <th>preco_total</th>\n",
       "      <th>longitude</th>\n",
       "      <th>...</th>\n",
       "      <th>lugares_comercio</th>\n",
       "      <th>lugares_cultura</th>\n",
       "      <th>lugares_saude</th>\n",
       "      <th>lugares_religiosos</th>\n",
       "      <th>lugares_parques</th>\n",
       "      <th>lugares_estadios</th>\n",
       "      <th>lugares_educacao</th>\n",
       "      <th>lugares_metro_trem</th>\n",
       "      <th>lugares_turismo</th>\n",
       "      <th>lugares_transporte</th>\n",
       "    </tr>\n",
       "  </thead>\n",
       "  <tbody>\n",
       "    <tr>\n",
       "      <th>350</th>\n",
       "      <td>apartamento</td>\n",
       "      <td>Rua Campos Sales</td>\n",
       "      <td>Brás</td>\n",
       "      <td>147.0</td>\n",
       "      <td>78</td>\n",
       "      <td>2</td>\n",
       "      <td>1</td>\n",
       "      <td>1.0</td>\n",
       "      <td>2650</td>\n",
       "      <td>-46.619122</td>\n",
       "      <td>...</td>\n",
       "      <td>86.0</td>\n",
       "      <td>140.0</td>\n",
       "      <td>10.0</td>\n",
       "      <td>61.0</td>\n",
       "      <td>253</td>\n",
       "      <td>0.0</td>\n",
       "      <td>0.0</td>\n",
       "      <td>401</td>\n",
       "      <td>183.0</td>\n",
       "      <td>6.0</td>\n",
       "    </tr>\n",
       "    <tr>\n",
       "      <th>510</th>\n",
       "      <td>apartamento</td>\n",
       "      <td>Rua Herculano de Freitas</td>\n",
       "      <td>Consolação</td>\n",
       "      <td>249.0</td>\n",
       "      <td>40</td>\n",
       "      <td>1</td>\n",
       "      <td>1</td>\n",
       "      <td>1.0</td>\n",
       "      <td>2413</td>\n",
       "      <td>-46.653807</td>\n",
       "      <td>...</td>\n",
       "      <td>296.0</td>\n",
       "      <td>367.0</td>\n",
       "      <td>267.0</td>\n",
       "      <td>81.0</td>\n",
       "      <td>253</td>\n",
       "      <td>0.0</td>\n",
       "      <td>154.0</td>\n",
       "      <td>401</td>\n",
       "      <td>180.0</td>\n",
       "      <td>84.0</td>\n",
       "    </tr>\n",
       "  </tbody>\n",
       "</table>\n",
       "<p>2 rows × 29 columns</p>\n",
       "</div>"
      ],
      "text/plain": [
       "     tipo_imovel                logradouro      bairro  numero  metragem  \\\n",
       "350  apartamento          Rua Campos Sales        Brás   147.0        78   \n",
       "510  apartamento  Rua Herculano de Freitas  Consolação   249.0        40   \n",
       "\n",
       "     quartos  banheiros  vaga  preco_total  longitude  ...  lugares_comercio  \\\n",
       "350        2          1   1.0         2650 -46.619122  ...              86.0   \n",
       "510        1          1   1.0         2413 -46.653807  ...             296.0   \n",
       "\n",
       "    lugares_cultura  lugares_saude  lugares_religiosos  lugares_parques  \\\n",
       "350           140.0           10.0                61.0              253   \n",
       "510           367.0          267.0                81.0              253   \n",
       "\n",
       "     lugares_estadios  lugares_educacao  lugares_metro_trem  lugares_turismo  \\\n",
       "350               0.0               0.0                 401            183.0   \n",
       "510               0.0             154.0                 401            180.0   \n",
       "\n",
       "     lugares_transporte  \n",
       "350                 6.0  \n",
       "510                84.0  \n",
       "\n",
       "[2 rows x 29 columns]"
      ]
     },
     "execution_count": 568,
     "metadata": {},
     "output_type": "execute_result"
    }
   ],
   "source": [
    "df_quinto.loc[[350,510 ],:]"
   ]
  },
  {
   "cell_type": "code",
   "execution_count": 594,
   "metadata": {},
   "outputs": [],
   "source": [
    "df_plot = df_plot.drop_duplicates()"
   ]
  },
  {
   "cell_type": "code",
   "execution_count": null,
   "metadata": {},
   "outputs": [],
   "source": [
    "'lugares_alimentacao','lugares_servicos','lugares_saude','lugares_parques'"
   ]
  },
  {
   "cell_type": "code",
   "execution_count": 600,
   "metadata": {},
   "outputs": [],
   "source": [
    "df_plot = df_plot[['tipo_imovel', 'logradouro', 'bairro', 'numero', 'metragem', 'quartos','banheiros', 'vaga', 'preco_total','lugares_alimentacao','lugares_servicos','lugares_saude','lugares_parques']]\n"
   ]
  },
  {
   "cell_type": "code",
   "execution_count": 603,
   "metadata": {
    "scrolled": true
   },
   "outputs": [],
   "source": [
    "df_plot =df_plot.rename(columns={'lugares_alimentacao':'alimentacao', 'lugares_servicos':'servicos','lugares_saude':'saude','lugares_parques':'parques' })"
   ]
  },
  {
   "cell_type": "code",
   "execution_count": 604,
   "metadata": {},
   "outputs": [
    {
     "data": {
      "text/html": [
       "<div>\n",
       "<style scoped>\n",
       "    .dataframe tbody tr th:only-of-type {\n",
       "        vertical-align: middle;\n",
       "    }\n",
       "\n",
       "    .dataframe tbody tr th {\n",
       "        vertical-align: top;\n",
       "    }\n",
       "\n",
       "    .dataframe thead th {\n",
       "        text-align: right;\n",
       "    }\n",
       "</style>\n",
       "<table border=\"1\" class=\"dataframe\">\n",
       "  <thead>\n",
       "    <tr style=\"text-align: right;\">\n",
       "      <th></th>\n",
       "      <th>tipo_imovel</th>\n",
       "      <th>logradouro</th>\n",
       "      <th>bairro</th>\n",
       "      <th>numero</th>\n",
       "      <th>metragem</th>\n",
       "      <th>quartos</th>\n",
       "      <th>banheiros</th>\n",
       "      <th>vaga</th>\n",
       "      <th>preco_total</th>\n",
       "      <th>alimentacao</th>\n",
       "      <th>servicos</th>\n",
       "      <th>saude</th>\n",
       "      <th>parques</th>\n",
       "    </tr>\n",
       "  </thead>\n",
       "  <tbody>\n",
       "    <tr>\n",
       "      <th>514</th>\n",
       "      <td>apartamento</td>\n",
       "      <td>Alameda Franca</td>\n",
       "      <td>Jardim Paulista</td>\n",
       "      <td>1645</td>\n",
       "      <td>40</td>\n",
       "      <td>1</td>\n",
       "      <td>1</td>\n",
       "      <td>1</td>\n",
       "      <td>3423</td>\n",
       "      <td>205.0</td>\n",
       "      <td>66.0</td>\n",
       "      <td>162.0</td>\n",
       "      <td>44.0</td>\n",
       "    </tr>\n",
       "    <tr>\n",
       "      <th>615</th>\n",
       "      <td>apartamento</td>\n",
       "      <td>Rua Rodovalho da Fonseca</td>\n",
       "      <td>Pari</td>\n",
       "      <td>343</td>\n",
       "      <td>65</td>\n",
       "      <td>2</td>\n",
       "      <td>2</td>\n",
       "      <td>1</td>\n",
       "      <td>3450</td>\n",
       "      <td>18.0</td>\n",
       "      <td>34.0</td>\n",
       "      <td>12.0</td>\n",
       "      <td>21.0</td>\n",
       "    </tr>\n",
       "    <tr>\n",
       "      <th>350</th>\n",
       "      <td>apartamento</td>\n",
       "      <td>Rua Campos Sales</td>\n",
       "      <td>Brás</td>\n",
       "      <td>147</td>\n",
       "      <td>78</td>\n",
       "      <td>2</td>\n",
       "      <td>1</td>\n",
       "      <td>1</td>\n",
       "      <td>2650</td>\n",
       "      <td>29.0</td>\n",
       "      <td>30.0</td>\n",
       "      <td>10.0</td>\n",
       "      <td>27.0</td>\n",
       "    </tr>\n",
       "    <tr>\n",
       "      <th>510</th>\n",
       "      <td>apartamento</td>\n",
       "      <td>Rua Herculano de Freitas</td>\n",
       "      <td>Consolação</td>\n",
       "      <td>249</td>\n",
       "      <td>40</td>\n",
       "      <td>1</td>\n",
       "      <td>1</td>\n",
       "      <td>1</td>\n",
       "      <td>2413</td>\n",
       "      <td>264.0</td>\n",
       "      <td>134.0</td>\n",
       "      <td>267.0</td>\n",
       "      <td>95.0</td>\n",
       "    </tr>\n",
       "    <tr>\n",
       "      <th>323</th>\n",
       "      <td>apartamento</td>\n",
       "      <td>Rua Cayowaá</td>\n",
       "      <td>Sumaré</td>\n",
       "      <td>2046</td>\n",
       "      <td>110</td>\n",
       "      <td>3</td>\n",
       "      <td>3</td>\n",
       "      <td>2</td>\n",
       "      <td>5814</td>\n",
       "      <td>87.0</td>\n",
       "      <td>36.0</td>\n",
       "      <td>38.0</td>\n",
       "      <td>63.0</td>\n",
       "    </tr>\n",
       "    <tr>\n",
       "      <th>277</th>\n",
       "      <td>apartamento</td>\n",
       "      <td>Alameda Itu</td>\n",
       "      <td>Jardim Paulista</td>\n",
       "      <td>1030</td>\n",
       "      <td>115</td>\n",
       "      <td>2</td>\n",
       "      <td>2</td>\n",
       "      <td>1</td>\n",
       "      <td>7320</td>\n",
       "      <td>236.0</td>\n",
       "      <td>122.0</td>\n",
       "      <td>159.0</td>\n",
       "      <td>86.0</td>\n",
       "    </tr>\n",
       "    <tr>\n",
       "      <th>315</th>\n",
       "      <td>casa</td>\n",
       "      <td>Rua Carmine Forte</td>\n",
       "      <td>Bom Retiro</td>\n",
       "      <td>39</td>\n",
       "      <td>150</td>\n",
       "      <td>3</td>\n",
       "      <td>2</td>\n",
       "      <td>0</td>\n",
       "      <td>2135</td>\n",
       "      <td>138.0</td>\n",
       "      <td>88.0</td>\n",
       "      <td>13.0</td>\n",
       "      <td>23.0</td>\n",
       "    </tr>\n",
       "  </tbody>\n",
       "</table>\n",
       "</div>"
      ],
      "text/plain": [
       "     tipo_imovel                logradouro           bairro  numero  metragem  \\\n",
       "514  apartamento            Alameda Franca  Jardim Paulista    1645        40   \n",
       "615  apartamento  Rua Rodovalho da Fonseca             Pari     343        65   \n",
       "350  apartamento          Rua Campos Sales             Brás     147        78   \n",
       "510  apartamento  Rua Herculano de Freitas       Consolação     249        40   \n",
       "323  apartamento               Rua Cayowaá           Sumaré    2046       110   \n",
       "277  apartamento               Alameda Itu  Jardim Paulista    1030       115   \n",
       "315         casa         Rua Carmine Forte       Bom Retiro      39       150   \n",
       "\n",
       "     quartos  banheiros  vaga  preco_total  alimentacao  servicos  saude  \\\n",
       "514        1          1     1         3423        205.0      66.0  162.0   \n",
       "615        2          2     1         3450         18.0      34.0   12.0   \n",
       "350        2          1     1         2650         29.0      30.0   10.0   \n",
       "510        1          1     1         2413        264.0     134.0  267.0   \n",
       "323        3          3     2         5814         87.0      36.0   38.0   \n",
       "277        2          2     1         7320        236.0     122.0  159.0   \n",
       "315        3          2     0         2135        138.0      88.0   13.0   \n",
       "\n",
       "     parques  \n",
       "514     44.0  \n",
       "615     21.0  \n",
       "350     27.0  \n",
       "510     95.0  \n",
       "323     63.0  \n",
       "277     86.0  \n",
       "315     23.0  "
      ]
     },
     "execution_count": 604,
     "metadata": {},
     "output_type": "execute_result"
    }
   ],
   "source": [
    "df_plot"
   ]
  },
  {
   "cell_type": "code",
   "execution_count": 597,
   "metadata": {},
   "outputs": [
    {
     "data": {
      "text/plain": [
       "Index(['tipo_imovel', 'logradouro', 'bairro', 'numero', 'metragem', 'quartos',\n",
       "       'banheiros', 'vaga', 'preco_total', 'longitude', 'latitude', 'ruas',\n",
       "       'latitude_utm', 'longitude_utm', 'latitude_utm.1', 'longitude_utm.1',\n",
       "       'lugares_alimentacao', 'outros', 'lugares_servicos', 'lugares_comercio',\n",
       "       'lugares_cultura', 'lugares_saude', 'lugares_religiosos',\n",
       "       'lugares_parques', 'lugares_estadios', 'lugares_educacao',\n",
       "       'lugares_metro_trem', 'lugares_turismo', 'lugares_transporte'],\n",
       "      dtype='object')"
      ]
     },
     "execution_count": 597,
     "metadata": {},
     "output_type": "execute_result"
    }
   ],
   "source": [
    "df_plot.columns"
   ]
  },
  {
   "cell_type": "code",
   "execution_count": 588,
   "metadata": {},
   "outputs": [],
   "source": [
    "def to_float(row):\n",
    "    return int(row)"
   ]
  },
  {
   "cell_type": "code",
   "execution_count": 591,
   "metadata": {},
   "outputs": [],
   "source": [
    "df_plot['numero'] = df_plot['numero'].apply(to_float)\n",
    "df_plot['vaga'] = df_plot['vaga'].apply(to_float)\n",
    "df_plot['vaga'] = df_plot['vaga'].apply(to_float)\n",
    "\n",
    "\n"
   ]
  },
  {
   "cell_type": "code",
   "execution_count": 583,
   "metadata": {},
   "outputs": [],
   "source": [
    "#quinto andar\n",
    "lista_index_semelhantes = [514,615,350,510,323,277,323,315]\n",
    "df_plot = df.loc[lista_index_semelhantes,:]\n",
    "\n",
    "latitude_quinto = np.array(df_plot['latitude'])\n",
    "longitude_quinto = np.array(df_plot['longitude'])"
   ]
  },
  {
   "cell_type": "code",
   "execution_count": 584,
   "metadata": {},
   "outputs": [],
   "source": [
    "gmap = gmplot.GoogleMapPlotter(-23.543340, -46.646122, zoom=13)\n",
    "#quinto andar\n",
    "gmap.scatter(latitude_quinto, longitude_quinto, c='blue',marker=False, symbol='o',s=5, ew=5)\n",
    "\n",
    "gmap.apikey = api_key\n",
    "gmap.draw(r\"data/similar.html\")"
   ]
  },
  {
   "cell_type": "code",
   "execution_count": null,
   "metadata": {},
   "outputs": [],
   "source": []
  }
 ],
 "metadata": {
  "kernelspec": {
   "display_name": "Python 3",
   "language": "python",
   "name": "python3"
  },
  "language_info": {
   "codemirror_mode": {
    "name": "ipython",
    "version": 3
   },
   "file_extension": ".py",
   "mimetype": "text/x-python",
   "name": "python",
   "nbconvert_exporter": "python",
   "pygments_lexer": "ipython3",
   "version": "3.8.5"
  },
  "toc": {
   "base_numbering": 1,
   "nav_menu": {},
   "number_sections": true,
   "sideBar": true,
   "skip_h1_title": false,
   "title_cell": "Table of Contents",
   "title_sidebar": "Contents",
   "toc_cell": false,
   "toc_position": {
    "height": "calc(100% - 180px)",
    "left": "10px",
    "top": "150px",
    "width": "245px"
   },
   "toc_section_display": true,
   "toc_window_display": true
  }
 },
 "nbformat": 4,
 "nbformat_minor": 4
}
